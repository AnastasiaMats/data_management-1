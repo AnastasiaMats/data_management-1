{
 "cells": [
  {
   "cell_type": "code",
   "execution_count": 2,
   "metadata": {},
   "outputs": [],
   "source": [
    "from matplotlib import pyplot as plt\n",
    "import pandas as pd\n",
    "\n",
    "%matplotlib inline"
   ]
  },
  {
   "cell_type": "markdown",
   "metadata": {},
   "source": [
    "# Статистика 01.04 - 05.04\n",
    "\n",
    "Сравниваем, как изменяется распределение со временем"
   ]
  },
  {
   "cell_type": "code",
   "execution_count": 49,
   "metadata": {},
   "outputs": [
    {
     "name": "stdout",
     "output_type": "stream",
     "text": [
      "128\t3\t219\t2020-04-06\t24678\r\n",
      "128\t3\t220\t2020-04-06\t24678\r\n",
      "128\t3\t177\t2020-04-06\t24678\r\n",
      "237\t3\t197\t2020-04-06\t24208\r\n",
      "248\t2\t234\t2020-04-06\t24208\r\n",
      "248\t2\t179\t2020-04-06\t24208\r\n",
      "248\t2\t169\t2020-04-06\t24208\r\n",
      "248\t2\t227\t2020-04-06\t24208\r\n",
      "248\t2\t147\t2020-04-06\t24208\r\n",
      "289\t2\t235\t2020-04-06\t24208\r\n"
     ]
    }
   ],
   "source": [
    "!head data/ab_main_page_response_time.tsv"
   ]
  },
  {
   "cell_type": "code",
   "execution_count": 59,
   "metadata": {},
   "outputs": [
    {
     "data": {
      "text/html": [
       "<div>\n",
       "<style scoped>\n",
       "    .dataframe tbody tr th:only-of-type {\n",
       "        vertical-align: middle;\n",
       "    }\n",
       "\n",
       "    .dataframe tbody tr th {\n",
       "        vertical-align: top;\n",
       "    }\n",
       "\n",
       "    .dataframe thead th {\n",
       "        text-align: right;\n",
       "    }\n",
       "</style>\n",
       "<table border=\"1\" class=\"dataframe\">\n",
       "  <thead>\n",
       "    <tr style=\"text-align: right;\">\n",
       "      <th></th>\n",
       "      <th>uid</th>\n",
       "      <th>ab_group</th>\n",
       "      <th>response_time</th>\n",
       "      <th>dt</th>\n",
       "      <th>app_version</th>\n",
       "      <th>rsyslog_timestamp</th>\n",
       "    </tr>\n",
       "  </thead>\n",
       "  <tbody>\n",
       "    <tr>\n",
       "      <th>0</th>\n",
       "      <td>128</td>\n",
       "      <td>3</td>\n",
       "      <td>219</td>\n",
       "      <td>2020-04-06</td>\n",
       "      <td>24678</td>\n",
       "      <td>1586193155</td>\n",
       "    </tr>\n",
       "    <tr>\n",
       "      <th>1</th>\n",
       "      <td>128</td>\n",
       "      <td>3</td>\n",
       "      <td>220</td>\n",
       "      <td>2020-04-06</td>\n",
       "      <td>24678</td>\n",
       "      <td>1586203739</td>\n",
       "    </tr>\n",
       "    <tr>\n",
       "      <th>2</th>\n",
       "      <td>128</td>\n",
       "      <td>3</td>\n",
       "      <td>177</td>\n",
       "      <td>2020-04-06</td>\n",
       "      <td>24678</td>\n",
       "      <td>1586193180</td>\n",
       "    </tr>\n",
       "    <tr>\n",
       "      <th>3</th>\n",
       "      <td>237</td>\n",
       "      <td>3</td>\n",
       "      <td>197</td>\n",
       "      <td>2020-04-06</td>\n",
       "      <td>24208</td>\n",
       "      <td>1586223281</td>\n",
       "    </tr>\n",
       "    <tr>\n",
       "      <th>4</th>\n",
       "      <td>248</td>\n",
       "      <td>2</td>\n",
       "      <td>234</td>\n",
       "      <td>2020-04-06</td>\n",
       "      <td>24208</td>\n",
       "      <td>1586219472</td>\n",
       "    </tr>\n",
       "  </tbody>\n",
       "</table>\n",
       "</div>"
      ],
      "text/plain": [
       "   uid  ab_group  response_time         dt  app_version  rsyslog_timestamp\n",
       "0  128         3            219 2020-04-06        24678         1586193155\n",
       "1  128         3            220 2020-04-06        24678         1586203739\n",
       "2  128         3            177 2020-04-06        24678         1586193180\n",
       "3  237         3            197 2020-04-06        24208         1586223281\n",
       "4  248         2            234 2020-04-06        24208         1586219472"
      ]
     },
     "execution_count": 59,
     "metadata": {},
     "output_type": "execute_result"
    }
   ],
   "source": [
    "import numpy as np\n",
    "\n",
    "df_long_term = pd.read_csv(\n",
    "    'data/ab_main_page_response_time.tsv',\n",
    "    header=None,\n",
    "    sep='\\t',\n",
    "    names=['uid', 'ab_group', 'response_time', 'dt', 'app_version', 'rsyslog_timestamp'],\n",
    "    dtype={'uid': np.uint64, 'ab_group':  np.uint8, 'response_time': np.uint16, 'app_version': np.uint16,\n",
    "           'rsyslog_timestamp': np.uint64},\n",
    "    parse_dates=['dt']\n",
    ")\n",
    "\n",
    "df_long_term.head(5)"
   ]
  },
  {
   "cell_type": "markdown",
   "metadata": {},
   "source": [
    "Общее количество событий"
   ]
  },
  {
   "cell_type": "code",
   "execution_count": 65,
   "metadata": {},
   "outputs": [
    {
     "data": {
      "text/plain": [
       "<matplotlib.axes._subplots.AxesSubplot at 0x7f1d5a67d4e0>"
      ]
     },
     "execution_count": 65,
     "metadata": {},
     "output_type": "execute_result"
    },
    {
     "data": {
      "image/png": "[encoded data removed]",
      "text/plain": [
       "<Figure size 432x288 with 1 Axes>"
      ]
     },
     "metadata": {
      "needs_background": "light"
     },
     "output_type": "display_data"
    }
   ],
   "source": [
    "df_long_term.groupby(['dt'])['uid'].count().sort_index().plot.bar()"
   ]
  },
  {
   "cell_type": "markdown",
   "metadata": {},
   "source": [
    "Проверяем, что в группах одинаковое количество записей"
   ]
  },
  {
   "cell_type": "code",
   "execution_count": 66,
   "metadata": {},
   "outputs": [
    {
     "data": {
      "text/plain": [
       "3    0.335908\n",
       "2    0.334420\n",
       "1    0.329673\n",
       "Name: ab_group, dtype: float64"
      ]
     },
     "execution_count": 66,
     "metadata": {},
     "output_type": "execute_result"
    }
   ],
   "source": [
    "df_long_term.ab_group.value_counts(normalize=True)"
   ]
  },
  {
   "cell_type": "markdown",
   "metadata": {},
   "source": [
    "Строим 95% перцентиль времени ответа"
   ]
  },
  {
   "cell_type": "code",
   "execution_count": 86,
   "metadata": {},
   "outputs": [
    {
     "name": "stdout",
     "output_type": "stream",
     "text": [
      "group=1, q_95=353.0\n",
      "group=2, q_95=392.0\n",
      "group=3, q_95=412.0\n"
     ]
    }
   ],
   "source": [
    "def filter_ab_group(df: pd.DataFrame, ab_group: int) -> pd.DataFrame:\n",
    "    return df[df['ab_group']==ab_group]\n",
    "\n",
    "q_95_dict = {}\n",
    "for i in range(1,4):\n",
    "    q_95 = filter_ab_group(df_long_term, i)['response_time'].quantile(q=0.95)\n",
    "    q_95_dict[i] = q_95\n",
    "    print(f\"group={i}, q_95={q_95}\")"
   ]
  },
  {
   "cell_type": "code",
   "execution_count": 101,
   "metadata": {},
   "outputs": [
    {
     "name": "stdout",
     "output_type": "stream",
     "text": [
      "group_id = 1\n"
     ]
    },
    {
     "data": {
      "text/plain": [
       "<matplotlib.axes._subplots.AxesSubplot at 0x7f1d635a18d0>"
      ]
     },
     "execution_count": 101,
     "metadata": {},
     "output_type": "execute_result"
    },
    {
     "data": {
      "image/png": "[encoded data removed]",
      "text/plain": [
       "<Figure size 432x288 with 1 Axes>"
      ]
     },
     "metadata": {
      "needs_background": "light"
     },
     "output_type": "display_data"
    }
   ],
   "source": [
    "group_id = 1\n",
    "group_1 = filter_ab_group(df_long_term, group_id)\n",
    "print(f\"group_id = {group_id}\")\n",
    "trunk_df = group_1\n",
    "trunk_df[trunk_df['response_time'] < q_95_dict[group_id]][['response_time']].boxplot()"
   ]
  },
  {
   "cell_type": "code",
   "execution_count": 98,
   "metadata": {},
   "outputs": [
    {
     "name": "stdout",
     "output_type": "stream",
     "text": [
      "group_id = 2\n"
     ]
    },
    {
     "data": {
      "text/plain": [
       "<matplotlib.axes._subplots.AxesSubplot at 0x7f1d6364b6a0>"
      ]
     },
     "execution_count": 98,
     "metadata": {},
     "output_type": "execute_result"
    },
    {
     "data": {
      "image/png": "[encoded data removed]",
      "text/plain": [
       "<Figure size 432x288 with 1 Axes>"
      ]
     },
     "metadata": {
      "needs_background": "light"
     },
     "output_type": "display_data"
    }
   ],
   "source": [
    "group_id = 2\n",
    "group_2 = filter_ab_group(df_long_term, group_id)\n",
    "print(f\"group_id = {group_id}\")\n",
    "trunk_df = filter_ab_group(df_long_term, group_id)\n",
    "trunk_df[trunk_df['response_time'] < q_95_dict[group_id]][['response_time']].boxplot()"
   ]
  },
  {
   "cell_type": "code",
   "execution_count": 99,
   "metadata": {},
   "outputs": [
    {
     "name": "stdout",
     "output_type": "stream",
     "text": [
      "group_id = 3\n"
     ]
    },
    {
     "data": {
      "text/plain": [
       "<matplotlib.axes._subplots.AxesSubplot at 0x7f1d635bc2b0>"
      ]
     },
     "execution_count": 99,
     "metadata": {},
     "output_type": "execute_result"
    },
    {
     "data": {
      "image/png": "[encoded data removed]",
      "text/plain": [
       "<Figure size 432x288 with 1 Axes>"
      ]
     },
     "metadata": {
      "needs_background": "light"
     },
     "output_type": "display_data"
    }
   ],
   "source": [
    "group_id = 3\n",
    "group_3 = filter_ab_group(df_long_term, group_id)\n",
    "print(f\"group_id = {group_id}\")\n",
    "trunk_df = filter_ab_group(df_long_term, group_id)\n",
    "trunk_df[trunk_df['response_time'] < q_95_dict[group_id]][['response_time']].boxplot()"
   ]
  },
  {
   "cell_type": "markdown",
   "metadata": {},
   "source": [
    "Проверяем стабильность 95% перцентили по дням в каждой группе"
   ]
  },
  {
   "cell_type": "code",
   "execution_count": 102,
   "metadata": {},
   "outputs": [
    {
     "data": {
      "image/png": "[encoded data removed]",
      "text/plain": [
       "<Figure size 432x288 with 1 Axes>"
      ]
     },
     "metadata": {
      "needs_background": "light"
     },
     "output_type": "display_data"
    }
   ],
   "source": [
    "ax = (\n",
    "    group_1\n",
    "    .groupby('dt')['response_time']\n",
    "    .quantile(q=0.95)\n",
    "    .sort_index()\n",
    "    .plot\n",
    "    .bar(label='group 1', legend=True)\n",
    ")"
   ]
  },
  {
   "cell_type": "code",
   "execution_count": 103,
   "metadata": {},
   "outputs": [
    {
     "data": {
      "image/png": "[encoded data removed]",
      "text/plain": [
       "<Figure size 432x288 with 1 Axes>"
      ]
     },
     "metadata": {
      "needs_background": "light"
     },
     "output_type": "display_data"
    }
   ],
   "source": [
    "ax = (\n",
    "    group_2\n",
    "    .groupby('dt')['response_time']\n",
    "    .quantile(q=0.95)\n",
    "    .sort_index()\n",
    "    .plot\n",
    "    .bar(label='group 2', legend=True)\n",
    ")"
   ]
  },
  {
   "cell_type": "code",
   "execution_count": 104,
   "metadata": {},
   "outputs": [
    {
     "data": {
      "image/png": "[encoded data removed]",
      "text/plain": [
       "<Figure size 432x288 with 1 Axes>"
      ]
     },
     "metadata": {
      "needs_background": "light"
     },
     "output_type": "display_data"
    }
   ],
   "source": [
    "ax = (\n",
    "    group_3\n",
    "    .groupby('dt')['response_time']\n",
    "    .quantile(q=0.95)\n",
    "    .sort_index()\n",
    "    .plot\n",
    "    .bar(label='group 5', legend=True)\n",
    ")"
   ]
  },
  {
   "cell_type": "markdown",
   "metadata": {},
   "source": [
    "Визуализация"
   ]
  },
  {
   "cell_type": "code",
   "execution_count": 107,
   "metadata": {},
   "outputs": [
    {
     "data": {
      "text/plain": [
       "<matplotlib.axes._subplots.AxesSubplot at 0x7f1d638307f0>"
      ]
     },
     "execution_count": 107,
     "metadata": {},
     "output_type": "execute_result"
    },
    {
     "data": {
      "image/png": "[encoded data removed]",
      "text/plain": [
       "<Figure size 432x288 with 1 Axes>"
      ]
     },
     "metadata": {
      "needs_background": "light"
     },
     "output_type": "display_data"
    }
   ],
   "source": [
    "# не пацанская калибровка\n",
    "group_id = 2\n",
    "ax = group_2[\n",
    "    group_2['response_time'] <= q_95_dict[group_id]\n",
    "]['response_time'].plot(kind='hist', alpha=0.5, bins=25, label='group 2', legend=True)\n",
    "\n",
    "# пацанская калибровка\n",
    "group_id = 3\n",
    "group_3[\n",
    "    group_3['response_time'] <= q_95_dict[group_id]\n",
    "]['response_time'].plot(kind='hist', alpha=0.5, bins=25, label='group 3', legend=True)"
   ]
  },
  {
   "cell_type": "code",
   "execution_count": 112,
   "metadata": {},
   "outputs": [
    {
     "data": {
      "image/png": "[encoded data removed]",
      "text/plain": [
       "<Figure size 432x288 with 1 Axes>"
      ]
     },
     "metadata": {
      "needs_background": "light"
     },
     "output_type": "display_data"
    }
   ],
   "source": [
    "# обычная калибровка\n",
    "group_id = 2\n",
    "ax = group_2[\n",
    "    group_2['response_time'] <= q_95_dict[group_id]\n",
    "]['response_time'].plot(kind='hist', alpha=0.5, bins=25, label='group 2', legend=True)\n",
    "\n",
    "# без калибровки\n",
    "group_id = 1\n",
    "ax = group_1[\n",
    "    group_1['response_time'] <= q_95_dict[group_id]\n",
    "]['response_time'].plot(kind='hist', alpha=0.5, bins=25, label='group 1', legend=True)"
   ]
  },
  {
   "cell_type": "code",
   "execution_count": 113,
   "metadata": {},
   "outputs": [
    {
     "data": {
      "image/png": "[encoded data removed]",
      "text/plain": [
       "<Figure size 432x288 with 1 Axes>"
      ]
     },
     "metadata": {
      "needs_background": "light"
     },
     "output_type": "display_data"
    }
   ],
   "source": [
    "# пацанская калибровка\n",
    "group_id = 3\n",
    "ax = group_3[\n",
    "    group_3['response_time'] <= q_95_dict[group_id]\n",
    "]['response_time'].plot(kind='hist', alpha=0.5, bins=25, label='group 2', legend=True)\n",
    "\n",
    "# без калибровки\n",
    "group_id = 1\n",
    "ax = group_1[\n",
    "    group_1['response_time'] <= q_95_dict[group_id]\n",
    "]['response_time'].plot(kind='hist', alpha=0.5, bins=25, label='group 1', legend=True)"
   ]
  },
  {
   "cell_type": "markdown",
   "metadata": {},
   "source": [
    "Различия в медианах"
   ]
  },
  {
   "cell_type": "code",
   "execution_count": 111,
   "metadata": {},
   "outputs": [
    {
     "name": "stdout",
     "output_type": "stream",
     "text": [
      "group_2=204.0, group_3=223.0\n",
      "group_1=170.0, group_3=223.0\n",
      "group_1=170.0, group_2=204.0\n"
     ]
    }
   ],
   "source": [
    "print(f\"group_2={group_2.response_time.median()}, group_3={group_3.response_time.median()}\")\n",
    "print(f\"group_1={group_1.response_time.median()}, group_3={group_3.response_time.median()}\")\n",
    "print(f\"group_1={group_1.response_time.median()}, group_2={group_2.response_time.median()}\")"
   ]
  },
  {
   "cell_type": "code",
   "execution_count": null,
   "metadata": {},
   "outputs": [],
   "source": []
  }
 ],
 "metadata": {
  "kernelspec": {
   "display_name": "Python 3",
   "language": "python",
   "name": "python3"
  },
  "language_info": {
   "codemirror_mode": {
    "name": "ipython",
    "version": 3
   },
   "file_extension": ".py",
   "mimetype": "text/x-python",
   "name": "python",
   "nbconvert_exporter": "python",
   "pygments_lexer": "ipython3",
   "version": "3.6.9"
  }
 },
 "nbformat": 4,
 "nbformat_minor": 4
}
