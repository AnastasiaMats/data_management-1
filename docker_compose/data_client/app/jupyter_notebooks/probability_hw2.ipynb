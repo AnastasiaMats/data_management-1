{
 "cells": [
  {
   "cell_type": "markdown",
   "metadata": {},
   "source": [
    "# Домашняя работа \"Аналитика\"\n",
    "\n",
    "# Часть I: исходные данные\n",
    "\n",
    "### Конверсия в просмотр"
   ]
  },
  {
   "cell_type": "markdown",
   "metadata": {},
   "source": [
    "Напишите запрос, который сравнит конверсию в просмотр между двумя странами: Россия и Украина\n",
    "\n",
    "* сгруппируйте данные по полям страна + день\n",
    "* исключите просмотры, которые были совершены в субботу и воскресенье"
   ]
  },
  {
   "cell_type": "code",
   "execution_count": 2,
   "metadata": {},
   "outputs": [
    {
     "data": {
      "text/html": [
       "<div>\n",
       "<style scoped>\n",
       "    .dataframe tbody tr th:only-of-type {\n",
       "        vertical-align: middle;\n",
       "    }\n",
       "\n",
       "    .dataframe tbody tr th {\n",
       "        vertical-align: top;\n",
       "    }\n",
       "\n",
       "    .dataframe thead th {\n",
       "        text-align: right;\n",
       "    }\n",
       "</style>\n",
       "<table border=\"1\" class=\"dataframe\">\n",
       "  <thead>\n",
       "    <tr style=\"text-align: right;\">\n",
       "      <th></th>\n",
       "      <th>?column?</th>\n",
       "    </tr>\n",
       "  </thead>\n",
       "  <tbody>\n",
       "    <tr>\n",
       "      <th>0</th>\n",
       "      <td>1</td>\n",
       "    </tr>\n",
       "  </tbody>\n",
       "</table>\n",
       "</div>"
      ],
      "text/plain": [
       "   ?column?\n",
       "0         1"
      ]
     },
     "execution_count": 2,
     "metadata": {},
     "output_type": "execute_result"
    }
   ],
   "source": [
    "import os\n",
    "import pandas as pd\n",
    "from sqlalchemy import create_engine\n",
    "\n",
    "\n",
    "postgres_host = '40.89.151.14' #os.environ['APP_POSTGRES_HOST']\n",
    "database = 'postgres'\n",
    "port = '5433'\n",
    "user = 'mai'\n",
    "password = '1930'\n",
    "\n",
    "engine = create_engine(\n",
    "    f'postgresql://{user}:{password}@{postgres_host}:{port}/{database}'\n",
    ")\n",
    "\n",
    "# ----- ВАШ КОД ТУТ  -------\n",
    "\n",
    "\n",
    "sql_str = \"\"\"\n",
    "    SELECT 1\n",
    "\"\"\"\n",
    "\n",
    "\n",
    "# ----- ВАШ КОД ТУТ  -------\n",
    "\n",
    "conversion_df = pd.read_sql(sql_str, engine)\n",
    "\n",
    "conversion_df.head()"
   ]
  },
  {
   "cell_type": "markdown",
   "metadata": {},
   "source": [
    "Визуализация: постройте графики изменения конверсии по дням"
   ]
  },
  {
   "cell_type": "code",
   "execution_count": null,
   "metadata": {},
   "outputs": [],
   "source": [
    "# ----- ВАШ КОД ТУТ  -------\n",
    "\n",
    "\n",
    "\n",
    "# --------------------------"
   ]
  },
  {
   "cell_type": "markdown",
   "metadata": {},
   "source": [
    "Визуализация: постройте гистограмму распределения конверсии"
   ]
  },
  {
   "cell_type": "code",
   "execution_count": null,
   "metadata": {},
   "outputs": [],
   "source": []
  },
  {
   "cell_type": "markdown",
   "metadata": {},
   "source": [
    "### Retention\n",
    "\n",
    "Посчитайте возвращаемость (недельную) пользователей на сервис на день X\n",
    "\n",
    "* найдите множество $y1$ пользователей, которые заходили в период от $X-14$ до $X-7$\n",
    "* найдите множество $y2$, которые заходили в период от $X-6$ до $X$\n",
    "* найдите пересечение множеств $y1$ и $y2$ и разделите его на объединение этих множеств - это и будет наша метрика retention"
   ]
  },
  {
   "cell_type": "code",
   "execution_count": null,
   "metadata": {},
   "outputs": [],
   "source": [
    "# ----- ВАШ КОД ТУТ  -------\n",
    "\n",
    "\n",
    "\n",
    "# --------------------------"
   ]
  },
  {
   "cell_type": "markdown",
   "metadata": {},
   "source": [
    "Постройте гистограмму ретеншна - на какой платформе лучше возвращаемость?"
   ]
  },
  {
   "cell_type": "code",
   "execution_count": null,
   "metadata": {},
   "outputs": [],
   "source": [
    "# ----- ВАШ КОД ТУТ  -------\n",
    "\n",
    "\n",
    "\n",
    "# --------------------------"
   ]
  },
  {
   "cell_type": "markdown",
   "metadata": {},
   "source": [
    "# Часть II статистические гипотезы"
   ]
  },
  {
   "cell_type": "markdown",
   "metadata": {},
   "source": [
    "### Предсказательный интервал\n",
    "\n",
    "пусть результат эксперимента представляет собой нормально распределённую СВ $X\\sim N(\\mu, \\sigma)$. Тогда предсказательный интервал имеет вид\n",
    "$$\n",
    "P\\left(\\mu - Z_{\\frac{\\alpha}{2}}\\sigma \\le X \\le \\mu + Z_{1-\\frac{\\alpha}{2}} \\right) = 1 - \\alpha\n",
    "$$\n",
    "\n",
    "для тренировки сгенерируйте решите задачу: постройте предсказательный интервал для случайной величины $X\\sim N(\\mu, \\sigma)$:"
   ]
  },
  {
   "cell_type": "code",
   "execution_count": 1,
   "metadata": {},
   "outputs": [
    {
     "name": "stdout",
     "output_type": "stream",
     "text": [
      "z_05 = None, z_95 = None\n"
     ]
    }
   ],
   "source": [
    "from scipy.stats import norm\n",
    "\n",
    "mu = 5\n",
    "sigma = 0.9\n",
    "# используйте функцию ppf - Percent point function (обратная к кумулятивной функции (функции вероятности) cdf)\n",
    "\n",
    "z_05 = None\n",
    "z_95 = None\n",
    "\n",
    "print(f\"z_05 = {z_05}, z_95 = {z_95}\")"
   ]
  },
  {
   "cell_type": "markdown",
   "metadata": {},
   "source": [
    "### Доверительный интервал для математического ожидания гауссовской СВ.\n",
    "\n",
    "СВ $X\\sim N(\\mu, \\sigma)$, где $\\sigma$ известный параметр. По результатам эксперимента получили выборку $X^n = \\left( X_1,\\ldots,X_n \\right)$. Задача - оценить по выборке неизвестный параметр $\\mu$.\n",
    "\n",
    "Чтобы построить доверительный интервал параметра $\\mu$ в первую очередь нужно понять, какое распределение имеет параметр, который мы исследуем. В данном случае мы можем воспользоваться результатами ЦПТ:\n",
    "$$\n",
    "\\overline{X} \\sim N\\left(\\mu, \\frac{\\sigma^2}{n}\\right), \\overline{X} = \\frac{\\sum_{i=1}^{n}X_i}{n}\n",
    "$$\n",
    "\n",
    "где $\\overline{X}$ - среднее значение элементов выборки. В таком случае доверительный интервал имеет вид\n",
    "$$\n",
    "P\\left(\\overline{X} - z_{\\alpha/2}\\sqrt{\\sigma^2/n} \\le  \\mu \\le \\overline{X} + z_{1-\\alpha/2}\\sqrt{\\sigma^2/n}\\right) = 1 - \\alpha\n",
    "$$\n",
    "\n",
    "Для определения значения квантили можно пользоваться функцией `.ppf` из модуля `scipy.stats`."
   ]
  },
  {
   "cell_type": "code",
   "execution_count": 2,
   "metadata": {},
   "outputs": [
    {
     "name": "stdout",
     "output_type": "stream",
     "text": [
      "Оценка математического ожидания по выборке mu = [None, None]\n"
     ]
    }
   ],
   "source": [
    "from scipy.stats import norm\n",
    "\n",
    "mu = 5\n",
    "sigma = 0.9\n",
    "D = 1\n",
    "X = [13.27543316, 18.60619498, 28.64266817, 45.4103895, 10.08409655,\n",
    "     44.91948425, 47.23376343, 33.03988962, 31.45570219, 3.089313523]\n",
    "\n",
    "# используйте функцию ppf для нахождения квантили\n",
    "alpha = 0.05\n",
    "\n",
    "n = None\n",
    "left_border = None\n",
    "right_border = None\n",
    "\n",
    "print(f\"Оценка математического ожидания по выборке mu = [{left_border}, {right_border}]\")"
   ]
  },
  {
   "cell_type": "markdown",
   "metadata": {},
   "source": [
    "### Задачи по конверсии\n",
    "\n",
    "#### Вычисление конверсии\n",
    "\n",
    "Посчитайте конверсию по выборке - нужно написать несложный код на python"
   ]
  },
  {
   "cell_type": "code",
   "execution_count": null,
   "metadata": {},
   "outputs": [],
   "source": [
    "import pickle\n",
    "\n",
    "with open('data/pool_spample.pkl', 'rb') as f:\n",
    "    pool_data = pickle.load(f)\n",
    "# ---- ВАШ КОД ТУТ ---\n",
    "\n",
    "print(pool_data)\n",
    "\n",
    "# --------------------"
   ]
  },
  {
   "cell_type": "markdown",
   "metadata": {},
   "source": [
    "#### Репрезентативный объём выборки\n",
    "\n",
    "При таком значении $n$ выборка будет репрезентативной\n",
    "\n",
    "Каким образом определить значения $p,q$:\n",
    "1. из прошлых исследований;\n",
    "1. еcли дополнительной информации нет, то выбрать $p=q=\\frac12$;\n",
    "1. если известен интервал для $p\\in[\\alpha, \\beta]$, то нужно выбирать значение, максимально близкое к $\\frac12$\n",
    "\n",
    "**Задача** За кандидата собираются голосовать 30-40%. Сколько нужно опросить респондентов, чтобы оценить долю голосов за кандидата с точность $2\\%$.\n",
    "\n",
    "Написать функцию, которая рассчитывает объём репрезентативной выборки"
   ]
  },
  {
   "cell_type": "code",
   "execution_count": 3,
   "metadata": {},
   "outputs": [],
   "source": [
    "def representative_sample_size(alpha, delta, p=None):\n",
    "    \"\"\"Функция для расчёта объёма репрезентативной выборки\n",
    "    \n",
    "    :param alpha: уровень доверия\n",
    "    :param delta: точность\n",
    "    :param p (list | int | None): теоретическая вероятность успеха \n",
    "    :return: \n",
    "    \"\"\"\n",
    "    n = None\n",
    "    \n",
    "    return n\n",
    "\n",
    "representative_sample_size(alpha=0.05, delta=0.03)"
   ]
  },
  {
   "cell_type": "markdown",
   "metadata": {},
   "source": [
    "#### Моделирование данных\n",
    "\n",
    "Смоделируйте эксперимент с соц-опросом с помощью распределения Бернулли\n",
    "\n",
    "* сгенерируйте выборку того размера, который рассчитали\n",
    "* посчитайте прогнозируемый рейтинг кандидата "
   ]
  },
  {
   "cell_type": "code",
   "execution_count": 6,
   "metadata": {},
   "outputs": [
    {
     "name": "stdout",
     "output_type": "stream",
     "text": [
      "None\n"
     ]
    }
   ],
   "source": [
    "import scipy.stats as sts\n",
    "\n",
    "# ---- ВАШ КОД ТУТ ---\n",
    "\n",
    "p = 0.7  # задайте тут правильное значение\n",
    "\n",
    "bernoulli_rv = sts.bernoulli(p)\n",
    "\n",
    "pool_data = None\n",
    "\n",
    "# --------------------\n",
    "\n",
    "print(pool_data)"
   ]
  },
  {
   "cell_type": "markdown",
   "metadata": {},
   "source": [
    "## Задача на одновыборочный z-критерий\n",
    "\n",
    "\n",
    "Статиcтика критерия:\n",
    "$$\n",
    "Z(X^n) = \\frac{\\overline{X}- μ_0}{\\frac{\\sigma}{\\sqrt{n}}}\n",
    "$$\n",
    "\n",
    "Нулевое распределение: \n",
    "$$\n",
    "Z(X^n) \\sim N(0,1)\n",
    "$$\n",
    "\n",
    "На уровне значимости $\\alpha$ гипотеза $H_0$ отвергается при значении статистики $Z(X^n)=z$ таком, что $z \\lt z_\\alpha$, где $z_\\alpha$ - значение квантили нормального распределения уровня $\\alpha$.\n",
    "\n",
    "\n",
    "Средняя масса детей в неблагополучных семьях при рождении 2.8 кг.\n",
    "В экспериментальной программе ведения беременности участвовали 25 женщин.\t\n",
    "Средний вес младенцев в экспериментальной группе составил 3.075 кг.\n",
    "Является ли данное отклонение статистически значимым? Исходя из прошлых иследований известно, что вес имеет нормальное распределение с $\\sigma = 0.5$\n",
    "\n",
    "Основная гипотеза H0:\t\tX_среднее = 2.8\n",
    "\n",
    "Альтернативная гипотеза H1\t\tX_среднее > 2.8"
   ]
  },
  {
   "cell_type": "code",
   "execution_count": 7,
   "metadata": {},
   "outputs": [
    {
     "name": "stdout",
     "output_type": "stream",
     "text": [
      "Является ли отклонение значимым False\n"
     ]
    }
   ],
   "source": [
    "# Размер выборки\n",
    "n = None\n",
    "# С.К.О.\n",
    "sigma = None\n",
    "# Уровень доверия \n",
    "alpha = None\n",
    "# Значение квантили\n",
    "z_095 = None\n",
    "# Ср. знач. в ген. совокупности\n",
    "global_mean = None\n",
    "# Ср. знач. в эксперименте\n",
    "sample_mean = None\n",
    "# Считаем статистику\n",
    "Z_x = 0\n",
    "# Критическая область:\n",
    "Z_critical = 0\n",
    "print(\"Является ли отклонение значимым {}\".format(Z_x > Z_critical))"
   ]
  },
  {
   "cell_type": "markdown",
   "metadata": {},
   "source": [
    "### Задача на проверку z-критерия\n",
    "\n",
    "На прошедшей неделе в рекламной сети параллельно размещалось два баннера Яндекс.Такси. Оба баннера были показаны один миллион раз. Первый получил 10 000 кликов и 500 установок, а второй — 10 500 кликов и 440 установок. Маркетолог просит у вас совета: какой баннер оставить, а какой отключить? Что вы ему ответите?"
   ]
  },
  {
   "cell_type": "code",
   "execution_count": 8,
   "metadata": {},
   "outputs": [
    {
     "name": "stdout",
     "output_type": "stream",
     "text": [
      "Верная ли нулевая гипотеза о равенстве долей: False\n"
     ]
    }
   ],
   "source": [
    "#banner 1\n",
    "n1_click = None\n",
    "n1_installs = None\n",
    "\n",
    "#banner 2\n",
    "n2_click = None\n",
    "n2_installs = None\n",
    "\n",
    "# ctr\n",
    "p1 = None\n",
    "p2 = None\n",
    "\n",
    "# значение статистики критерия\n",
    "T_x = 0\n",
    "\n",
    "# квантиль уровня 0.95 нормального распределения\n",
    "z_095 = 0\n",
    "\n",
    "print(\"Верная ли нулевая гипотеза о равенстве долей: {}\".format(T_x > z_095))"
   ]
  },
  {
   "cell_type": "markdown",
   "metadata": {},
   "source": [
    "### Проверка продуктовых гипотез\n",
    "\n",
    "Вернитесь к I части этой домашней работы. Проверьте с помощь статистических критерий несколько гипотез\n",
    "\n",
    "* конверсия на Windows выше, чем на XboX\n",
    "* конверсия в Украине  отличается от конверсии в России\n",
    "* retention на XboX ниже, чем retention на Windows 10\n",
    "\n",
    "Для проверки пользуйтесь готовыми критериями из статистических пакетов python\n"
   ]
  },
  {
   "cell_type": "code",
   "execution_count": 9,
   "metadata": {},
   "outputs": [
    {
     "name": "stdout",
     "output_type": "stream",
     "text": [
      "\n"
     ]
    }
   ],
   "source": [
    "import scipy.stats as sts\n",
    "\n",
    "# ---- ВАШ КОД ТУТ ---\n",
    "\n",
    "\n",
    "# --------------------\n",
    "\n",
    "print()"
   ]
  },
  {
   "cell_type": "code",
   "execution_count": null,
   "metadata": {},
   "outputs": [],
   "source": []
  }
 ],
 "metadata": {
  "kernelspec": {
   "display_name": "Python 3",
   "language": "python",
   "name": "python3"
  },
  "language_info": {
   "codemirror_mode": {
    "name": "ipython",
    "version": 3
   },
   "file_extension": ".py",
   "mimetype": "text/x-python",
   "name": "python",
   "nbconvert_exporter": "python",
   "pygments_lexer": "ipython3",
   "version": "3.6.9"
  }
 },
 "nbformat": 4,
 "nbformat_minor": 4
}
