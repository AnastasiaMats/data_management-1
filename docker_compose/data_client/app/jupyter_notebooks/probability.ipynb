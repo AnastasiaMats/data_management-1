{
 "cells": [
  {
   "cell_type": "markdown",
   "metadata": {},
   "source": [
    "Для исследования различных составляющий современных IT продуктов (например, пользовательских метрик) применяются инструменты теории вероятной и мат. статистики. В этом ноутбуке рассмотрим некоторые основные понятия.\n",
    "\n",
    "# Основы теории вероятностей: случайные события\n",
    "\n",
    "Событие называется **случайным**, если в результате опыта **G** оно может либо произойти, либо нет (в противоположность *детерминированным* событиям). Всевозможные исходы опыта __G__ образуют пространство элементарных событий $\\Omega$."
   ]
  },
  {
   "cell_type": "markdown",
   "metadata": {},
   "source": [
    "## Алгебра событий\n",
    "\n",
    "Операции над событиями во многом аналогичны операциям над множествами.\n",
    "\n",
    "* Сумма событий $C=A + B$ обозначает событие, что в опыте произойдёт либо событие A, либо событие B\n",
    "* Произведение событий $C=A \\cdot B$ обозначает событие, что в опыте произойдут оба события A и B\n",
    "* Разность событий $C = A \\setminus B$ обозначает событие, что в опыте произойдёт событие A, а событие B не произойдёт\n",
    "* Событие $\\overline{A}$ называется _противоположным_ событию **А**, если оно заключается в непоявлении события А в опыте __G__ . \n",
    "* События A и B называются *несовместными*, если они не могут произойти в рамках опыта *G* одновременнио, т.е. $A\\cdot B = \\emptyset$\n",
    "\n",
    "Говорят, что в опыте G  событие  **A**  влечёт событие __B__ , если из наступления события A следует наступление события B, обозначается $A \\subset B$."
   ]
  },
  {
   "cell_type": "markdown",
   "metadata": {},
   "source": [
    "## Вероятность события\n",
    "\n",
    "*Определение* вероятность события **A** - это числовая функция P(A) такая, что выполняются следующие *аксиомы вероятности*:\n",
    "* Неотрицательность $P(A) \\ge 0$\n",
    "* Нормировка $P(\\Omega)=1$\n",
    "* Конечная аддитивность: $\\forall A,B: A\\cdot B=\\emptyset \\mid P(A + B) = P(A) + P(B) $\n",
    "* Непрерывность вероятности: пусть $A_1 \\supset A_2 \\supset A_n \\supset \\ldots \\supset A_n \\supset \\ldots$, тогда $\\lim_{n\\rightarrow \\infty}P(A_n)=0$"
   ]
  },
  {
   "cell_type": "markdown",
   "metadata": {},
   "source": [
    "\n",
    "*Опредеделение* События $H_1,\\ldots,H_n$ образуют **полную группу событий**, если $\\forall i,j: H_iH_j=\\emptyset$ и $H_1+\\ldots+H_n=\\Omega$, событие $H_i$ называется *гипотезой*.\n",
    "\n",
    "$Определение$ События называются независимыми, если\n",
    "$$\n",
    "P(AB) = P(A)\\cdot P(B)\n",
    "$$\n",
    "\n",
    "Опыт, в котором $\\forall i:P(H_i) = \\frac1n$ (исходы равновероятны) называется *схемой случаев*\n"
   ]
  },
  {
   "cell_type": "markdown",
   "metadata": {},
   "source": [
    "*Определение* Условной вероятностью события **A** при условии события __B__ называется вероятность события A при условии, что событие B уже произошло в опыте:\n",
    "$$\n",
    "P(A\\mid B) = \\frac{P(AB)}{P(B)}\n",
    "$$\n",
    "\n",
    "Вероятность противоположного события $P(\\overline{A})=1-P(A)$\n",
    "\n",
    "**Алгоритм** решения задач, сводящихся к схеме случаев\n",
    "\n",
    "* Определить общее число случаев n\n",
    "* Определить число случаев m, а которых происходит событие A\n",
    "* Вычислить вероятность события A:\n",
    "$$P(A)=\\frac{m}{n}$$"
   ]
  },
  {
   "cell_type": "markdown",
   "metadata": {},
   "source": [
    "**Формулы** комбинаторики, которые помогут решать задачи в схеме случаев\n",
    "\n",
    "* Число перестановок (упорядоченный набор из n элементов)\n",
    "$$\n",
    "A_n = n!\n",
    "$$\n",
    "\n",
    "* Число размещений (упорядоченный набор k элементов) без повторений из n элементов по k\n",
    "$$\n",
    "\\overline{A}_n^k = \\frac{n!}{(n-k)!}\n",
    "$$\n",
    "\n",
    "\n",
    "* Число размещений с повторением из n элементов по k\n",
    "$$\n",
    "\\overline{A}_n^k = n^k\n",
    "$$\n",
    "\n",
    "* Число сочетаний (набор k элементов из n, когда каждый элемент участвует в наборе только один раз и порядок не важен)\n",
    "$$\n",
    "C_n^k = \\frac{n!}{k!(n-k)!}\n",
    "$$\n"
   ]
  },
  {
   "cell_type": "markdown",
   "metadata": {},
   "source": [
    "### Домашняя работа по простым формулам\n",
    "\n",
    "См. файл `probability_hw.ipynb`"
   ]
  },
  {
   "cell_type": "markdown",
   "metadata": {},
   "source": [
    "## Основные формулы вычисления вероятности.\n",
    "\n",
    "**Формула** Умножение вероятностей\n",
    "$$\n",
    "P(A_1\\cdot\\ldots\\cdot A_n) = P(A_1)\\cdot P(A_2\\mid A_1)\\cdot P(A_3\\mid A_2A_1)\\ldots\\cdot P(A_n\\mid A_{n-1}\\ldots A_1)\n",
    "$$\n",
    "В случае, если события независимы\n",
    "$$\n",
    "P(A_1\\cdot\\ldots\\cdot A_n) = P(A_1)\\cdot P(A_2)\\cdot\\ldots\\cdot P(A_n)\n",
    "$$\n",
    "\n",
    "**Формула** Сложение вероятностей - для оценки вероятности появления хотя бы одного события из $n$:\n",
    "$$\n",
    "P(A_1+\\ldots+A_n) = \\sum_{i=1}^{n} (-1)^{i-1}p_i, \n",
    "$$\n",
    "где\n",
    "\n",
    "$$\n",
    "p_1=\\sum_{i=1}^{n}P(A_i), p_2=\\sum_{i=1}^{n-1}\\sum_{j=i+1}^{n}P(A_iA_j),\\ldots,p_n=P(A_1\\cdot\\ldots\\cdot A_n)\n",
    "$$\n",
    "\n",
    "Например, для трёх событий\n",
    "\n",
    "$$\n",
    "P(A_1+A_2+A_3) = P(A_1)+P(A_2)+P(A_3)-P(A_1A2)-P(A_2A_3)-P(A_1A_3)+P(A_1A_2A_3)\n",
    "$$\n",
    "\n",
    "**Формула** Схема Бернулли. Пусть проводится $n$ независимых испытаний с двумя возможными исходами - событие $A$ произошло с вероятностью $P(A)=p$, либо событие $A$ не произошло с вероятностью $P(\\overline{A})=q=1-p$, где событие A называется **успехом**. Такой дизайн эксперимента называется *схемой Бернулли*.\n",
    "\n",
    "Веростность, что в серии событие $A$ произойдёт ровно m раз вычисляется по формуле\n",
    "$$\n",
    "p_n(m) = P(A_n(m)) = c_n^mp^m(1-p)^{n-m}\n",
    "$$\n",
    "\n",
    "### Задачи\n",
    "\n",
    "1. Что вероятнее с равносильным противником - выиграть 3 партии из 4-х, или 5 из 8-ми?(схема Бернулли)\n",
    "\n",
    "1. Каждый 10-й договор страховой компании завершается выплатой. Компания заключила 5 договоров. Найти вероятность того, что случится хотя бы случится хотя бы один случай. (схема Бернулли)\n",
    "\n",
    "1. В урне 10 белых, 8 синих и 2 красных шара, извлекают 3 шара. Найти вероятность того, что шары будут одного цвета (сложение вероятностей)\n",
    "\n",
    "1. Телефон находится в одной из комнат с вероятностью 0.5, 0.6, 0.7. Найти вероятность того, что телефон будет найден, если пройтись по всем комнатам. (произведение вероятностей)\n",
    "\n",
    "**Формула** Формула полной вероятности. Пусть $H_1,\\ldots,H_n$ - полная группа событий. Тогда вероятность произвольного события $A$ выражается формулой\n",
    "$$\n",
    "P(A) = \\sum_{i=1}^{n}P(H_i)P(A\\mid H_i)\n",
    "$$\n",
    "\n",
    "**Формула** Формула Байеса используется для вычисления апостериорной вероятности гипотезы \n",
    "$$\n",
    "P(H_i\\mid A) = \\frac{P(H_i)P(A\\mid H_i)}{\\sum_{i=1}^{n}P(H_i)P(A\\mid H_i)}\n",
    "$$"
   ]
  },
  {
   "cell_type": "markdown",
   "metadata": {},
   "source": [
    "### Задачи\n",
    "\n",
    "#### Задача 1\n",
    "\n",
    "![ivi_main](img/ivi_main.png)"
   ]
  },
  {
   "cell_type": "markdown",
   "metadata": {},
   "source": [
    "Рассмотрим трафик на карточке с фильмом в ivi. На прямые переходы из поисковых сист приходится в два раза больше трафика, чем на  просмотры из центрального промо-блока.\n",
    "\n",
    "При этом конверсия в просмотр при прямом заходе составляет 0.1, а конверсия в просмотр при переходе с ЦПБ 0.3. Найти вероятность того, что случайно зашедший пользователь совершит просмотр."
   ]
  },
  {
   "cell_type": "code",
   "execution_count": null,
   "metadata": {},
   "outputs": [],
   "source": [
    "# ---- ВАШ КОД ТУТ ---\n",
    "\n",
    "\n",
    "# --------------------"
   ]
  },
  {
   "cell_type": "markdown",
   "metadata": {},
   "source": [
    "### Наивный байесовский классификатор (Naive Bayes)\n",
    "\n",
    "Пользуясь теоремой Байеса, можно выбирать по результатам опыта наиболее вероятную гипотезу, апостериорный выбор наиболее вероятной гипотезы можно рассматривать как решение задачи классификации (каждая гипотеза из пространства гипотез является меткой класса):\n",
    "$$\n",
    "P(C|X) = \\frac{P(C)P(X\\mid C)}{P(X)}\n",
    "$$\n",
    "\n",
    "![bayes.png](img/bayes.png)"
   ]
  },
  {
   "cell_type": "markdown",
   "metadata": {},
   "source": [
    "где $P(C|X)$ - апостериорная вероятность класса, $P(C)$ - априорная вероятность класса, $P(X\\mid C)$ - правдоподобие (likelihood), $P(X)$ - априорная вероятность данных.\n",
    "\n",
    "Для примера возьмём кусок датасета [пассажиров Титаника](https://www.cs.toronto.edu/~delve/data/titanic/desc.html)\n",
    "\n",
    "| Class  | Survived |\n",
    "| --- | --- |\n",
    "|\t2nd\t|\tno\t|\n",
    "|\t3rd\t|\tyes\t|\n",
    "|\t1st\t|\tyes\t|\n",
    "|\t3rd\t|\tno\t|\n",
    "|\t1st\t|\tno\t|\n",
    "|\t3rd\t|\tno\t|\n",
    "|\t3rd\t|\tno\t|\n",
    "|\t3rd\t|\tno\t|\n",
    "|\t3rd\t|\tno\t|\n",
    "|\t3rd\t|\tno\t|\n",
    "|\t3rd\t|\tno\t|\n",
    "|\t2nd\t|\tno\t|\n",
    "|\t3rd\t|\tno\t|\n",
    "|\t3rd\t|\tyes\t|\n",
    "|\t3rd\t|\tno\t|\n",
    "|\t1st\t|\tno\t|\n",
    "|\t3rd\t|\tno\t|\n",
    "|\t3rd\t|\tyes\t|\n",
    "|\t3rd\t|\tno\t|\n",
    "\n",
    "Найти вероятность события \n",
    "$$\n",
    "P(Survived = Yes | Class= 1st) = \\frac{P(Class=1 | Survived = Yes) \\cdot P(Survived = Yes)}{P(Class=1)}\n",
    "$$"
   ]
  },
  {
   "cell_type": "markdown",
   "metadata": {},
   "source": [
    "#### Байесовский классификатор текстов\n",
    "\n",
    "Описаный подход можно обобщить на многомерный случай - для примера решим задачу классификации текстов. Возьмём набор данных [с текстами смс-сообщений](https://archive.ics.uci.edu/ml/datasets/SMS+Spam+Collection) В датасете два поля - **текст смс-сообщения** на английском и **класс смс сообщения**. В наборе два класса сообщений: спам и не-спам. Задача классификатора - по тексту сообщения определить его класс, то есть понять, является ли сообщение спамом.\n",
    "\n",
    "Класс смс-сообщения определям при помощи теоремы Байеса:\n",
    "$$\n",
    "c_{MAP} = \\arg \\max_{\\substack{c \\in C}}P(c \\mid X) = \\arg \\max_{\\substack{c \\in C}}\\frac{P(c)P(X\\mid c)}{P(X)}\n",
    "$$\n",
    "\n",
    "MAP - Maximum a posteriori estimation, то есть такая оценка называется \"оценкой апостериорного максимума\", т.к. мы находим гипотезу $c \\in C$, которая имеет максимальную апостериорную вероятность.\n",
    "\n",
    "В формуле выше $X$ -это полученные в результате опыта данные, то есть сами документы (текстовые сообщения), каждый документ представляет собой эксперимент с исходом $x \\in X$.\n",
    "\n",
    "Нужно как-то перейти от числового описания к векторному. Каждый документ $x \\in X$ будем представлять через входящие в этот документ слова в виде вектора $x = [x_1, \\ldots, n_n ]$, где n - общее количество (различных) слов во всех документах коллекции, т.н. размер словаря. При этом\n",
    "$$\n",
    "\\forall i: x_i = \\left\\{ \n",
    "\\begin{array}\n",
    " \\tex{1}, x_i \\in x \\\\\n",
    " 0, \\text{otherwise}\n",
    "\\end{array}\n",
    "\\right.\n",
    "$$\n",
    "тогда\n",
    "$$\n",
    "c_{MAP} = \\arg \\max_{\\substack{c \\in C}}\\frac{P(c)P(x_1\\ldots x_n\\mid c)}{P(X)}\n",
    "$$\n",
    "\n",
    "Т.к. $\\forall c$ величина $P(X)$ будет постоянной. Ещё мы можем посчитать $P(c)$ как эмпирическую частоту гипотезы по имеющимся данным.\n",
    "\n",
    "Самое сложное это вычислить $P(x_1\\ldots x_n\\mid c)$, формула произведения вероятностей будет слишком сложной. Выход из этой ситуации - применить сильное предположение о независимости признаков.\n",
    "$$\n",
    "P(x_1\\ldots x_n\\mid c) = P(x_1 \\mid c)\\cdot \\ldots \\cdot P(x_n\\mid c) = \\prod_{i=1}^nP(x_i\\mid c)\n",
    "$$\n",
    "При этом $\\forall i: P(x_i \\mid c)$ это частота встречаемости слова $x_i$ в категории $c$ - величина, которую можно  вычислить просто. Этот подход в общем виде описан [в статье Сергея Николенко](https://habr.com/company/surfingbird/blog/150207/). Некоторые улучшения алгоритма (например, сглаживание) описаны в [статье на Хабре](https://habr.com/post/415963/), а по [этой ссылке](https://habr.com/post/120194/) доступен код на python. О разных подходах к векторизации текста можно почитать [тут](http://www.inf.ed.ac.uk/teaching/courses/inf2b/learnnotes/inf2b-learn-note07-2up.pdf) и [тут](http://lpcs.math.msu.su/~pentus/opm/simple_classifiers.pdf)\n",
    "\n",
    "Обучение наивного байесовского классификатора сводится к вычислению по корпусу текстов (тренировочных данных) относительных частот по категориям, тогда мы получаем т.н *multinomial bayes model*:\n",
    "$$\n",
    "\\forall i,j: P(x_i \\mid c_j) = \\frac{n_{c_j}(x_i)}{\\sum_{k\\in V}n_{c_k}(x_i)}\n",
    "$$\n",
    "где $n_{c_j}(x_i)$ - количество раз, которое слово $x_i$ встречается в теме $c_j$, а $V$ - *словарь* корпуса документов, множество всех уникальных слов\n",
    "\n",
    "Задача - реализовать класс наивного байесовского классификатора согласно спецификации"
   ]
  },
  {
   "cell_type": "code",
   "execution_count": 1,
   "metadata": {},
   "outputs": [],
   "source": [
    "\"\"\"имплементация наивного байесовского классификатора\"\"\"\n",
    "class NaiveBayes:\n",
    "    def __init__(self):\n",
    "        pass\n",
    "\n",
    "    def fit(self, data: list, target: list):\n",
    "        \"\"\"\n",
    "\n",
    "        :param data: массив документов, каждый документ - объект типа str\n",
    "        :param target: массив меток объектов\n",
    "        :return:\n",
    "        \"\"\"\n",
    "        pass\n",
    "\n",
    "    def predict(self, data: list):\n",
    "        \"\"\"\n",
    "\n",
    "        :param data: массив документов, для каждого из которых нужно предсказать метку\n",
    "        :return:\n",
    "        \"\"\"\n",
    "        pass"
   ]
  },
  {
   "cell_type": "markdown",
   "metadata": {},
   "source": [
    "Реализовать классификатор в файле `naive_bayes_hw.ipynb`"
   ]
  },
  {
   "cell_type": "markdown",
   "metadata": {},
   "source": [
    "# Основы теории вероятностей: случайные величины\n",
    "\n",
    "## Дискретные СВ\n",
    "\n",
    "Случайная величина- это целочисленная функция над случайным событием $X(\\omega): \\Omega \\rightarrow R^1$. *Реализация* случайной величины - это конкретное значение, полученное в результате эксперимента.\n",
    "\n",
    "*Дискретная случайная величиная* задаётся таблицей распределения\n",
    "\n",
    "| x  | x_1 | x_2 | $\\ldots$ | x_n |\n",
    "| --- | --- | --- | --- | --- |\n",
    "|\tp\t|\tp_1\t| p_2 | $\\ldots$ | p_n |\n",
    "\n",
    "Причём выполняется условие нормировки $p_1+\\ldots p_n = 1$\n",
    "\n",
    "### Числовые характеристики дискретных СВ\n",
    "\n",
    "**Математическое ожидание** это аналог среднего арифметического\n",
    "$$\n",
    "m_x = M[X] = \\sum_{i=1}^{N}x_ip_i\n",
    "$$\n",
    "\n",
    "**Дисперсия** является мерой разброса в реализациях случайной величины\n",
    "$$\n",
    "d_x = D[X] = \\sum_{i=1}^{N}p_i(x_i-m_i)^2\n",
    "$$\n",
    "\n",
    "### Пример: биномиальное распределение\n",
    "\n",
    "Случайная величина $X$ с реализациями $x_k=k, k=\\overline{0, n}$ имеет биномиальное распределение $X \\sim Bi(n,p)$ с параметрами $n$ и $p\\in(0,1)$, если вероятность события ${X = x_k}$ вычисляется по формуле Бернулли:\n",
    "$$\n",
    "p_n(k) = P{X=x_k} = C_n^kp^kq^{n-k}, q=1-p\n",
    "$$\n",
    "Характеристики СВ, распределённой биномиально \n",
    "$$M[X]=n\\cdot p; D[X] = npq$$\n",
    "\n",
    "Другой пример дискретного распределения - распределение Пуассона.\n",
    "\n",
    "## Непрерывные СВ\n",
    "\n",
    "*Непрерывная случайная величина* задаётся функцией плотности распределения $f(x)$. С помощью плотности можно вычислить вероятность попадения СВ в интервал\n",
    "$$\n",
    "P(a\\le X \\le b) = \\int_a^b f(x)dx\n",
    "$$\n",
    "Функция распределения - это интеграл плотности вероятности\n",
    "$$\n",
    "F(x) = \\int_{-\\infty}^{x}f(t)dt\n",
    "$$\n",
    "\n",
    "### Пример: нормальное (гауссовское) распределение\n",
    "\n",
    "$X \\sim N(\\mu, \\sigma)$, где $\\mu=m_x$ - матожидание и $\\sigma^2=d_x$ - дисперсия.\n",
    "Плотность вероятности\n",
    "$$\n",
    "f(x) = \\frac{1}{\\sigma\\sqrt{2\\pi}}exp\\left( -\\frac{(x-m_x)^2}{2\\sigma^2} \\right)\n",
    "$$\n",
    "Функция распределения\n",
    "$$\n",
    "F(x) = \\int_{-\\infty}^{x}f(t)dt = \\Phi\\left( \\frac{x-m}{\\sigma}\\right)\n",
    "$$\n",
    "где $\\Phi$ - функция Лапласа $\\Phi(x) = \\frac12 + \\Phi_0(y)$, которая обладает свойством симметричности $\\Phi(x) = -\\Phi(-x)$\n",
    "$$\n",
    "P\\left( \\frac{|x-m|}{\\sigma} \\le k \\right) = 2\\Phi_0(k)\n",
    "$$\n",
    "\n",
    "Вероятность попадания Случайной величины $X \\sim N(\\mu, \\sigma^2)$ в интервал $[\\alpha, \\beta]$:\n",
    "$$\n",
    "P(\\alpha< X < \\beta) = \\Phi_0\\left(\\frac{\\beta - a}{\\sigma}\\right) - \\Phi_0\\left(\\frac{\\alpha - a}{\\sigma}\\right)\n",
    "$$\n",
    "\n",
    "### Центральная предельная теорема\n",
    "\n",
    "{X_n} - последовательность независимых одинаково распределённых случайных величин, причём $\\forall n: D[X_n]=\\sigma^2<\\infty, M[X_n]=\\mu$, тогда\n",
    "$$\n",
    "\\frac{\\sum_{i}^{n}X_i - \\mu n}{\\sigma\\sqrt{n}} \\rightarrow N(0,1)\n",
    "$$\n",
    "\n",
    "Другими словами $\\sum_{i}^{n}X_i \\sim (n\\mu, n\\sigma^2)$\n",
    "\n",
    "## Другие характеристики СВ\n",
    "\n",
    "**Квантилю** уровня $p$ случайной величины с функцией распределения $F(x)$ называется такое значение $x_p$, при котороым выполняется условие\n",
    "$$\n",
    "x_p = \\{\\min{x}: F(x) \\ge p\\}\n",
    "$$\n",
    "Квантиль уровня $p=\\frac{1}{2}$ называется *медианой* распределения."
   ]
  },
  {
   "cell_type": "markdown",
   "metadata": {},
   "source": [
    "# Слуйчайные величины в жизни\n",
    "\n",
    "Откуда берутся? Все процессы случайны - например, рассмотрим конверсию  "
   ]
  },
  {
   "cell_type": "code",
   "execution_count": 89,
   "metadata": {},
   "outputs": [
    {
     "data": {
      "text/html": [
       "<div>\n",
       "<style scoped>\n",
       "    .dataframe tbody tr th:only-of-type {\n",
       "        vertical-align: middle;\n",
       "    }\n",
       "\n",
       "    .dataframe tbody tr th {\n",
       "        vertical-align: top;\n",
       "    }\n",
       "\n",
       "    .dataframe thead th {\n",
       "        text-align: right;\n",
       "    }\n",
       "</style>\n",
       "<table border=\"1\" class=\"dataframe\">\n",
       "  <thead>\n",
       "    <tr style=\"text-align: right;\">\n",
       "      <th></th>\n",
       "      <th>date</th>\n",
       "      <th>subsite_title</th>\n",
       "      <th>conversion</th>\n",
       "    </tr>\n",
       "  </thead>\n",
       "  <tbody>\n",
       "    <tr>\n",
       "      <th>0</th>\n",
       "      <td>2019-06-01</td>\n",
       "      <td>Windows 10</td>\n",
       "      <td>0.197802</td>\n",
       "    </tr>\n",
       "    <tr>\n",
       "      <th>1</th>\n",
       "      <td>2019-06-01</td>\n",
       "      <td>xboxOne</td>\n",
       "      <td>0.200704</td>\n",
       "    </tr>\n",
       "    <tr>\n",
       "      <th>2</th>\n",
       "      <td>2019-06-02</td>\n",
       "      <td>Windows 10</td>\n",
       "      <td>0.287532</td>\n",
       "    </tr>\n",
       "    <tr>\n",
       "      <th>3</th>\n",
       "      <td>2019-06-02</td>\n",
       "      <td>xboxOne</td>\n",
       "      <td>0.270677</td>\n",
       "    </tr>\n",
       "    <tr>\n",
       "      <th>4</th>\n",
       "      <td>2019-06-03</td>\n",
       "      <td>Windows 10</td>\n",
       "      <td>0.439331</td>\n",
       "    </tr>\n",
       "  </tbody>\n",
       "</table>\n",
       "</div>"
      ],
      "text/plain": [
       "         date subsite_title  conversion\n",
       "0  2019-06-01    Windows 10    0.197802\n",
       "1  2019-06-01       xboxOne    0.200704\n",
       "2  2019-06-02    Windows 10    0.287532\n",
       "3  2019-06-02       xboxOne    0.270677\n",
       "4  2019-06-03    Windows 10    0.439331"
      ]
     },
     "execution_count": 89,
     "metadata": {},
     "output_type": "execute_result"
    }
   ],
   "source": [
    "import os\n",
    "import pandas as pd\n",
    "from sqlalchemy import create_engine\n",
    "\n",
    "\n",
    "postgres_host = '40.89.151.14' #os.environ['APP_POSTGRES_HOST']\n",
    "database = 'postgres'\n",
    "port = '5433'\n",
    "user = 'mai'\n",
    "password = '1930'\n",
    "\n",
    "engine = create_engine(\n",
    "    f'postgresql://{user}:{password}@{postgres_host}:{port}/{database}'\n",
    ")\n",
    "\n",
    "sql_str = \"\"\"\n",
    "SELECT\n",
    "    date,\n",
    "    subsite_title,\n",
    "    SUM(content_watch)::float / SUM(content_impression)::float as conversion\n",
    "FROM (\n",
    "    SELECT\n",
    "        user_id_for_mai,\n",
    "        content_id,\n",
    "        subsite_title,\n",
    "        to_char(to_timestamp(rocket_datetime), 'YYYY-MM-DD') as date,\n",
    "        MAX(CASE WHEN name in ('page_impression', 'click') THEN 1 ELSE 0 END) as content_impression,\n",
    "        MAX(CASE WHEN name='content_watch' THEN 1 ELSE 0 END) as content_watch\n",
    "    FROM movie.events\n",
    "    WHERE\n",
    "        content_id > 0\n",
    "        AND subsite_title in ('xboxOne', 'Windows 10')\n",
    "    GROUP BY user_id_for_mai, content_id, date, subsite_title\n",
    ") as content_watches\n",
    "WHERE\n",
    "    content_impression > 0\n",
    "GROUP BY date, subsite_title\n",
    "ORDER BY date, subsite_title\n",
    "\"\"\"\n",
    "\n",
    "conversion_df = pd.read_sql(sql_str, engine)\n",
    "\n",
    "conversion_df.head()"
   ]
  },
  {
   "cell_type": "code",
   "execution_count": 92,
   "metadata": {},
   "outputs": [
    {
     "data": {
      "text/plain": [
       "<matplotlib.axes._subplots.AxesSubplot at 0x7ff4898d4c50>"
      ]
     },
     "execution_count": 92,
     "metadata": {},
     "output_type": "execute_result"
    },
    {
     "data": {
      "image/png": "[encoded data removed]",
      "text/plain": [
       "<Figure size 432x288 with 1 Axes>"
      ]
     },
     "metadata": {
      "needs_background": "light"
     },
     "output_type": "display_data"
    }
   ],
   "source": [
    "%matplotlib inline\n",
    "\n",
    "df1 = conversion_df[conversion_df['subsite_title']=='Windows 10']\n",
    "df2 = conversion_df[conversion_df['subsite_title']=='xboxOne']\n",
    "\n",
    "\n",
    "ax = df1.plot()\n",
    "df2.plot(ax=ax)"
   ]
  },
  {
   "cell_type": "markdown",
   "metadata": {},
   "source": [
    "Как распределена конверсия?"
   ]
  },
  {
   "cell_type": "code",
   "execution_count": 112,
   "metadata": {},
   "outputs": [
    {
     "data": {
      "text/plain": [
       "<matplotlib.axes._subplots.AxesSubplot at 0x7ff4887d9588>"
      ]
     },
     "execution_count": 112,
     "metadata": {},
     "output_type": "execute_result"
    },
    {
     "data": {
      "image/png": "[encoded data removed]",
      "text/plain": [
       "<Figure size 432x288 with 1 Axes>"
      ]
     },
     "metadata": {
      "needs_background": "light"
     },
     "output_type": "display_data"
    }
   ],
   "source": [
    "ax = conversion_df[conversion_df['subsite_title']=='Windows 10']['conversion'].plot(kind='hist', alpha=0.5, bins=13)\n",
    "conversion_df[conversion_df['subsite_title']=='xboxOne']['conversion'].plot(kind='hist', alpha=0.5, bins=12)"
   ]
  },
  {
   "cell_type": "markdown",
   "metadata": {},
   "source": [
    "## Работа с СВ в Python\n",
    "\n",
    "Для работы со случайными величинами в python  существует несколько модулей\n",
    "\n",
    "* random: https://docs.python.org/3/library/random.html\n",
    "* scipy.stats https://docs.scipy.org/doc/scipy/reference/stats.html\n",
    "* numpy.random https://docs.scipy.org/doc/numpy-1.15.1/reference/routines.random.html\n"
   ]
  },
  {
   "cell_type": "code",
   "execution_count": 9,
   "metadata": {},
   "outputs": [],
   "source": [
    "import pandas as pd\n",
    "import numpy as np\n",
    "import matplotlib.pyplot as plt\n",
    "import scipy.stats as sts\n",
    "%matplotlib inline"
   ]
  },
  {
   "cell_type": "markdown",
   "metadata": {},
   "source": [
    "Пример дискретно распределённой случайной величины"
   ]
  },
  {
   "cell_type": "code",
   "execution_count": 13,
   "metadata": {},
   "outputs": [
    {
     "name": "stdout",
     "output_type": "stream",
     "text": [
      "p1=None, p2=None, p3=None, p4=None\n"
     ]
    }
   ],
   "source": [
    "X = np.random.choice([1, 2, 3, 4], 100)\n",
    "\n",
    "# задача - посчитать вероятности p_1,..., p_4\n",
    "p1 = None\n",
    "p2 = None\n",
    "p3 = None\n",
    "p4 = None\n",
    "\n",
    "print(f\"p1={p1}, p2={p2}, p3={p3}, p4={p4}\")"
   ]
  },
  {
   "cell_type": "markdown",
   "metadata": {},
   "source": [
    "Функции распределения из библиотеки scipy, statsmodels"
   ]
  },
  {
   "cell_type": "code",
   "execution_count": 12,
   "metadata": {},
   "outputs": [
    {
     "ename": "AttributeError",
     "evalue": "'NoneType' object has no attribute 'rvs'",
     "output_type": "error",
     "traceback": [
      "\u001b[0;31m---------------------------------------------------------------------------\u001b[0m",
      "\u001b[0;31mAttributeError\u001b[0m                            Traceback (most recent call last)",
      "\u001b[0;32m<ipython-input-12-6d9f6de30895>\u001b[0m in \u001b[0;36m<module>\u001b[0;34m\u001b[0m\n\u001b[1;32m      3\u001b[0m \u001b[0msample_size\u001b[0m \u001b[0;34m=\u001b[0m \u001b[0;32mNone\u001b[0m\u001b[0;34m\u001b[0m\u001b[0;34m\u001b[0m\u001b[0m\n\u001b[1;32m      4\u001b[0m \u001b[0;31m# выберите подходящий масштаб\u001b[0m\u001b[0;34m\u001b[0m\u001b[0;34m\u001b[0m\u001b[0;34m\u001b[0m\u001b[0m\n\u001b[0;32m----> 5\u001b[0;31m \u001b[0mx\u001b[0m \u001b[0;34m=\u001b[0m \u001b[0mrandom_var\u001b[0m\u001b[0;34m.\u001b[0m\u001b[0mrvs\u001b[0m\u001b[0;34m(\u001b[0m\u001b[0msize\u001b[0m\u001b[0;34m=\u001b[0m\u001b[0msample_size\u001b[0m\u001b[0;34m)\u001b[0m\u001b[0;34m\u001b[0m\u001b[0;34m\u001b[0m\u001b[0m\n\u001b[0m\u001b[1;32m      6\u001b[0m \u001b[0mcdf\u001b[0m \u001b[0;34m=\u001b[0m \u001b[0mrandom_val\u001b[0m\u001b[0;34m.\u001b[0m\u001b[0mcdf\u001b[0m\u001b[0;34m(\u001b[0m\u001b[0mx\u001b[0m\u001b[0;34m)\u001b[0m\u001b[0;34m\u001b[0m\u001b[0;34m\u001b[0m\u001b[0m\n\u001b[1;32m      7\u001b[0m \u001b[0mplt\u001b[0m\u001b[0;34m.\u001b[0m\u001b[0mplot\u001b[0m\u001b[0;34m(\u001b[0m\u001b[0mx\u001b[0m\u001b[0;34m,\u001b[0m \u001b[0mcdf\u001b[0m\u001b[0;34m,\u001b[0m \u001b[0mlabel\u001b[0m\u001b[0;34m=\u001b[0m\u001b[0;34m'theoretical CDF'\u001b[0m\u001b[0;34m)\u001b[0m\u001b[0;34m\u001b[0m\u001b[0;34m\u001b[0m\u001b[0m\n",
      "\u001b[0;31mAttributeError\u001b[0m: 'NoneType' object has no attribute 'rvs'"
     ]
    }
   ],
   "source": [
    "# выбрать распределение https://docs.scipy.org/doc/scipy-0.16.1/reference/stats.html#continuous-distributions\n",
    "random_var = None\n",
    "sample_size = None\n",
    "# выберите подходящий масштаб\n",
    "x = random_var.rvs(size=sample_size)\n",
    "cdf = random_val.cdf(x)\n",
    "plt.plot(x, cdf, label='theoretical CDF')\n",
    "\n",
    "from statsmodels.distributions.empirical_distribution import ECDF\n",
    "ecdf = ECDF(sample)\n",
    "plt.step(ecdf.x, ecdf.y, label='ECDF')\n",
    "\n",
    "plt.ylabel('$f(x)$')\n",
    "plt.xlabel('$x$')\n",
    "plt.legend(loc='upper left')"
   ]
  },
  {
   "cell_type": "markdown",
   "metadata": {},
   "source": [
    "Сгенерируйте точки из гаусссовского распределения и найдите экспериментально квантиль уровня 5%. Найдите теоретическое значение квантили c с помощью scipy."
   ]
  },
  {
   "cell_type": "code",
   "execution_count": 14,
   "metadata": {},
   "outputs": [
    {
     "name": "stdout",
     "output_type": "stream",
     "text": [
      "p005_empirical=None, p005_theoretical=None\n"
     ]
    }
   ],
   "source": [
    "mu,sigma = 0.0, 0.1\n",
    "# зададим нормально распределенную случайную величину\n",
    "norm_rv = sts.norm(loc=mu, scale=sigma)\n",
    "# сгенерируем 10 значений\n",
    "norm_rv.rvs(size=1000)\n",
    "\n",
    "# найдите квантиль уровня p = 5% по выборке\n",
    "p005_empirical = None\n",
    "\n",
    "# найдите теоретическое значение квантили\n",
    "p005_theoretical = None\n",
    "\n",
    "print(f\"p005_empirical={p005_empirical}, p005_theoretical={p005_theoretical}\")"
   ]
  },
  {
   "cell_type": "markdown",
   "metadata": {},
   "source": [
    "Гистограмма - это способ отображения плотности распределения случайной величины. Сгенерируйте выборку из любого распределения и постройте график гистограммы."
   ]
  },
  {
   "cell_type": "code",
   "execution_count": null,
   "metadata": {},
   "outputs": [],
   "source": [
    "plt.hist(sample, density=True)\n",
    "plt.ylabel('fraction of samples')\n",
    "plt.xlabel('$x$')"
   ]
  },
  {
   "cell_type": "markdown",
   "metadata": {},
   "source": [
    "Визуализация Центральной предельной Теоремы"
   ]
  },
  {
   "cell_type": "code",
   "execution_count": null,
   "metadata": {},
   "outputs": [],
   "source": [
    "results = []\n",
    "n = 100\n",
    "exp_rv = sts.expon(1)\n",
    "for i in range(10000):\n",
    "    x = exp_rv.rvs(n)\n",
    "    results.append(x.mean())\n",
    "\n",
    "plt.hist(results, density=True)\n",
    "plt.ylabel('fraction of samples')\n",
    "plt.xlabel('$x$')"
   ]
  },
  {
   "cell_type": "markdown",
   "metadata": {},
   "source": [
    "## Предсказательный и доверительный интервалы\n",
    "\n",
    "Величина $1-\\alpha$ называется *доверительной вероятностью* или *уровнем доверия(надёжности)*, если для случайной величины $X$ выполняется условие\n",
    "$$\n",
    "P\\left(X_{\\frac{\\alpha}{2}} \\le X \\le X_{1-\\frac{\\alpha}{2}} \\right) = 1 - \\alpha\n",
    "$$\n",
    "\n",
    "В этом выражении $[X_{\\frac{\\alpha}{2}}, X_{1-\\frac{\\alpha}{2}} ]$ - это значения квантилей уровня $\\frac{\\alpha}{2}$ и $1-\\frac{\\alpha}{2}$ соответственно, которые являются границами предсказательным интервалом.\n",
    "\n",
    "**Пример** пусть результат эксперимента представляет собой нормально распределённую СВ $X\\sim N(\\mu, \\sigma)$. Тогда предсказательный интервал имеет вид\n",
    "$$\n",
    "P\\left(\\mu - Z_{\\frac{\\alpha}{2}}\\sigma \\le X \\le \\mu + Z_{1-\\frac{\\alpha}{2}} \\right) = 1 - \\alpha\n",
    "$$\n",
    "\n",
    "для тренировки сгенерируйте решите задачу: постройте предсказательный интервал для случайной величины $X\\sim N(\\mu, \\sigma)$:"
   ]
  },
  {
   "cell_type": "code",
   "execution_count": 15,
   "metadata": {},
   "outputs": [
    {
     "name": "stdout",
     "output_type": "stream",
     "text": [
      "z_05 = None, z_95 = None\n"
     ]
    }
   ],
   "source": [
    "from scipy.stats import norm\n",
    "\n",
    "mu = 5\n",
    "sigma = 0.9\n",
    "# используйте функцию ppf\n",
    "\n",
    "z_05 = None\n",
    "z_95 = None\n",
    "\n",
    "print(f\"z_05 = {z_05}, z_95 = {z_95}\")"
   ]
  },
  {
   "cell_type": "markdown",
   "metadata": {},
   "source": [
    "### Точечная оценка параметров по выборке\n",
    "\n",
    "В результате эксперимента мы получаем выборку $X^n = \\left( X_1,\\ldots,X_n \\right)$, порождённую СВ $X$. Мы делаем какие-то предположения о законе распределения $X~F(x, \\theta)$, где $F(\\cdot)$ - некоторое семейство функций распределения, а $\\theta$ - параметры, которые определяют конкретную функцию из семейства. Тогда доверительный интервал для параметра $\\theta$ имеет вид (в общем случае):\n",
    "$$\n",
    "P\\left(\\theta_1(X^n) \\le \\theta \\le \\mu + \\theta_2(X^n) \\right) = 1 - \\alpha\n",
    "$$\n",
    "Где $[\\theta_1(X^n), \\theta_2(X^n)]$ - доверительный интервал параметра $\\theta$. Вопрос на засыпку: чем отличается доверительный интервал от предсказательного?\n",
    "\n",
    "**Пример** Доверительный интервал для математического ожидания гауссовской СВ.\n",
    "\n",
    "СВ $X\\sim N(\\mu, \\sigma)$, где $\\sigma$ известный параметр. По результатам эксперимента получили выборку $X^n = \\left( X_1,\\ldots,X_n \\right)$. Задача - оценить по выборке неизвестный параметр $\\mu$.\n",
    "\n",
    "Чтобы построить доверительный интервал параметра $\\mu$ в первую очередь нужно понять, какое распределение имеет параметр, который мы исследуем. В данном случае мы можем воспользоваться результатами ЦПТ:\n",
    "$$\n",
    "\\overline{X} \\sim N\\left(\\mu, \\frac{\\sigma^2}{n}\\right), \\overline{X} = \\frac{\\sum_{i=1}^{n}X_i}{n}\n",
    "$$\n",
    "\n",
    "где $\\overline{X}$ - среднее значение элементов выборки. В таком случае доверительный интервал имеет вид\n",
    "$$\n",
    "P\\left(\\overline{X} - z_{\\alpha/2}\\sqrt{\\sigma^2/n} \\le  \\mu \\le \\overline{X} + z_{1-\\alpha/2}\\sqrt{\\sigma^2/n}\\right) = 1 - \\alpha\n",
    "$$"
   ]
  },
  {
   "cell_type": "code",
   "execution_count": 16,
   "metadata": {},
   "outputs": [
    {
     "name": "stdout",
     "output_type": "stream",
     "text": [
      "Оценка математического ожидания по выборке mu = [None, None]\n"
     ]
    }
   ],
   "source": [
    "from scipy.stats import norm\n",
    "\n",
    "mu = 5\n",
    "sigma = 0.9\n",
    "D = 1\n",
    "X = [13.27543316, 18.60619498, 28.64266817, 45.4103895, 10.08409655,\n",
    "     44.91948425, 47.23376343, 33.03988962, 31.45570219, 3.089313523]\n",
    "\n",
    "# используйте функцию ppf для нахождения квантили\n",
    "alpha = 0.05\n",
    "\n",
    "n = None\n",
    "left_border = None\n",
    "right_border = None\n",
    "\n",
    "print(f\"Оценка математического ожидания по выборке mu = [{left_border}, {right_border}]\")"
   ]
  },
  {
   "cell_type": "markdown",
   "metadata": {},
   "source": [
    "## Применение ЦПТ к анализу экспериментов\n",
    "\n",
    "Для анализа результатов эксперимента можно применить теорему Муавра-Лапласа\n",
    "\n",
    "$$\n",
    "P(l<M<k) = \\Phi_0\\left(\\frac{k-np}{\\sqrt{npq}}\\right) -  \\Phi_0\\left(\\frac{l-np}{\\sqrt{npq}}\\right)\n",
    "$$\n",
    "\n",
    "## Эксперименты по схеме Бернулли\n",
    "\n",
    "Пусть проводится эксперимент по схеме Бернулли, в каждом из $n$ опытов событие $A$, которое мы называем успехом эксперимента, происходит с вероятностью $p$, причём точное значение вероятности $p$ нам неизвестно. Количество успехов в серии опытов $X$, тогда\n",
    "$$\n",
    "\\hat{p} = \\frac{X}{n}\n",
    "$$\n",
    "является оценкой параметра $p$. Если для $\\hat{p}$ выполняются условия\n",
    "$$\n",
    "\\left\\{ \n",
    "\\begin{array}{l}\n",
    " \\mid \\hat{p} - p\\mid < \\delta \\\\\n",
    " P(\\mid\\hat{p} - p\\mid < \\delta) = 1-\\alpha\n",
    "\\end{array}\n",
    "\\right.\n",
    "$$\n",
    "то выборка называется **репрезентативной** при уровне доверия $\\alpha$, где $\\delta$ - желаемая точность.\n"
   ]
  },
  {
   "cell_type": "markdown",
   "metadata": {},
   "source": [
    "##### Задание\n",
    "\n",
    "Оцените конверсию по выборке"
   ]
  },
  {
   "cell_type": "code",
   "execution_count": 37,
   "metadata": {},
   "outputs": [
    {
     "name": "stdout",
     "output_type": "stream",
     "text": [
      "[0, 1, 1, 1, 1, 1, 0, 1, 1, 1, 1, 1, 1, 1, 1, 0, 1, 1, 1, 0, 0, 1, 1, 1, 0, 0, 0, 1, 1, 1, 0, 0, 1, 0, 1, 1, 1, 1, 1, 1, 1, 1, 0, 1, 0, 0, 1, 1, 1, 1, 1, 1, 1, 1, 1, 0, 1, 1, 1, 0, 1, 1, 1, 1, 1, 0, 1, 1, 1, 1, 0, 1, 1, 1, 1, 1, 1, 0, 1, 1, 1, 1, 0, 1, 0, 1, 1, 1, 1, 1, 1, 1, 1, 0, 1, 1, 0, 1, 1, 1]\n"
     ]
    }
   ],
   "source": [
    "import pickle\n",
    "\n",
    "with open('data/pool_spample.pkl', 'rb') as f:\n",
    "    pool_data = pickle.load(f)\n",
    "# ---- ВАШ КОД ТУТ ---\n",
    "\n",
    "print(pool_data)\n",
    "\n",
    "# --------------------"
   ]
  },
  {
   "cell_type": "markdown",
   "metadata": {},
   "source": [
    "Пример с **социологическим опросом**: пусть $X$ - количество положительно ответивших респондентов, $X\\sim Bi(n,p)$. При $n\\rightarrow \\infty$ согласно ЦПТ $X\\sim N(np, npq)$\n",
    "\n",
    "Воспользуемся теоремой Муавра-Лапласа:\n",
    "$$\n",
    "P(\\mid\\hat{p} - p\\mid < \\delta) = P\\left(-\\delta < \\hat{p} - p <\\delta \\right)\n",
    "$$\n",
    "\n",
    "В силу свойств математического ожидания и дисперсии\n",
    "$$\n",
    "\\frac{X}{n}\\sim N\\left(\\frac{np}{n}, \\frac{npq}{n^2}\\right) \\sim N\\left(p, \\frac{pq}{n} \\right)\n",
    "$$\n",
    "\n",
    "Окончательно\n",
    "$$\n",
    "\\frac{X}{n} - p \\sim N\\left(p-p, \\frac{pq}{n}\\right)  \\sim N\\left(0, \\frac{pq}{n}\\right)\n",
    "$$\n",
    "\n",
    "В соответствии вероятностью попадания СВ в интервал\n",
    "$$\n",
    "P(\\mid\\hat{p} - p\\mid < \\delta) = 2\\Phi_0\\left(\\frac{\\delta-m_x}{\\sqrt{d_X}}\\right) = 2\\Phi_0\\left(\\frac{\\delta-0}{\\sqrt{\\frac{pq}{n}}}\\right) = 2\\Phi_0\\left(\\frac{\\delta\\sqrt{n}}{\\sqrt{pq}}\\right)\n",
    "$$\n",
    "Перейдём к доверительной вероятности\n",
    "$$\n",
    "2\\Phi_0\\left(\\frac{\\delta\\sqrt{n}}{\\sqrt{pq}}\\right) = 1 - \\alpha \\rightarrow \\Phi_0\\left(\\frac{\\delta\\sqrt{n}}{\\sqrt{pq}}\\right) = \\frac12 - \\frac{\\alpha}{2}\n",
    "$$\n",
    "Воспользуемся определением квантили:\n",
    "$$\n",
    "\\frac{\\delta\\sqrt{n}}{\\sqrt{pq}} = Z_{\\frac{1}{2}+\\left(\\frac{1}{2}-\\frac{\\alpha}{2}\\right)} = Z_{1-\\frac{\\alpha}{2}} \\longrightarrow n = \\left( \\frac{Z_{1-\\frac{\\alpha}{2}}}{\\delta}\\right)^2pq\n",
    "$$"
   ]
  },
  {
   "cell_type": "markdown",
   "metadata": {},
   "source": [
    "При таком значении $n$ выборка будет репрезентативной\n",
    "\n",
    "Каким образом определить значения $p,q$:\n",
    "1. из прошлых исследований;\n",
    "1. еcли дополнительной информации нет, то выбрать $p=q=\\frac12$;\n",
    "1. если известен интервал для $p\\in[\\alpha, \\beta]$, то нужно выбирать значение, максимально близкое к $\\frac12$\n",
    "\n",
    "**Задача** За кандидата собираются голосовать 30-40%. Сколько нужно опросить респондентов, чтобы оценить долю голосов за кандидата с точность $2\\%$.\n",
    "\n",
    "Написать функцию, которая рассчитывает объём репрезентативной выборки"
   ]
  },
  {
   "cell_type": "code",
   "execution_count": 6,
   "metadata": {},
   "outputs": [],
   "source": [
    "def representative_sample_size(alpha, delta, p=None):\n",
    "    \"\"\"Функция для расчёта объёма репрезентативной выборки\n",
    "    \n",
    "    :param alpha: уровень доверия\n",
    "    :param delta: точность\n",
    "    :param p (list | int | None): теоретическая вероятность успеха \n",
    "    :return: \n",
    "    \"\"\"\n",
    "    n = None\n",
    "    \n",
    "    return n"
   ]
  },
  {
   "cell_type": "markdown",
   "metadata": {},
   "source": [
    "Смоделируйте эксперимент с соц-опросом с помощью распределения Бернулли\n",
    "\n",
    "* сгенерируйте выборку того размера, который рассчитали\n",
    "* посчитайте прогнозируемый рейтинг кандидата "
   ]
  },
  {
   "cell_type": "code",
   "execution_count": 36,
   "metadata": {},
   "outputs": [],
   "source": [
    "# ---- ВАШ КОД ТУТ ---\n",
    "\n",
    "p = 0.7  # задайте тут правильное значение\n",
    "\n",
    "bernoulli_rv = sts.bernoulli(p)\n",
    "\n",
    "print(pool_data)\n",
    "\n",
    "# --------------------"
   ]
  },
  {
   "cell_type": "markdown",
   "metadata": {},
   "source": [
    "# Проверка статистистических гипотез\n",
    "\n",
    "## Основные определения\n",
    "\n",
    "**Статистическая гипотеза** - любое предположение о законе распределения случайной величины.\n",
    "\n",
    "Чтобы проверить статичтическую гипотезу, нужно проанализировать выборку независимых, одинаково распределённых случайных величин $X^n = {X_1,\\ldots,X_n}$.\n",
    "\n",
    "Статистика $T(X^n)$ - любая функция, которая вычисляется по значением выборки\n",
    "\n",
    "Алгоритм проверки статистических гипотез\n",
    "\n",
    "1. Сформулировать основную гипотезу $H_0$ и альтернативную гипотезу $H_{\\text{a}}$\n",
    "1. Выбрать значение уровня значимости $\\alpha: \\alpha = P(H_{\\text{a}}|H_0)$\n",
    "1. Выбрать статистику  $T(X^n)$ \n",
    "1.Установить закон распределения статистики $F$ в случае, когда нулевая гипотеза верна\n",
    "$$T(X^n|H_0)\\sim F; T(X^n|H_0)\\not\\sim F$$\n",
    "1. Построить доверительную область и критическую область\n",
    "1. Вычислить реализацию статичтики\n",
    "1. Принять решение об истинности гипотезы\n",
    "\n",
    "Таким образом мы выдвигаем какое-то предположение о данных (гипотезу) и на основе данных эксперимента делаем вывод о том, верна ли наша гипотеза.\n",
    "\n",
    "**p-value** - достигаемый уровень значимости: вероятность получить в результате повторных экспериментов такие же, или ещё более экстремальные значения статистики критерия при условии, что $H_0$ - справедлива."
   ]
  },
  {
   "cell_type": "markdown",
   "metadata": {},
   "source": [
    "На картинке пример статистики, которая распределена нормальным образом - в центре область, где значения статистики подтверждают нулевую гипотезу, а справа и слева т.н. *критические области*, где значения статистики *отвергают* гипотезу $H_0$\n",
    "\n",
    "![stat_test](img/stat_test.jpg)"
   ]
  },
  {
   "cell_type": "markdown",
   "metadata": {},
   "source": [
    "Если p-value мало, значит данные эксперимента свидетельствуют против нулевой гипотезы. Величину $p-value$ сравнивают с порогом, который определяют перед началом эксперимента: $p \\le \\alpha \\longrightarrow H_0$ отвергается в пользу альтернативы $H_1$ . $\\alpha$ называют уровнем значимости (обычно принимают  $\\alpha = 0.05$).\n",
    "\n",
    "При оценивании статистических критеритериев различаю ошибки I и II рода\n",
    "\n",
    "| -  | H_0 верна | H_1 верна |\n",
    "| --- | --- | --- |\n",
    "|\tПриняли H_0\t| Верное решение\t| Ошибка II рода |\n",
    "|\tОтклонили H_0\t|\tОшибка I рода\t| Верное решение |\n",
    "\n",
    "\n",
    "При проверке гипотез ошибка I рода более критична - она ограничена сверху:\n",
    "$$\n",
    "P(H_1 |  H_0 - верна) = P(p \\le \\alpha | H_0 ) \\le \\alpha \n",
    "$$\n",
    "\n",
    "Гипотезы неравнозначны - $H_0$ либо отвергается, либо не отвергается. Ошибка II рода мягко минимизируется - выбираем критерий с наибольшей мощностьюv $\\beta$:\n",
    "$$\n",
    "\\beta = 1- P(H_0 |  H_1 - верна)\n",
    "$$\n",
    "\n",
    "При планировании экспериментов по проверке статистических гипотез нужно соблюдать следующие правила (experiment design):\n",
    "\n",
    "* выбрать критерий\n",
    "* задать уровень значимости (ошибку I рода)\n",
    "* выбрать ожидаемый размер эффекта\n",
    "* определить необходимый объём выборки\n",
    "\n",
    "Критерий называется **параметрическим**, если мы делаем какие-то предположения о принадлежности плотности распределения статистики в какому-то семейству функций. Если таких предположений не делается, критерий называется **непараметрическим**."
   ]
  },
  {
   "cell_type": "markdown",
   "metadata": {},
   "source": [
    "## Примеры статистических критериев\n",
    "\n",
    "### z-критерий Стьюдента (одновыборочный)\n",
    "\n",
    "Пуст результат эксперимента - простая выборка (i.i.d., Independent and identically distributed)\n",
    "$$\n",
    "X^n = N(X_1,\\ldots,X_n) , \\forall i: X_i \\sim N(\\mu,\\sigma^2), \\sigma - \\text{известная величина}\n",
    "$$\n",
    "\n",
    "Нулевая гипотеза и альтернатива:\n",
    "\n",
    "$$\n",
    "\\left\\{\n",
    "\\begin{array}{c}\n",
    "H_0: \\mu=\\mu_0 \\\\\n",
    "H_1: \\mu_1 \\neq \\mu_0\n",
    "\\end{array}\n",
    "\\right.\n",
    "$$\n",
    "\n",
    "Статиcтика критерия:\n",
    "$$\n",
    "Z(X^n) = \\frac{\\overline{X}- μ_0}{\\frac{\\sigma}{\\sqrt{n}}}\n",
    "$$\n",
    "\n",
    "Нулевое распределение: \n",
    "$$\n",
    "Z(X^n) \\sim N(0,1)\n",
    "$$\n",
    "\n",
    "На уровне значимости $\\alpha$ гипотеза $H_0$ отвергается при значении статистики $Z(X^n)=z$ таком, что $z \\lt z_\\alpha$, где $z_\\alpha$ - значение квантили нормального распределения уровня $\\alpha$.\n",
    "\n",
    "#### Задача на одновыборочный z-критерий\n",
    "\n",
    "Средняя масса детей в неблагополучных семьях при рождении 2.8 кг.\n",
    "В экспериментальной программе ведения беременности участвовали 25 женщин.\t\n",
    "Средний вес младенцев в экспериментальной группе составил 3.075 кг.\n",
    "Является ли данное отклонение статистически значимым? Исходя из прошлых иследований известно, что вес имеет нормальное распределение с $\\sigma = 0.5$\n",
    "\n",
    "Основная гипотеза H0:\t\tX_среднее = 2.8\n",
    "\n",
    "Альтернативная гипотеза H1\t\tX_среднее > 2.8"
   ]
  },
  {
   "cell_type": "code",
   "execution_count": 14,
   "metadata": {},
   "outputs": [
    {
     "ename": "SyntaxError",
     "evalue": "invalid syntax (<ipython-input-14-db0beb2f9f6c>, line 1)",
     "output_type": "error",
     "traceback": [
      "\u001b[0;36m  File \u001b[0;32m\"<ipython-input-14-db0beb2f9f6c>\"\u001b[0;36m, line \u001b[0;32m1\u001b[0m\n\u001b[0;31m    Размер выборкиn\u001b[0m\n\u001b[0m                  ^\u001b[0m\n\u001b[0;31mSyntaxError\u001b[0m\u001b[0;31m:\u001b[0m invalid syntax\n"
     ]
    }
   ],
   "source": [
    "# Размер выборки\n",
    "n = None\n",
    "# С.К.О.\n",
    "sigma = None\n",
    "# Уровень доверия \n",
    "alpha = None\n",
    "# Значение квантили\n",
    "z_095 = None\n",
    "# Ср. знач. в ген. совокупности\n",
    "global_mean = None\n",
    "# Ср. знач. в эксперименте\n",
    "sample_mean = None\n",
    "# Считаем статистику\n",
    "Z_x = None\n",
    "# Критическая область:\n",
    "Z_critical = None\n",
    "print(\"Является ли отклонение значимым {}\".format(Z_x > Z_critical))"
   ]
  },
  {
   "cell_type": "markdown",
   "metadata": {},
   "source": [
    "\n",
    "### t-критерий Стьюдента (одновыборочный)\n",
    "\n",
    "В $z$-критерии Стьюдента мы делаем довольно сильное предположение о том, что значение дисперсии $\\sigma^2$ нам известно (например, гарантируется технологическим процессом, если речь идёт об технических характеристиках изделий на производстве). Если значение $\\sigma$ не известно, мы применяем $t$-критерий Стьюдента, который имеет следующий вид:\n",
    "$$\n",
    "X^n = N(X_1,\\ldots,X_n) , \\forall i: X_i \\sim N(\\mu,\\sigma^2), \\sigma - \\text{неизвестная величина}\n",
    "$$\n",
    "\n",
    "Нулевая гипотеза и альтернатива:\n",
    "\n",
    "$$\n",
    "\\left\\{\n",
    "\\begin{array}{c}\n",
    "H_0: \\mu=\\mu_0 \\\\\n",
    "H_1: \\mu_1 \\neq \\mu_0\n",
    "\\end{array}\n",
    "\\right.\n",
    "$$\n",
    "\n",
    "Статиcтика критерия:\n",
    "$$\n",
    "Z(X^n) = \\frac{\\overline{X}- μ_0}{\\frac{S}{\\sqrt{n}}}\n",
    "$$\n",
    "\n",
    "Нулевое распределение:\n",
    "$$\n",
    "T(X^n) \\sim \\text{St}(n-1)\n",
    "$$\n",
    "где S=SQRT(Σ(Xi-  Xmean)2/n) - выборочное отклонение, которое вычисляется по формуле\n",
    "$$\n",
    "S = \\sqrt{\\sum_{i=1}^{n}\\frac{(X_i-\\overline{X})^2}{n}}\n",
    "$$\n",
    "\n",
    "На уровне значимости $\\alpha$ гипотеза $H_0$ отвергается при значении статистики $T(X^n)=t$ таком, что $t \\lt t_\\alpha$, где $t_\\alpha$ - значение квантили распределения Стьюдента уровня $\\alpha$.\n",
    "\n",
    "\n",
    "### Критерий Стьюдента для двух выборок\n",
    "Пусть $X^{n_1}=N(X_{11},\\ldots,X_{1n})$ и $X^{n_2}=N(X_{21},\\ldots,X_{2n})$ - две независимых выборки, причём $X^{n_2}\\sim N(\\mu_{11},\\sigma_{11})$ и $X^{n_1}\\sim N(\\mu_{21},\\sigma_{21})$\n",
    "\n",
    "Нулевая гипотеза и альтернатива:\n",
    "\n",
    "$$\n",
    "\\left\\{\n",
    "\\begin{array}{c}\n",
    "H_0: \\mu_1=\\mu_2 \\\\\n",
    "H_1: \\mu_1 \\neq \\mu_2\n",
    "\\end{array}\n",
    "\\right.\n",
    "$$\n",
    "\n",
    "Статистика критерия\n",
    "$$\n",
    "\\left\\{\n",
    "\\begin{array}{lll}\n",
    "Z(X^{n_1}, X^{n_2}) \\sim N(0,1) & Z(X^{n_1}, X^{n_2}) = \\frac{\\overline{X^{n_1}}-\\overline{X^{n_2}}}{\\sqrt{\\frac{\\sigma_1^2}{n_1}+\\frac{\\sigma_2^2}{n_2}}} & \\sigma_1, \\sigma_2 - \\text{известные значения СКО}\\\\\n",
    "T(X^{n_1}, X^{n_2})\\sim St(v) & T(X^{n_1}, X^{n_2}) = \\frac{\\overline{X^{n_1}}-\\overline{X^{n_2}}}{\\sqrt{\\frac{s_1^2}{n_1}+\\frac{s_2^2}{n_2}}} & s^2_X = \\sum_{i=1}^{N}\\frac{(X_i - \\overline{X})^2}{N-1}\n",
    "\\end{array}\n",
    "\\right.\n",
    "$$\n",
    "\n",
    "Число степеней свободы для случая неизвестных дисперсий\n",
    "$$\n",
    "v = \\frac{\\left(\\frac{s_1^2}{n_1}+\\frac{s_2^2}{n_2}\\right)^2}{\\frac{(s_1^2/n_1)^2}{n_1-1}+\\frac{(s_2^2/n_2)^2}{n_2-1}}\n",
    "$$\n",
    "\n",
    "Статья на вики про [Критерий Стьюдента](https://ru.wikipedia.org/wiki/T-Критерий_Стьюдента ) или на [machinelearning.ru](http://www.machinelearning.ru/wiki/index.php?title=Критерий_Стьюдента )\n",
    "\n",
    "\n",
    "В качестве самостоятельной работы нужно написать функцию проверки критерия Стьюдента для двух выборок в случае неизвестной дисперсии и сравните с любой готовой реализацией."
   ]
  },
  {
   "cell_type": "code",
   "execution_count": 5,
   "metadata": {},
   "outputs": [
    {
     "data": {
      "text/plain": [
       "0"
      ]
     },
     "execution_count": 5,
     "metadata": {},
     "output_type": "execute_result"
    }
   ],
   "source": [
    "def student_statistics(X_1, X_2):\n",
    "    stat_value = None\n",
    "    \n",
    "    return stat_value\n",
    "\n",
    "sample_1 = []\n",
    "sample_2 = []\n",
    "\n",
    "stat_value = student_statistics(sample_1, sample_2)\n",
    "quantile_level = 0.05\n",
    "\n",
    "quantile_value = None\n",
    "\n",
    "test_result = stat_value < quantile_value\n",
    "\n",
    "print(\"Результат проверки гипотезы : H0 = {}\".format(test_result))"
   ]
  },
  {
   "cell_type": "markdown",
   "metadata": {},
   "source": [
    "### z-критерий для 2-ух долей\n",
    "\n",
    "Пусть $X^{n_1}=N(X_{11},\\ldots,X_{1n})$ и $X^{n_2}=N(X_{21},\\ldots,X_{2n})$ - две независимых выборки, причём обе выборки из распределения Бернулли, $X_i\\sim B(p)$\n",
    "\n",
    "Нулевая гипотеза и альтернатива:\n",
    "\n",
    "$$\n",
    "\\left\\{\n",
    "\\begin{array}{c}\n",
    "H_0: p_1=p_2 \\\\\n",
    "H_1: p_1 \\neq p_2\n",
    "\\end{array}\n",
    "\\right.\n",
    "$$\n",
    "\n",
    "Статистика критерия\n",
    "$$\n",
    "Z(X^{n_1}, X^{n_2}) = \\frac{\\hat{p}_1 - \\hat{p}_2}{\\sqrt{\\hat{p}(1-\\hat{p})\\left(\\frac{1}{n_1} + \\frac{1}{n_2}\\right)}}, Z(X^{n_1}, X^{n_2}) \\sim (N(0,1)\n",
    "$$\n",
    "\n",
    "где $\\hat{p}_{(1,2)}$ - доля успехов в выборках 1 и 2 и\n",
    "$$\n",
    "\\hat{p}=\\frac{(p_1n_1+ p_2n_2  )}{n_1+ n_2}\n",
    "$$\n",
    "\n",
    "#### Задача на проверку z-критерия\n",
    "\n",
    "На прошедшей неделе в рекламной сети параллельно размещалось два баннера Яндекс.Такси. Оба баннера были показаны один миллион раз. Первый получил 10 000 кликов и 500 установок, а второй — 10 500 кликов и 440 установок. Маркетолог просит у вас совета: какой баннер оставить, а какой отключить? Что вы ему ответите?"
   ]
  },
  {
   "cell_type": "code",
   "execution_count": 16,
   "metadata": {},
   "outputs": [
    {
     "name": "stdout",
     "output_type": "stream",
     "text": [
      "Верная ли нулевая гипотеза о равенстве долей: False\n"
     ]
    }
   ],
   "source": [
    "#banner 1\n",
    "n1_click = None\n",
    "n1_installs = None\n",
    "\n",
    "#banner 2\n",
    "n2_click = None\n",
    "n2_installs = None\n",
    "\n",
    "# ctr\n",
    "p1 = None\n",
    "p2 = None\n",
    "\n",
    "# значение статистики критерия\n",
    "T_x = 0\n",
    "\n",
    "# квантиль уровня 0.95 нормального распределения\n",
    "z_095 = 0\n",
    "\n",
    "print(\"Верная ли нулевая гипотеза о равенстве долей: {}\".format(T_x > z_095))"
   ]
  },
  {
   "cell_type": "markdown",
   "metadata": {},
   "source": [
    "\n",
    "## Проверка распределения на нормальность\n",
    "\n",
    "Перечисленные критерии основаны на требовании о нормальности случайной выборки - иначе использовать их бессмысленно. Для проверки на \"нормальность\" выборки есть несколько подходов.\n",
    "\n",
    "### Статистический подход\n",
    "\n",
    "Для проверки гипотезы о нормальности распределения данных можно, например, использовать критерий [хи-квадрат](http://www.machinelearning.ru/wiki/index.php?title=Критерий_хи-квадрат). Статистика критерия основана на том, что интервал в который попали значения выборки разбивается на k отрезков, внутри каждого отрезка происходит \n",
    "сравнение \"теоретической\" частоты (вычисляется как интеграл функции распределения) и эмпирической частоты попадания в этот интервал элементов выборки. Статистика критерия имеет распределение хи-квадрат.\n",
    "\n",
    "У метода есть очевидные недостатки:\n",
    "* неоднозначность выбора количества интервалов $К$\n",
    "* нужна большая выборка\n",
    "\n",
    "Другим статистическим критерием для проверки гипотезы о нормальности явлется критерий [Шапиро-Уилка](http://www.machinelearning.ru/wiki/index.php?title=Критерий_Шапиро-Уилка) Статичтика притерия имеет табличное распределение.\n",
    "\n",
    "### QQ-plot\n",
    "\n",
    "Простым графическим методом проверки данных на соотвествие данных нормальному распределению является QQ-plot.\n",
    "\n",
    "В качестве самостоятельной работы постройте QQ-plot с помощью statsmodels.api.qqplot и scipy.stats.probplot"
   ]
  },
  {
   "cell_type": "code",
   "execution_count": null,
   "metadata": {},
   "outputs": [],
   "source": [
    "import scipy.stats as stats\n",
    "\n",
    "stats.probplot()"
   ]
  },
  {
   "cell_type": "code",
   "execution_count": null,
   "metadata": {},
   "outputs": [],
   "source": [
    "import statsmodels.api as sm\n",
    "\n",
    "sm.qqplot()"
   ]
  },
  {
   "cell_type": "markdown",
   "metadata": {},
   "source": [
    "Проблемы с проверкой на нормальность\n",
    "\n",
    "* На маленьких выборках гипотеза нормальности почти никогда не отклоняется\n",
    "* На больших выборках гипотеза нормальности отклоняется почти всегда\n",
    "\n",
    "На практике: многие критерии (напр. Стьюдента) нечувствительны к незначительным отклонениям\n",
    "\n",
    "## Нормализация данных\n",
    "\n",
    "Если данные не распределены нормально, распределение можно привести их к нормальному распределению:\n",
    "\n",
    "* Преобразования масштаба: Standart Scaling, MinMax Scaling \n",
    "* Монотонные трансформации: SQRT, LOG \n"
   ]
  },
  {
   "cell_type": "markdown",
   "metadata": {},
   "source": [
    "### Непараметрические критерии\n",
    "\n",
    "Перечисленные критерии базируются на гипотезах о виде распределения, из которого получена выборка $X$. Зачастую такое предположение сделать невозможно, в этом случае выход - использование непараметрических критериев - например, ранговых. \n",
    "\n",
    "\n",
    "Пример непараметрического критерия - критерий знаков [на курсе от Яндекса](https://www.coursera.org/learn/stats-for-data-analysis/lecture/kwUyx/kritierii-znakov) а также [Статья на вики про него же](http://www.machinelearning.ru/wiki/index.php?title=Критерий_знаков)\n",
    "\n",
    "#### Пример применения критерия знаков\n",
    "\n",
    "Пусть у группы пользователей онлайн-кинотеатра измерили среднее время смотрения до и после выкатки фичи. Нужно выяснить, выросла ли длительность смотрения"
   ]
  },
  {
   "cell_type": "code",
   "execution_count": 9,
   "metadata": {},
   "outputs": [
    {
     "name": "stdout",
     "output_type": "stream",
     "text": [
      "[0, 0.007812500000000002, 0.06250000000000003, 0.2265625000000001, 0.5000000000000002, 0.7734375000000004, 0.9375000000000006, 0.9921875000000006, 1.0000000000000007]\n",
      "[1, 0, 1, 0, 0, 0, 0]\n",
      "Истинность гипотезы H_0: True\n"
     ]
    },
    {
     "data": {
      "image/png": "[encoded data removed]",
      "text/plain": [
       "<Figure size 432x288 with 1 Axes>"
      ]
     },
     "metadata": {
      "needs_background": "light"
     },
     "output_type": "display_data"
    }
   ],
   "source": [
    "from datetime import datetime\n",
    "\n",
    "from matplotlib import pyplot as plt\n",
    "from scipy.stats import binom\n",
    "import pandas as pd\n",
    "\n",
    "%matplotlib inline\n",
    "\n",
    "# средняя длительность смотрения до выкатки фичи\n",
    "X_1 = [1.4, 2.7, 1.8, 3.9, 6.1, 7.8, 7.9]\n",
    "# средняя длительность смотрения после выкатки фичи\n",
    "X_2 = [0.8, 2.7, 0.9, 5.9, 6.1, 8.1, 11.2]\n",
    "date_rng = pd.date_range(start='2018-01-01', periods=max(len(X_1), len(X_2)), freq='d')\n",
    "pd.DataFrame(\n",
    "    {'test': X_1, 'control': X_2},\n",
    "    index=date_rng\n",
    ").plot()\n",
    "\n",
    "# биномиальное распределение успехов\n",
    "binomial_7 = [binom.pmf(i, 7, 0.5) for i in range(8)]\n",
    "cumulative_binomial_7 = [\n",
    "    sum(binom.pmf(i, 7, 0.5) for i in range(i)) for i in range(9)\n",
    "]\n",
    "\n",
    "print(cumulative_binomial_7)\n",
    "\n",
    "rank_indicator = [int(X_1[i]>X_2[i]) for i in range(len(X_1))]\n",
    "print(rank_indicator)\n",
    "median_index = int(len(X_1)/2)+1 if len(X_1) % 2 == 1 else int(len(X_1)/2)\n",
    "\n",
    "stat = sum(rank_indicator)/len(X_1)\n",
    "\n",
    "print(\"Истинность гипотезы H_0: {}\".format(stat < cumulative_binomial_7[median_index]))"
   ]
  },
  {
   "cell_type": "markdown",
   "metadata": {},
   "source": [
    "Ранговые критерии не делают предположений о законе распределения элементов выборки - этот вид критериев используются если распределение выборки неизвестно. \n",
    "\n",
    "Статистики ранговых критериев имеют табличное распределение, для них характерна нормальная аппроксимация статистики с ростом объёма выборки.\n",
    "\n",
    "\n",
    "**Вариационный ряд** (set of order statistic) — последовательность значений заданной выборки $X^n=(X_1,\\ldots,X_n)$ , расположенных в порядке неубывания: $X(1)\\le \\ldots \\le X(2)$. \n",
    "Связка - это подмоножество объектов, у которых одинаковый средний ранг. Если элемент не в связке - его ранг совпадает с номером в вариационном ряду.\n",
    "\n",
    "Пример рангового критерия: [критерий знаковых рангов Вилкоксона](http://www.machinelearning.ru/wiki/index.php?title=Критерий_знаковых_рангов_Уилкоксона), который проверяет гипотезу о равенстве медиан двух выборок $H_0: med(X^{n_1})=med(X^{n_2})$\n",
    "\n",
    "Другие примеры\n",
    "\n",
    "* Критерий [Манна-Уитни](https://ru.wikipedia.org/wiki/U-критерий_Манна_—_Уитни) о равенстве распределений\n"
   ]
  },
  {
   "cell_type": "code",
   "execution_count": 28,
   "metadata": {},
   "outputs": [],
   "source": []
  },
  {
   "cell_type": "code",
   "execution_count": null,
   "metadata": {},
   "outputs": [],
   "source": []
  },
  {
   "cell_type": "code",
   "execution_count": null,
   "metadata": {},
   "outputs": [],
   "source": []
  },
  {
   "cell_type": "code",
   "execution_count": null,
   "metadata": {},
   "outputs": [],
   "source": []
  },
  {
   "cell_type": "code",
   "execution_count": null,
   "metadata": {},
   "outputs": [],
   "source": []
  },
  {
   "cell_type": "markdown",
   "metadata": {},
   "source": [
    "# Самостоятельное изучение\n",
    "\n",
    "\n",
    "* курсы по статистике на Stepic:\n",
    "    * [часть I](https://stepik.org/course/76/promo)\n",
    "    * [часть II](https://stepik.org/course/524/promo)\n",
    "    * [часть III](https://stepik.org/course/2152/promo)"
   ]
  },
  {
   "cell_type": "code",
   "execution_count": null,
   "metadata": {},
   "outputs": [],
   "source": []
  }
 ],
 "metadata": {
  "kernelspec": {
   "display_name": "Python 3",
   "language": "python",
   "name": "python3"
  },
  "language_info": {
   "codemirror_mode": {
    "name": "ipython",
    "version": 3
   },
   "file_extension": ".py",
   "mimetype": "text/x-python",
   "name": "python",
   "nbconvert_exporter": "python",
   "pygments_lexer": "ipython3",
   "version": "3.6.9"
  }
 },
 "nbformat": 4,
 "nbformat_minor": 2
}
