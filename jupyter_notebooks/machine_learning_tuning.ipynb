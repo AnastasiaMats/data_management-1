{
 "cells": [
  {
   "cell_type": "markdown",
   "metadata": {
    "slideshow": {
     "slide_type": "slide"
    }
   },
   "source": [
    "В этом уроке поговорим о понятиях в машинном обучении, которые  пригодятся независимо от того, какую модель обучаем\n",
    "\n",
    "* переобучение\n",
    "* feature engineering\n",
    "\n",
    "Так же обсудим такое важное понятие в машинном обучении как градиентный спуск"
   ]
  },
  {
   "cell_type": "markdown",
   "metadata": {},
   "source": [
    "# Переобучение\n",
    "\n",
    "Переобучение - это явление, когда модель \"слишком сильно\" подгоняется под обучающую выборку и плохо справляется с новыми данными - проведём эксперимент и увидим а примере линейной регрессии, как переобучаются модели"
   ]
  },
  {
   "cell_type": "code",
   "execution_count": 53,
   "metadata": {},
   "outputs": [
    {
     "data": {
      "text/html": [
       "<div>\n",
       "<style scoped>\n",
       "    .dataframe tbody tr th:only-of-type {\n",
       "        vertical-align: middle;\n",
       "    }\n",
       "\n",
       "    .dataframe tbody tr th {\n",
       "        vertical-align: top;\n",
       "    }\n",
       "\n",
       "    .dataframe thead th {\n",
       "        text-align: right;\n",
       "    }\n",
       "</style>\n",
       "<table border=\"1\" class=\"dataframe\">\n",
       "  <thead>\n",
       "    <tr style=\"text-align: right;\">\n",
       "      <th></th>\n",
       "      <th>x_train</th>\n",
       "      <th>y_train</th>\n",
       "    </tr>\n",
       "  </thead>\n",
       "  <tbody>\n",
       "    <tr>\n",
       "      <th>0</th>\n",
       "      <td>0.138368</td>\n",
       "      <td>0.838812</td>\n",
       "    </tr>\n",
       "    <tr>\n",
       "      <th>1</th>\n",
       "      <td>0.157237</td>\n",
       "      <td>0.889313</td>\n",
       "    </tr>\n",
       "    <tr>\n",
       "      <th>2</th>\n",
       "      <td>0.188684</td>\n",
       "      <td>1.430040</td>\n",
       "    </tr>\n",
       "    <tr>\n",
       "      <th>3</th>\n",
       "      <td>0.685553</td>\n",
       "      <td>1.717309</td>\n",
       "    </tr>\n",
       "    <tr>\n",
       "      <th>4</th>\n",
       "      <td>0.874237</td>\n",
       "      <td>2.032588</td>\n",
       "    </tr>\n",
       "  </tbody>\n",
       "</table>\n",
       "</div>"
      ],
      "text/plain": [
       "    x_train   y_train\n",
       "0  0.138368  0.838812\n",
       "1  0.157237  0.889313\n",
       "2  0.188684  1.430040\n",
       "3  0.685553  1.717309\n",
       "4  0.874237  2.032588"
      ]
     },
     "execution_count": 53,
     "metadata": {},
     "output_type": "execute_result"
    }
   ],
   "source": [
    "import numpy as np\n",
    "import pandas as pd\n",
    "\n",
    "data = pd.read_csv('data/non_linear.csv', sep=',')\n",
    "data.head()"
   ]
  },
  {
   "cell_type": "markdown",
   "metadata": {
    "slideshow": {
     "slide_type": "slide"
    }
   },
   "source": [
    "Тренироваться будем на полиномиальной регрессии"
   ]
  },
  {
   "cell_type": "code",
   "execution_count": 54,
   "metadata": {},
   "outputs": [],
   "source": [
    "from sklearn.model_selection import train_test_split\n",
    "from sklearn.linear_model import Ridge, Lasso\n",
    "from sklearn.metrics import mean_squared_error\n",
    "\n",
    "def generate_degrees(source_data: list, degree: int):\n",
    "    \"\"\"Функция, которая принимает на вход одномерный массив, а возвращает n-мерный\n",
    "    Для каждой степени от 1 до  degree возводим x в эту степень\n",
    "    \"\"\"\n",
    "    return np.array([\n",
    "          source_data**n for n in range(1, degree + 1)  \n",
    "    ]).T"
   ]
  },
  {
   "cell_type": "markdown",
   "metadata": {
    "slideshow": {
     "slide_type": "slide"
    }
   },
   "source": [
    "Обучаем модель на валидации, проверяем на контроле для степени полинома *degree=8*. Для разбиения мы воспользуемся функцией [train_test_split](https://scikit-learn.org/stable/modules/generated/sklearn.model_selection.train_test_split.html):\n",
    "\n",
    "* $X$ и $y$ - массивы, которые хотим расщепить на валидацию и контроль\n",
    "* *test_size* принимает значения от нуля до единицы и означает долю объектов, которые нужно отложить на валидацию (обычно выбирают значения между $0.15$ и $0.35$)\n",
    "* *random_state* - любое целое число, если задано то разбиение не будет меняться в разных запусках программы (нужно для воспроизводимости)\n",
    "* параметр $\\alpha=0$ чтобы исключить регуляризацию"
   ]
  },
  {
   "cell_type": "code",
   "execution_count": 55,
   "metadata": {},
   "outputs": [
    {
     "name": "stdout",
     "output_type": "stream",
     "text": [
      "Качество на валидации: 0.119\n",
      "Качество на обучении: 0.052\n"
     ]
    },
    {
     "name": "stderr",
     "output_type": "stream",
     "text": [
      "/www/app/.venv/lib/python3.6/site-packages/sklearn/linear_model/ridge.py:147: LinAlgWarning: Ill-conditioned matrix (rcond=7.97797e-18): result may not be accurate.\n",
      "  overwrite_a=True).T\n"
     ]
    }
   ],
   "source": [
    "degree = 8\n",
    "X = generate_degrees(data['x_train'], degree)\n",
    "y = data.y_train.values\n",
    "X_train, X_valid, y_train, y_valid = train_test_split(X, y, test_size=0.2, random_state=10)\n",
    "model = Ridge(alpha=0).fit(X_train, y_train)\n",
    "y_pred = model.predict(X_valid)\n",
    "y_pred_train = model.predict(X_train)\n",
    "print(\"Качество на валидации: %.3f\" % mean_squared_error(y_valid, y_pred))\n",
    "print(\"Качество на обучении: %.3f\" % mean_squared_error(y_train, y_pred_train))"
   ]
  },
  {
   "cell_type": "markdown",
   "metadata": {
    "slideshow": {
     "slide_type": "slide"
    }
   },
   "source": [
    "Теперь обучим полиномиальную регрессию для степени *degree = 12* c параметром регуляризации *alpha=0*"
   ]
  },
  {
   "cell_type": "code",
   "execution_count": 56,
   "metadata": {},
   "outputs": [
    {
     "name": "stdout",
     "output_type": "stream",
     "text": [
      "Качество на валидации: 0.125\n",
      "Качество на обучении: 0.051\n"
     ]
    }
   ],
   "source": [
    "degree = 12\n",
    "X = generate_degrees(data['x_train'], degree)\n",
    "y = data.y_train.values\n",
    "X_train, X_valid, y_train, y_valid = train_test_split(X, y, test_size=0.2, random_state=10)\n",
    "model = Ridge(alpha=0).fit(X_train, y_train)\n",
    "y_pred = model.predict(X_valid)\n",
    "y_pred_train = model.predict(X_train)\n",
    "print(\"Качество на валидации: %.3f\" % mean_squared_error(y_valid, y_pred))\n",
    "print(\"Качество на обучении: %.3f\" % mean_squared_error(y_train, y_pred_train))"
   ]
  },
  {
   "cell_type": "markdown",
   "metadata": {
    "slideshow": {
     "slide_type": "slide"
    }
   },
   "source": [
    "Как изменилась ошибка на обучении? Было $0.052$, стало $0.051$, т.е. *ошибка на обучении падает*.\n",
    "\n",
    "Как изменилась ошибка на валидации? Было $0.119$, стало $0.125$, т.е. *ошибка на валидации растёт*.\n",
    "\n",
    "Это и есть признак переобучения - ошибка на валидации растёт, а на обучении падает, степень полинома $n=12$ хуже, чем степень полинома $n=8$, модель переобучилась."
   ]
  },
  {
   "cell_type": "markdown",
   "metadata": {},
   "source": [
    "### Домашняя работа: переобучение \n",
    "\n",
    "У класса *Ridge* в конструкторе есть параметр регуляризации - обучите регрессию при $\\alpha=0.01$. \n",
    "\n",
    "Как изменилась ошибка на обучении? Как изменилась ошибка на валидации? Удалось ли победить переобучение?"
   ]
  },
  {
   "cell_type": "code",
   "execution_count": 57,
   "metadata": {},
   "outputs": [],
   "source": [
    "# -- ВАШ КОД ТУТ --\n",
    "\n",
    "\n",
    "\n",
    "\n",
    "\n",
    "\n",
    "# ------------------"
   ]
  },
  {
   "cell_type": "markdown",
   "metadata": {
    "slideshow": {
     "slide_type": "slide"
    }
   },
   "source": [
    "### Вывод\n",
    "\n",
    "\n",
    "Переобучение - это плохо. Детектировать можно с помощью валидационной выборки. Победить переобучение можно с помощью регуляризации в библиотечном классе Ridge"
   ]
  },
  {
   "cell_type": "markdown",
   "metadata": {
    "slideshow": {
     "slide_type": "slide"
    }
   },
   "source": [
    "### Домашняя работа: Lasso vs Ridge\n",
    "\n",
    "На данных из файла `data/non_linear.csv`\n",
    "* сгенерируйте данные до степени *degree = 8* включительно\n",
    "* обучите модель `sklearn.linear_model.Lasso` и модель `sklearn.linear_model.Ridge` на полученных данных\n",
    "* используйте коэффициент регуляризации $\\alpha=0.8$ для обеих моделей\n",
    "* постройте два столбчатых графика, на которых отобразите величину коэффициентов в для Ridge регрессии и Lasso регрессии виде столбиков"
   ]
  },
  {
   "cell_type": "markdown",
   "metadata": {},
   "source": [
    "Пример графиков для 3-й степени (просто для примера, у вас может по-другому выглядеть). Какой можно сделать в вывод по величине коэффициентов?:\n",
    "![coeff_example](img/coeff_example.png)"
   ]
  },
  {
   "cell_type": "code",
   "execution_count": 58,
   "metadata": {},
   "outputs": [],
   "source": [
    "# -- ВАШ КОД ТУТ ---\n",
    "\n",
    "\n",
    "\n",
    "# ------------------"
   ]
  },
  {
   "cell_type": "markdown",
   "metadata": {
    "slideshow": {
     "slide_type": "slide"
    }
   },
   "source": [
    "# Борьба с переобучением: регуляризация\n",
    "\n",
    "Построим несколько моделей полиномиальной регрессии для разных степеней полинома, чтобы детектировать переобучение"
   ]
  },
  {
   "cell_type": "code",
   "execution_count": 59,
   "metadata": {},
   "outputs": [
    {
     "data": {
      "text/html": [
       "<div>\n",
       "<style scoped>\n",
       "    .dataframe tbody tr th:only-of-type {\n",
       "        vertical-align: middle;\n",
       "    }\n",
       "\n",
       "    .dataframe tbody tr th {\n",
       "        vertical-align: top;\n",
       "    }\n",
       "\n",
       "    .dataframe thead th {\n",
       "        text-align: right;\n",
       "    }\n",
       "</style>\n",
       "<table border=\"1\" class=\"dataframe\">\n",
       "  <thead>\n",
       "    <tr style=\"text-align: right;\">\n",
       "      <th></th>\n",
       "      <th>x_train</th>\n",
       "      <th>y_train</th>\n",
       "    </tr>\n",
       "  </thead>\n",
       "  <tbody>\n",
       "    <tr>\n",
       "      <th>0</th>\n",
       "      <td>0.138368</td>\n",
       "      <td>0.838812</td>\n",
       "    </tr>\n",
       "    <tr>\n",
       "      <th>1</th>\n",
       "      <td>0.157237</td>\n",
       "      <td>0.889313</td>\n",
       "    </tr>\n",
       "    <tr>\n",
       "      <th>2</th>\n",
       "      <td>0.188684</td>\n",
       "      <td>1.430040</td>\n",
       "    </tr>\n",
       "    <tr>\n",
       "      <th>3</th>\n",
       "      <td>0.685553</td>\n",
       "      <td>1.717309</td>\n",
       "    </tr>\n",
       "    <tr>\n",
       "      <th>4</th>\n",
       "      <td>0.874237</td>\n",
       "      <td>2.032588</td>\n",
       "    </tr>\n",
       "  </tbody>\n",
       "</table>\n",
       "</div>"
      ],
      "text/plain": [
       "    x_train   y_train\n",
       "0  0.138368  0.838812\n",
       "1  0.157237  0.889313\n",
       "2  0.188684  1.430040\n",
       "3  0.685553  1.717309\n",
       "4  0.874237  2.032588"
      ]
     },
     "execution_count": 59,
     "metadata": {},
     "output_type": "execute_result"
    }
   ],
   "source": [
    "data.head()"
   ]
  },
  {
   "cell_type": "markdown",
   "metadata": {
    "slideshow": {
     "slide_type": "slide"
    }
   },
   "source": [
    "Отобразим данные на графике"
   ]
  },
  {
   "cell_type": "code",
   "execution_count": 60,
   "metadata": {},
   "outputs": [
    {
     "data": {
      "image/png": "[encoded data removed]",
      "text/plain": [
       "<Figure size 432x288 with 1 Axes>"
      ]
     },
     "metadata": {
      "needs_background": "light"
     },
     "output_type": "display_data"
    }
   ],
   "source": [
    "import matplotlib.pyplot as plt\n",
    "%matplotlib inline\n",
    "# основной график\n",
    "plt.scatter(data.x_train, data.y_train, 40, 'g', 'o', alpha=0.8)\n",
    "plt.show()"
   ]
  },
  {
   "cell_type": "markdown",
   "metadata": {
    "slideshow": {
     "slide_type": "slide"
    }
   },
   "source": [
    "Обучим полиномиальную регрессию для разных степеней полинома: очень большой, очень маленькой и средней. Для полиномиальной модели порядка $n$ в матрицу фичей $X$ добавляются степени фичей (например, в случае обучения регрессии на единственной фиче модуль приобретёт вид $y = w_0 + w_1x +w_2x^2 + \\ldots + w_nx^n$).\n",
    "\n",
    "Кроме прочей информации будем вычислять *норму вектора весов* $w$ - корень из суммы квадратов коэффициентов линейной регрессии. "
   ]
  },
  {
   "cell_type": "markdown",
   "metadata": {
    "slideshow": {
     "slide_type": "slide"
    }
   },
   "source": [
    "Норма весов рассчитываетсяя\n",
    "\n",
    "$$\n",
    "\\|w\\|^2 = w_1^2+\\ldots+w_n^2\n",
    "$$\n",
    "\n",
    "Для вычисления этой метрики используем [функцию norm из numpy](https://docs.scipy.org/doc/numpy-1.15.0/reference/generated/numpy.linalg.norm.html)\n",
    "* обучаем модель будем на тренировочном сете, а проверять качество модели на валидационном, как мы научились в первом уроке. Чтобы не захламлять график, я буду визуализировать только валидационный сет, а так же сами предсказания модели."
   ]
  },
  {
   "cell_type": "code",
   "execution_count": 61,
   "metadata": {},
   "outputs": [],
   "source": [
    "from sklearn.linear_model import LinearRegression\n",
    "from numpy.linalg import norm\n",
    "from sklearn.metrics import mean_squared_error\n",
    "from sklearn.model_selection import train_test_split\n",
    "\n",
    "\n",
    "def generate_degrees(source_data: list, degree: int):\n",
    "    \"\"\"Функция, которая принимает на вход одномерный массив, а возвращает n-мерный\n",
    "    Для каждой степени от 1 до  degree возводим x в эту степень\n",
    "    \"\"\"\n",
    "    return np.array([\n",
    "          source_data**n for n in range(1, degree + 1)  \n",
    "    ]).T\n",
    "\n",
    "def train_polynomial(degree, data):\n",
    "    \"\"\"Генерим данные, тренируем модель  \n",
    "    дополнительно рисуем график\n",
    "    \"\"\"\n",
    "    X = generate_degrees(data['x_train'], degree)\n",
    "    y = data.y_train.values\n",
    "    X_train, X_valid, y_train, y_valid = train_test_split(X, y, test_size=0.2, random_state=10)\n",
    "    model = LinearRegression().fit(X_train, y_train)\n",
    "    y_pred = model.predict(X_valid)\n",
    "    y_pred_train = model.predict(X_train)\n",
    "    error_valid = mean_squared_error(y_valid, y_pred)\n",
    "    error_train = mean_squared_error(y_train, y_pred_train)\n",
    "    print(\n",
    "        \"Степень полинома %d\\nОшибка на валидации %.3f\\nОшибка на обучении %.3f\" %\n",
    "        (degree, error_valid, error_train)\n",
    "    )\n",
    "    order_test = np.argsort(X_valid[:,0])\n",
    "    plt.scatter(X_valid[:,0][order_test], y_valid[order_test], 40, 'r', 'o', alpha=0.8)\n",
    "    print(\"Норма вектора весов \\t||w|| = %.2f\" % (norm(model.coef_)))\n",
    "    # визуализируем решение\n",
    "    x_linspace = np.linspace(data['x_train'].min(), data['x_train'].max(), num=100)\n",
    "    y_linspace = model.predict(generate_degrees(x_linspace, degree))\n",
    "    plt.plot(x_linspace, y_linspace)\n",
    "    return error_valid, error_train, norm(model.coef_)\n",
    "\n",
    "degrees = []\n",
    "valid_errors = []\n",
    "train_errors = []\n",
    "w_norm = []"
   ]
  },
  {
   "cell_type": "markdown",
   "metadata": {
    "slideshow": {
     "slide_type": "slide"
    }
   },
   "source": [
    "Давайте проведём эксперимент чтобы узнать, как входные данные влияют на коэффициенты линейной регрессии. Третья степень *degree=3*:"
   ]
  },
  {
   "cell_type": "code",
   "execution_count": 62,
   "metadata": {},
   "outputs": [
    {
     "name": "stdout",
     "output_type": "stream",
     "text": [
      "Степень полинома 3\n",
      "Ошибка на валидации 0.051\n",
      "Ошибка на обучении 0.077\n",
      "Норма вектора весов \t||w|| = 2.19\n"
     ]
    },
    {
     "data": {
      "image/png": "[encoded data removed]",
      "text/plain": [
       "<Figure size 432x288 with 1 Axes>"
      ]
     },
     "metadata": {
      "needs_background": "light"
     },
     "output_type": "display_data"
    }
   ],
   "source": [
    "degree = 3\n",
    "\n",
    "error_valid, error_train, coef_norm = train_polynomial(degree, data)\n",
    "\n",
    "degrees.append(degree)\n",
    "valid_errors.append(error_valid)\n",
    "train_errors.append(error_train)\n",
    "w_norm.append(coef_norm)"
   ]
  },
  {
   "cell_type": "markdown",
   "metadata": {
    "slideshow": {
     "slide_type": "slide"
    }
   },
   "source": [
    "Пятая степень"
   ]
  },
  {
   "cell_type": "code",
   "execution_count": 63,
   "metadata": {},
   "outputs": [
    {
     "name": "stdout",
     "output_type": "stream",
     "text": [
      "Степень полинома 5\n",
      "Ошибка на валидации 0.063\n",
      "Ошибка на обучении 0.069\n",
      "Норма вектора весов \t||w|| = 3.31\n"
     ]
    },
    {
     "data": {
      "image/png": "[encoded data removed]",
      "text/plain": [
       "<Figure size 432x288 with 1 Axes>"
      ]
     },
     "metadata": {
      "needs_background": "light"
     },
     "output_type": "display_data"
    }
   ],
   "source": [
    "degree = 5\n",
    "\n",
    "error_valid, error_train, coef_norm = train_polynomial(degree, data)\n",
    "\n",
    "degrees.append(degree)\n",
    "valid_errors.append(error_valid)\n",
    "train_errors.append(error_train)\n",
    "w_norm.append(coef_norm)"
   ]
  },
  {
   "cell_type": "markdown",
   "metadata": {},
   "source": [
    "Седьмая степень"
   ]
  },
  {
   "cell_type": "code",
   "execution_count": 64,
   "metadata": {},
   "outputs": [
    {
     "name": "stdout",
     "output_type": "stream",
     "text": [
      "Степень полинома 8\n",
      "Ошибка на валидации 0.119\n",
      "Ошибка на обучении 0.052\n",
      "Норма вектора весов \t||w|| = 78.73\n"
     ]
    },
    {
     "data": {
      "image/png": "[encoded data removed]",
      "text/plain": [
       "<Figure size 432x288 with 1 Axes>"
      ]
     },
     "metadata": {
      "needs_background": "light"
     },
     "output_type": "display_data"
    }
   ],
   "source": [
    "degree = 8\n",
    "\n",
    "error_valid, error_train, coef_norm = train_polynomial(degree, data)\n",
    "\n",
    "degrees.append(degree)\n",
    "valid_errors.append(error_valid)\n",
    "train_errors.append(error_train)\n",
    "w_norm.append(coef_norm)"
   ]
  },
  {
   "cell_type": "markdown",
   "metadata": {},
   "source": [
    "Десятая степень"
   ]
  },
  {
   "cell_type": "code",
   "execution_count": 65,
   "metadata": {},
   "outputs": [
    {
     "name": "stdout",
     "output_type": "stream",
     "text": [
      "Степень полинома 10\n",
      "Ошибка на валидации 0.122\n",
      "Ошибка на обучении 0.052\n",
      "Норма вектора весов \t||w|| = 120.14\n"
     ]
    },
    {
     "data": {
      "image/png": "[encoded data removed]",
      "text/plain": [
       "<Figure size 432x288 with 1 Axes>"
      ]
     },
     "metadata": {
      "needs_background": "light"
     },
     "output_type": "display_data"
    }
   ],
   "source": [
    "degree = 10\n",
    "\n",
    "error_valid, error_train, coef_norm = train_polynomial(degree, data)\n",
    "\n",
    "degrees.append(degree)\n",
    "valid_errors.append(error_valid)\n",
    "train_errors.append(error_train)\n",
    "w_norm.append(coef_norm)"
   ]
  },
  {
   "cell_type": "markdown",
   "metadata": {
    "slideshow": {
     "slide_type": "slide"
    }
   },
   "source": [
    "В этом абстрактном эксперименте: видны следующие закономерности\n",
    "\n",
    "* степень полинома растёт $\\rightarrow$ ошибка на тренировочных данных падает\n",
    "* степень полинома растёт $\\rightarrow$ ошибка на валидации растёт\n",
    "* степень полинома растёт $\\rightarrow$ сумма квадратов коэффициентов регрессии растёт\n",
    "\n",
    "Т.е. можно детектировать переобучение, если проверять такую прокси-метрику как \"норма весов регрессии\"\n",
    "* по оси $oX$ - степень полинома\n",
    "* по оси $oY$ - ошибка на валидации и ошибка на обучении"
   ]
  },
  {
   "cell_type": "code",
   "execution_count": 66,
   "metadata": {},
   "outputs": [
    {
     "data": {
      "image/png": "[encoded data removed]",
      "text/plain": [
       "<Figure size 432x288 with 1 Axes>"
      ]
     },
     "metadata": {
      "needs_background": "light"
     },
     "output_type": "display_data"
    }
   ],
   "source": [
    "from matplotlib import pyplot\n",
    "%matplotlib inline\n",
    "\n",
    "fig, ax = plt.subplots()\n",
    "ax.plot(degrees, valid_errors, 'k--', label='Validation error')\n",
    "ax.plot(degrees, train_errors, 'k:', label='Train error')\n",
    "\n",
    "legend = ax.legend(loc='upper center', shadow=True, fontsize='x-large')\n",
    "\n",
    "\n",
    "plt.show()"
   ]
  },
  {
   "cell_type": "code",
   "execution_count": 67,
   "metadata": {},
   "outputs": [
    {
     "data": {
      "image/png": "[encoded data removed]",
      "text/plain": [
       "<Figure size 432x288 with 1 Axes>"
      ]
     },
     "metadata": {
      "needs_background": "light"
     },
     "output_type": "display_data"
    }
   ],
   "source": [
    "plt.scatter(degrees, w_norm)\n",
    "plt.show()"
   ]
  },
  {
   "cell_type": "markdown",
   "metadata": {
    "slideshow": {
     "slide_type": "slide"
    }
   },
   "source": [
    "На графике можно заметить, как с ростом степень полинома ошибка на валидации начинает расти, а на обучении - наоборот, падать. Одновременно с ухудшением качества модели на валидации можно заметить, как растёт норма вектора коэффициентов $w$ -  от значения $2.19$ до значения $120.14$, то есть большие по модулю величины коэффициентов свидетельствуют о том, что модель переобучается. "
   ]
  },
  {
   "cell_type": "markdown",
   "metadata": {},
   "source": [
    "При каком значении степени полинома модель будет получается сбалансированной и не \"оверфиттится\"? Эта точка - там, где две линии ошибок пересекаются, она соответствует степени полинома *degree=5*: модель достаточно хороша на обучении и не слишком плоха на валидации."
   ]
  },
  {
   "cell_type": "markdown",
   "metadata": {
    "slideshow": {
     "slide_type": "slide"
    }
   },
   "source": [
    "Что такое регуляризация и как она спасает от переобучения? мы получаем предсказания модели, используя коэффициенты регрессии, в виде\n",
    "\n",
    "$$\n",
    "\\hat{y} = w_0x_0 + \\ldots w_nx_n\n",
    "$$\n",
    "\n",
    "То есть величина коэффициентов $w$ по модулю сильно влияет на предсказания - чем больше коэффициенты линейной регрессии $w=[w_1,\\ldots,w_n]$, тем больше таргет $y$ при одинаковом значении $x$, зависимость линейная.\n",
    "\n",
    "Вспомним, что аналитическая формула для нахождения коэффициентов регрессии выглядит вот так \n",
    "$$\n",
    "\\overline{w} = \\left(X^TX\\right)^{-1}X^TY\n",
    "$$\n",
    "\n",
    "Такое решение получается, когда мы минимизируем функцию ошибок $L$, где $N$ - число обучающих примеров:\n",
    "\n",
    "$$\n",
    "L(y,w) = \\sum_{i=1}^{N}\\left(y_i - \\hat{y_i}\\right)^2\n",
    "$$\n",
    "\n",
    "В эксперименте с полиномиальной регрессией мы выяснили простое правило - чем больше квадраты коэффициентов регрессии, тем хуже качество. Как же нам заставить модель делать коэффициенты поменьше, чтобы качество не страдало?"
   ]
  },
  {
   "cell_type": "markdown",
   "metadata": {
    "slideshow": {
     "slide_type": "slide"
    }
   },
   "source": [
    "Самое простое решение, которое приходит на ум - каким-то образом \"наказывать\" нашу модель за слишком большие значения коэффициентов линейной регрессии $w$. Давайте добавим в функцию качества модели $L(y, w)$ дополнительное слагаемое, которое содержит квадрат нормы вектора весов $\\|w\\|^2$:\n",
    "\n",
    "$$\n",
    "L(y,w) = \\sum_{i=1}^{N}\\left(y_i - \\hat{y_i}\\right)^2 + \\alpha \\cdot \\sum_{i=1}^{k}w_i^2 = \\sum_{i=1}^{N}\\left(y_i - \\hat{y_i}\\right)^2 + \\alpha \\cdot \\|w\\|^2\n",
    "$$\n",
    "\n",
    "С помощью этого трюка мы минимизируем функцию $L(x,w)$ как бы в двух направлениях:\n",
    "* уменьшаем ошибку $y-\\hat{y}$ (первый компонент формулы)\n",
    "* следим за нормой коэффициентов регрессии $\\|w\\|^2$ - модель вынуждена делать коэффициенты как можно меньшими, потому что их размер влияет на функцию ошибки $L(x,w)$\n",
    "\n",
    "Эксперимент показал: чем больше $\\|w\\|^2$, тем сильнее переобучение. **Следовательно, сделав коэффициенты более маленькими, мы уменьшим переобучение**."
   ]
  },
  {
   "cell_type": "markdown",
   "metadata": {},
   "source": [
    "Самое простое решение, которое приходит на ум - каким-то образом \"наказывать\" нашу модель за слишком большие значения коэффициентов линейной регрессии $w$. Давайте добавим в функцию качества модели $L(y, w)$ дополнительное слагаемое, которое содержит квадрат нормы вектора весов $\\|w\\|^2$:\n",
    "\n",
    "$$\n",
    "L(y,w) = \\sum_{i=1}^{N}\\left(y_i - \\hat{y_i}\\right)^2 + \\alpha \\cdot \\sum_{i=1}^{k}w_i^2 = \\sum_{i=1}^{N}\\left(y_i - \\hat{y_i}\\right)^2 + \\alpha \\cdot \\|w\\|^2\n",
    "$$\n",
    "\n",
    "С помощью этого трюка мы минимизируем функцию $L(x,w)$ как бы в двух направлениях:\n",
    "* уменьшаем ошибку $y-\\hat{y}$ (первый компонент формулы)\n",
    "* следим за нормой коэффициентов регрессии $\\|w\\|^2$ - модель вынуждена делать коэффициенты как можно меньшими, потому что их размер влияет на функцию ошибки $L(x,w)$"
   ]
  },
  {
   "cell_type": "markdown",
   "metadata": {
    "slideshow": {
     "slide_type": "slide"
    }
   },
   "source": [
    "Такой процесс добавления слегаемых в целевую функцию называется *регуляризацией*. Регуляризация - это наложение дополнительных ограничений на целевую функцию $L(y, w)$. Добавляя в функцию качества $L$ сумму квадратов коэффициентов регрессии мы \"принуждаем\" нашу модель к тому, чтобы веса $w=[w_1,\\ldots,w_k]$ были как можно более меньшими по модулю. Вернёмся к формуле целевой функции регуляризованной линейной регрессии:\n",
    "$$\n",
    "L(y,w) = \\sum_{i=1}^{N}\\left(y_i - \\hat{y_i}\\right)^2 + \\alpha \\cdot \\|w\\|^2\n",
    "$$\n",
    "\n",
    "В этой формуле\n",
    "* $\\alpha$ - параметр регуляризации. Он принимает значения от $0$ до $1$: чем ближе к $1$ - тем сильнее регуляризация, тем сильнее уменьшаются веса линейной регрессии\n",
    "* квадрат нормы кооэффициентов динейной регрессии: $\\|w\\|^2 = \\sum_{i=1}^{k}w_i^2$"
   ]
  },
  {
   "cell_type": "markdown",
   "metadata": {
    "slideshow": {
     "slide_type": "slide"
    }
   },
   "source": [
    "Аналитическое решение новой функции ошибки имеет вид\n",
    "$$\n",
    "\\overline{w} = \\left(X^TX + \\alpha E\\right)^{-1}X^TY\n",
    "$$\n",
    "\n",
    "Обратите внимание, что формула максимально похожа на формулу для вычисления аналитических коэффициентов, с которой мы познакомились в занятии \"Линейная регрессия. Часть I\":\n",
    "Вспомним, что аналитическая формула для нахождения коэффициентов регрессии выглядит вот так \n",
    "$$\n",
    "\\overline{w} = \\left(X^TX\\right)^{-1}X^TY\n",
    "$$\n",
    "Единственное отличие - внутри скобок добавилось слагаемое $\\alpha E$, где E - [единичная матрица](https://ru.wikipedia.org/wiki/Единичная_матрица) размерности $k\\times k$ (по количеству коэффициентов линейной регрессии) - единицы стоят только на диагонали.\n",
    "$$\n",
    "E = \n",
    "\\left[\n",
    "\\begin{array}{ccccc}\n",
    "1 & 0 & \\ldots & 0 & 0 \\\\\n",
    "0 & 1 & \\ldots & 0 & 0 \\\\\n",
    "\\ldots& \\ldots& \\ldots& \\ldots& \\ldots \\\\\n",
    "0 & 0 & \\ldots & 1 & 0 \\\\\n",
    "0 & 0 & \\ldots & 0 & 1 \\\\\n",
    "\\end{array}\n",
    "\\right]\n",
    "$$"
   ]
  },
  {
   "cell_type": "markdown",
   "metadata": {
    "slideshow": {
     "slide_type": "slide"
    }
   },
   "source": [
    "**Задание среднего уровня** Мы использовали реализацию Ridge регрессию из библиотеки sklearn. Для того, чтобы  прокачать навыки программирования и освежить в памяти, как перемножать матрицы в numpy, напишите код для вычисления коэффициентов полиномиальной регрессии (для степени *degree=8*) с регуляризацией по формуле\n",
    "$$\n",
    "\\overline{w} = \\left(X^TX + \\lambda E\\right)^{-1}X^T\\overline{y}\n",
    "$$\n",
    "\n",
    "Для примера можно ориентироваться на то, как была реализована аналитическая формула для линейной регрессии в модуле \"Линейная регрессия. Часть I\"\n",
    "\n",
    "Единичную матрицу $E$ можно получить с помощью функции https://docs.scipy.org/doc/numpy/reference/generated/numpy.eye.html . Размерность матрицы $k\\times k$ (по количеству коэффициентов линейной регрессии). Напоминаю, что количество коэффициентов регрессии совпадает с количеством фичей регрессии, в задании будет $k=8$, т.к. генерим признаки для полинома восьмой степени."
   ]
  },
  {
   "cell_type": "code",
   "execution_count": null,
   "metadata": {},
   "outputs": [],
   "source": [
    "# -- ВАШ КОД ТУТ --\n",
    "\n",
    "\n",
    "# -----------------"
   ]
  },
  {
   "cell_type": "markdown",
   "metadata": {
    "slideshow": {
     "slide_type": "slide"
    }
   },
   "source": [
    "Мы рассмотрели случай, когда в целевую функцию $L(y,w)$ добавляются квадраты коэффициентов регрессии. Такая модифицикация целевой функции называется $L2$ регуляризацией. \n",
    "\n",
    "Следует отметить, что существует также $L1$ регуляризация, когда в целевую функцию $L(y,w)$ добавляются не квадраты весов, а модули весов - этот приём соответствуе метрике *MAE*, с которой вы познакомились в прошлом уроке.\n",
    "\n",
    "$$\n",
    "L1(w) = \\sum_{i=1}^{N}\\left(y_i - \\hat{y_i}\\right)^2 + \\alpha \\cdot \\sum_{i=1}^{k}|w_i|\n",
    "$$\n",
    "\n",
    "$L1$ обладает интересным эффектом - коэффициенты у фичей, которые мало влияют на целевую переменную, становятся равными нулю - то есть такая регуляризация позволяет производить отбор фичей - \"выкидываем\" из модели фичи, при которых обнулились коэффициенты. В библиотеке sklearn линейная модель с L1-регуляризацией реализована в `sklearn.linear_model.Lasso`"
   ]
  },
  {
   "cell_type": "markdown",
   "metadata": {
    "slideshow": {
     "slide_type": "slide"
    }
   },
   "source": [
    "Как выбрать между двумя типами регуляризации?\n",
    "* если фичей очень много (сотни), среди которых есть потенциально не важные - выбирай *L1*\n",
    "* фичей мало и все они важны - выбирай *L2* \n",
    "\n",
    "Мы познакомимся с регуляризацией $L2$ - такую регуляризацию называют *гребневой*, а реализацию этой модели возмём из `sklearn.linear_model.Ridge`. Натренируем две модели - одну с коэффициентом регуляризации $\\alpha=0.01$, а вторую - без регуляризации $\\alpha=0.0$:"
   ]
  },
  {
   "cell_type": "code",
   "execution_count": 15,
   "metadata": {},
   "outputs": [
    {
     "name": "stderr",
     "output_type": "stream",
     "text": [
      "/www/app/.venv/lib/python3.6/site-packages/sklearn/linear_model/ridge.py:147: LinAlgWarning: Ill-conditioned matrix (rcond=5.48967e-19): result may not be accurate.\n",
      "  overwrite_a=True).T\n",
      "/www/app/.venv/lib/python3.6/site-packages/sklearn/linear_model/ridge.py:147: LinAlgWarning: Ill-conditioned matrix (rcond=2.23568e-22): result may not be accurate.\n",
      "  overwrite_a=True).T\n"
     ]
    },
    {
     "data": {
      "image/png": "[encoded data removed]",
      "text/plain": [
       "<Figure size 432x288 with 1 Axes>"
      ]
     },
     "metadata": {
      "needs_background": "light"
     },
     "output_type": "display_data"
    }
   ],
   "source": [
    "from sklearn.linear_model import Ridge\n",
    "\n",
    "#plt.scatter(data['x_train'], data['y_train'], 40, 'g', 'o', alpha=0.8, label='data')\n",
    "\n",
    "model_ridge = Ridge(alpha=0.01)\n",
    "model_linear = Ridge(alpha=0.0)\n",
    "degree = 10\n",
    "\n",
    "X = generate_degrees(data['x_train'], degree)\n",
    "y = data['y_train']\n",
    "# обучаем линейную регрессию с  регуляризацией\n",
    "model_ridge.fit(X, y)\n",
    "model_linear.fit(X, y)\n",
    "\n",
    "x_linspace = np.linspace(data['x_train'].min(), data['x_train'].max(), num=100)\n",
    "\n",
    "y_linspace_linear = model_linear.predict(generate_degrees(x_linspace, degree))\n",
    "y_linspace_ridge = model_ridge.predict(generate_degrees(x_linspace, degree))\n",
    "\n",
    "plt.plot(x_linspace, y_linspace_linear)\n",
    "plt.plot(x_linspace, y_linspace_ridge)\n",
    "\n",
    "\n",
    "plt.show()"
   ]
  },
  {
   "cell_type": "markdown",
   "metadata": {
    "slideshow": {
     "slide_type": "slide"
    }
   },
   "source": [
    "Готово, модели обучены! мы видим тревожное сообщение **LinAlgWarning: Ill-conditioned matrix (rcond=2.23568e-22): result may not be accurate.** - тут ничего страшного, побороть это сообщение нам поможет знакомство с методом градиентного спуска во следующем уроке этого модуля\n",
    "\n",
    "Мы видим, что регуляризованная модель более \"гладкая\", а вот у модели без регуляризации есть перегибы - она выглядит переобученной. Давайте проверим норму коэффициентов регрессии."
   ]
  },
  {
   "cell_type": "code",
   "execution_count": 66,
   "metadata": {
    "slideshow": {
     "slide_type": "fragment"
    }
   },
   "outputs": [
    {
     "name": "stdout",
     "output_type": "stream",
     "text": [
      "Норма вектора весов Ridge \t||w|| = 0.48\n",
      "Норма вектора весов Linear \t||w|| = 72.97\n"
     ]
    }
   ],
   "source": [
    "print(\"Норма вектора весов Ridge \\t||w|| = %.2f\" % (norm(model_ridge.coef_)))\n",
    "print(\"Норма вектора весов Linear \\t||w|| = %.2f\" % (norm(model_linear.coef_)))"
   ]
  },
  {
   "cell_type": "markdown",
   "metadata": {
    "slideshow": {
     "slide_type": "slide"
    }
   },
   "source": [
    "Мы видим, что регуляризованная модель - более сглаженная, чем нерегуляризованная. Регуляризация позволяет бороться с излишней сложностью модели за счёт наложения дополнительных ограничений на вектор весов модели.\n",
    "\n",
    "Тем не менее, линия имеет причудливую форму - то есть мы получили довольно гибкую модель. При этом норма вектора коэффициентов линейной регрессии стала небольшой - наша модель не переобучилась."
   ]
  },
  {
   "cell_type": "markdown",
   "metadata": {
    "slideshow": {
     "slide_type": "slide"
    }
   },
   "source": [
    "Как видно, два разных (по норме) набора коэффициентов мы получили при двух разных значениях $\\alpha$. Как же выбрать правильное значение коэффициента регуляризации? На помощь приходит процедура, которая называется отложенный контроль, как делали в первом уроке.\n",
    "\n",
    "Реализуем эту процедуру на языке python. Для у нас есть готовая функция `sklearn.model_selection.train_test_split` :"
   ]
  },
  {
   "cell_type": "code",
   "execution_count": 68,
   "metadata": {
    "slideshow": {
     "slide_type": "fragment"
    }
   },
   "outputs": [
    {
     "name": "stdout",
     "output_type": "stream",
     "text": [
      "(40, 12) (10, 12)\n"
     ]
    }
   ],
   "source": [
    "from sklearn.model_selection import train_test_split\n",
    "\n",
    "X_train, X_test, y_train, y_test = train_test_split(\n",
    "    X, y, test_size=0.2, random_state=42\n",
    ")\n",
    "\n",
    "print(X_train.shape, X_test.shape)"
   ]
  },
  {
   "cell_type": "markdown",
   "metadata": {
    "slideshow": {
     "slide_type": "slide"
    }
   },
   "source": [
    "Из 50 точек 40 попало в *train set* и 10 в *validation set* - давайте реализуем остальные шаги алгоритма"
   ]
  },
  {
   "cell_type": "code",
   "execution_count": 69,
   "metadata": {},
   "outputs": [
    {
     "name": "stdout",
     "output_type": "stream",
     "text": [
      "alpha =0.10 Ошибка 0.04987\n",
      "alpha =0.15 Ошибка 0.04957\n",
      "alpha =0.35 Ошибка 0.04848\n",
      "alpha =0.50 Ошибка 0.04788\n",
      "alpha =0.80 Ошибка 0.04710\n",
      "\n",
      "-------\n",
      "Лучшая модель aplpha=0.80 с ошибкой RMSE=0.04710\n",
      "-------\n"
     ]
    },
    {
     "name": "stderr",
     "output_type": "stream",
     "text": [
      "/www/app/.venv/lib/python3.6/site-packages/sklearn/linear_model/ridge.py:147: LinAlgWarning: Ill-conditioned matrix (rcond=8.03858e-21): result may not be accurate.\n",
      "  overwrite_a=True).T\n",
      "/www/app/.venv/lib/python3.6/site-packages/sklearn/linear_model/ridge.py:147: LinAlgWarning: Ill-conditioned matrix (rcond=1.13827e-20): result may not be accurate.\n",
      "  overwrite_a=True).T\n",
      "/www/app/.venv/lib/python3.6/site-packages/sklearn/linear_model/ridge.py:147: LinAlgWarning: Ill-conditioned matrix (rcond=2.2439e-20): result may not be accurate.\n",
      "  overwrite_a=True).T\n",
      "/www/app/.venv/lib/python3.6/site-packages/sklearn/linear_model/ridge.py:147: LinAlgWarning: Ill-conditioned matrix (rcond=3.22891e-20): result may not be accurate.\n",
      "  overwrite_a=True).T\n",
      "/www/app/.venv/lib/python3.6/site-packages/sklearn/linear_model/ridge.py:147: LinAlgWarning: Ill-conditioned matrix (rcond=5.14371e-20): result may not be accurate.\n",
      "  overwrite_a=True).T\n"
     ]
    }
   ],
   "source": [
    "alphas = [0.1, 0.15, 0.35 ,0.5,0.8]\n",
    "\n",
    "best_alpha = alphas[0]\n",
    "best_rmse = np.infty\n",
    "\n",
    "for alpha in alphas:\n",
    "    model_ridge = Ridge(alpha=alpha)\n",
    "    # обучаем линейную регрессию с  регуляризацией\n",
    "    model_ridge.fit(X_train, y_train)\n",
    "    y_pred = model_ridge.predict(X_test)\n",
    "    error = mean_squared_error(y_test, y_pred)\n",
    "    if error < best_rmse:\n",
    "        best_rmse = error\n",
    "        best_alpha = alpha\n",
    "    print(\"alpha =%.2f Ошибка %.5f\" % (alpha, error))\n",
    "print('\\n-------\\nЛучшая модель aplpha=%.2f с ошибкой RMSE=%.5f\\n-------' % (best_alpha, best_rmse))"
   ]
  },
  {
   "cell_type": "markdown",
   "metadata": {},
   "source": [
    "Мы научились делать наши модели намного стабильнее - теперь веса линейной регрессии не увеличиваются с ростом степени полинома, а остаются заключёнными в допустимых пределах. Мы научились уменьшать переобучение с помощью регуляризации модели.\n",
    "\n",
    "Однако, мы столкнулись с ворненгом **LinAlgWarning** что это за ошибка? Почему она возникает? Как её побороть? На эти вопросы даст ответ градиентный спуск - способ обучения моделей, **не использующий матричное умножение**."
   ]
  },
  {
   "cell_type": "markdown",
   "metadata": {
    "slideshow": {
     "slide_type": "slide"
    }
   },
   "source": [
    "# Обучение моделей с помощью градиентного спуска\n",
    "\n",
    "Мы помним, что в случае многомерной линейной регрессии (когда количество фичей $m$) аналитическое решение имеет вид\n",
    "$$\n",
    "\\overline{w} = \\left(X^TX\\right)^{-1}X^T\\overline{y}\n",
    "$$\n",
    "\n",
    "Где $X$ - т.н. матрица объекты-признаки размености *количество объектов* x *количество признаков*.\n",
    "\n",
    "У аналитического решения есть ряд недостатков\n",
    "* вычислительная сложность из-за матричного перемножения $O(n^3)$, где $n$ - размерность матрицы. При увеличении размерности матрицы в 10 раз сложность вычислений увеличивается в $10^3=1000$ раз\n",
    "* **неустойчивость вычислений** - пытаемся найти обратную матрицу, которая может не существовать, в этом случае в алгоритме нахождения обратной матрицы возникает деление на ноль"
   ]
  },
  {
   "cell_type": "markdown",
   "metadata": {
    "slideshow": {
     "slide_type": "slide"
    }
   },
   "source": [
    "С неустойчивостью вычислений, например, связано предупреждение **LinAlgWarning:** которое мы видели в первом уроке. Пример такой матрицы:\n",
    "$$\n",
    "X^TX = \n",
    "\\left[\n",
    "\\begin{array}{cc}\n",
    "5 & 25 \\\\\n",
    "2 & 10 \n",
    "\\end{array}\n",
    "\\right]\n",
    "$$\n",
    "\n",
    "Допустим, хотим вычислить коэффициенты аналитически. Если попытаемся найти обратную матрицу $(X^TX)^{-1}$, мы получим сообщение об ошибке:"
   ]
  },
  {
   "cell_type": "code",
   "execution_count": 17,
   "metadata": {},
   "outputs": [
    {
     "ename": "LinAlgError",
     "evalue": "Singular matrix",
     "output_type": "error",
     "traceback": [
      "\u001b[0;31m---------------------------------------------------------------------------\u001b[0m",
      "\u001b[0;31mLinAlgError\u001b[0m                               Traceback (most recent call last)",
      "\u001b[0;32m<ipython-input-17-2eea4d3c8751>\u001b[0m in \u001b[0;36m<module>\u001b[0;34m\u001b[0m\n\u001b[1;32m      3\u001b[0m \u001b[0mX\u001b[0m \u001b[0;34m=\u001b[0m \u001b[0mnp\u001b[0m\u001b[0;34m.\u001b[0m\u001b[0marray\u001b[0m\u001b[0;34m(\u001b[0m\u001b[0;34m[\u001b[0m\u001b[0;34m[\u001b[0m\u001b[0;36m5\u001b[0m\u001b[0;34m,\u001b[0m \u001b[0;36m25\u001b[0m\u001b[0;34m]\u001b[0m\u001b[0;34m,\u001b[0m\u001b[0;34m[\u001b[0m\u001b[0;36m2\u001b[0m\u001b[0;34m,\u001b[0m \u001b[0;36m10\u001b[0m\u001b[0;34m]\u001b[0m\u001b[0;34m]\u001b[0m\u001b[0;34m)\u001b[0m\u001b[0;34m\u001b[0m\u001b[0;34m\u001b[0m\u001b[0m\n\u001b[1;32m      4\u001b[0m \u001b[0;31m# пытаемся найти обратную\u001b[0m\u001b[0;34m\u001b[0m\u001b[0;34m\u001b[0m\u001b[0;34m\u001b[0m\u001b[0m\n\u001b[0;32m----> 5\u001b[0;31m \u001b[0mnp\u001b[0m\u001b[0;34m.\u001b[0m\u001b[0mlinalg\u001b[0m\u001b[0;34m.\u001b[0m\u001b[0minv\u001b[0m\u001b[0;34m(\u001b[0m\u001b[0mX\u001b[0m\u001b[0;34m)\u001b[0m\u001b[0;34m\u001b[0m\u001b[0;34m\u001b[0m\u001b[0m\n\u001b[0m",
      "\u001b[0;32m/www/app/.venv/lib/python3.6/site-packages/numpy/linalg/linalg.py\u001b[0m in \u001b[0;36minv\u001b[0;34m(a)\u001b[0m\n\u001b[1;32m    549\u001b[0m     \u001b[0msignature\u001b[0m \u001b[0;34m=\u001b[0m \u001b[0;34m'D->D'\u001b[0m \u001b[0;32mif\u001b[0m \u001b[0misComplexType\u001b[0m\u001b[0;34m(\u001b[0m\u001b[0mt\u001b[0m\u001b[0;34m)\u001b[0m \u001b[0;32melse\u001b[0m \u001b[0;34m'd->d'\u001b[0m\u001b[0;34m\u001b[0m\u001b[0;34m\u001b[0m\u001b[0m\n\u001b[1;32m    550\u001b[0m     \u001b[0mextobj\u001b[0m \u001b[0;34m=\u001b[0m \u001b[0mget_linalg_error_extobj\u001b[0m\u001b[0;34m(\u001b[0m\u001b[0m_raise_linalgerror_singular\u001b[0m\u001b[0;34m)\u001b[0m\u001b[0;34m\u001b[0m\u001b[0;34m\u001b[0m\u001b[0m\n\u001b[0;32m--> 551\u001b[0;31m     \u001b[0mainv\u001b[0m \u001b[0;34m=\u001b[0m \u001b[0m_umath_linalg\u001b[0m\u001b[0;34m.\u001b[0m\u001b[0minv\u001b[0m\u001b[0;34m(\u001b[0m\u001b[0ma\u001b[0m\u001b[0;34m,\u001b[0m \u001b[0msignature\u001b[0m\u001b[0;34m=\u001b[0m\u001b[0msignature\u001b[0m\u001b[0;34m,\u001b[0m \u001b[0mextobj\u001b[0m\u001b[0;34m=\u001b[0m\u001b[0mextobj\u001b[0m\u001b[0;34m)\u001b[0m\u001b[0;34m\u001b[0m\u001b[0;34m\u001b[0m\u001b[0m\n\u001b[0m\u001b[1;32m    552\u001b[0m     \u001b[0;32mreturn\u001b[0m \u001b[0mwrap\u001b[0m\u001b[0;34m(\u001b[0m\u001b[0mainv\u001b[0m\u001b[0;34m.\u001b[0m\u001b[0mastype\u001b[0m\u001b[0;34m(\u001b[0m\u001b[0mresult_t\u001b[0m\u001b[0;34m,\u001b[0m \u001b[0mcopy\u001b[0m\u001b[0;34m=\u001b[0m\u001b[0;32mFalse\u001b[0m\u001b[0;34m)\u001b[0m\u001b[0;34m)\u001b[0m\u001b[0;34m\u001b[0m\u001b[0;34m\u001b[0m\u001b[0m\n\u001b[1;32m    553\u001b[0m \u001b[0;34m\u001b[0m\u001b[0m\n",
      "\u001b[0;32m/www/app/.venv/lib/python3.6/site-packages/numpy/linalg/linalg.py\u001b[0m in \u001b[0;36m_raise_linalgerror_singular\u001b[0;34m(err, flag)\u001b[0m\n\u001b[1;32m     95\u001b[0m \u001b[0;34m\u001b[0m\u001b[0m\n\u001b[1;32m     96\u001b[0m \u001b[0;32mdef\u001b[0m \u001b[0m_raise_linalgerror_singular\u001b[0m\u001b[0;34m(\u001b[0m\u001b[0merr\u001b[0m\u001b[0;34m,\u001b[0m \u001b[0mflag\u001b[0m\u001b[0;34m)\u001b[0m\u001b[0;34m:\u001b[0m\u001b[0;34m\u001b[0m\u001b[0;34m\u001b[0m\u001b[0m\n\u001b[0;32m---> 97\u001b[0;31m     \u001b[0;32mraise\u001b[0m \u001b[0mLinAlgError\u001b[0m\u001b[0;34m(\u001b[0m\u001b[0;34m\"Singular matrix\"\u001b[0m\u001b[0;34m)\u001b[0m\u001b[0;34m\u001b[0m\u001b[0;34m\u001b[0m\u001b[0m\n\u001b[0m\u001b[1;32m     98\u001b[0m \u001b[0;34m\u001b[0m\u001b[0m\n\u001b[1;32m     99\u001b[0m \u001b[0;32mdef\u001b[0m \u001b[0m_raise_linalgerror_nonposdef\u001b[0m\u001b[0;34m(\u001b[0m\u001b[0merr\u001b[0m\u001b[0;34m,\u001b[0m \u001b[0mflag\u001b[0m\u001b[0;34m)\u001b[0m\u001b[0;34m:\u001b[0m\u001b[0;34m\u001b[0m\u001b[0;34m\u001b[0m\u001b[0m\n",
      "\u001b[0;31mLinAlgError\u001b[0m: Singular matrix"
     ]
    }
   ],
   "source": [
    "import numpy as np\n",
    "# матрица из примера\n",
    "X = np.array([[5, 25],[2, 10]])\n",
    "# пытаемся найти обратную\n",
    "np.linalg.inv(X)"
   ]
  },
  {
   "cell_type": "markdown",
   "metadata": {
    "slideshow": {
     "slide_type": "slide"
    }
   },
   "source": [
    "Это очень печально - значит, мы не всегда можем применять аналитическую формулу $\\overline{w} = \\left(X^TX\\right)^{-1}X^T\\overline{y}$ для нахождения коэффициентов $\\overline{w}$ Как же быть, если задачу решать все равно надо?\n",
    "\n",
    "Решение этих проблем нашли математики - давайте вычислять коэффициенты линейной регрессии не аналитически, а с помощью приближённых численных методов. Тогда не надо будет перемножать матрицы или находить обратные матрицы. Самый простой и эффективный из этих методов называется методом *градиентного спуска*. Суть метода состоит в обновлении параметров модели $w$ по маленьким шажкам (вместо того, чтобы находить их сразу) - это и есть градиентный спуск.\n",
    "\n",
    "Каждый такой шажок назвается \"итерация\"."
   ]
  },
  {
   "cell_type": "markdown",
   "metadata": {
    "slideshow": {
     "slide_type": "slide"
    }
   },
   "source": [
    "Мы знаем, что коэффициенты обучаются при помощи минимизации функции ошибок:\n",
    "\n",
    "$$\n",
    "L(y,w) = \\sum_{i=1}^{N}\\left(y_i - \\hat{y_i}\\right)^2\n",
    "$$\n",
    "\n",
    "Эта функция квадратичная - следовательно, имеет форму параболы. Минимум параболы соответствует минимуму ошибки - давайте как-то понемногу \"подкручивать\" параметры, чтобы по шажкам спуститься в точку, где ошибка будет минимальной - в этой точке и находятся параметры $w$, которые мы ищем. Правила обновления весов должны быть очень простыми и не содержать матричных перемножений\n",
    "\n",
    "![grad_descent_single_measure](img/grad_descent_single_measure.png)"
   ]
  },
  {
   "cell_type": "markdown",
   "metadata": {
    "slideshow": {
     "slide_type": "slide"
    }
   },
   "source": [
    "В трёхмерном случае картинка более красивая - мы движемся как бы ландшафту и хотим найти самую нижнюю точку на этом ландшафте:\n",
    "\n",
    "![grad_descent_single_measure](img/grad_descent_multi_measure.png)"
   ]
  },
  {
   "cell_type": "markdown",
   "metadata": {
    "slideshow": {
     "slide_type": "slide"
    }
   },
   "source": [
    "В в библиотеке sklearn уже есть класс, в котором реализована логика такого путешествия - это класс `sklearn.linear_model.SGDRegressor`. Давайте посмотрим, как он работает на примере нашей выборки из прошлого урока - начнём с загрузки исходных данных"
   ]
  },
  {
   "cell_type": "code",
   "execution_count": 18,
   "metadata": {},
   "outputs": [
    {
     "data": {
      "text/html": [
       "<div>\n",
       "<style scoped>\n",
       "    .dataframe tbody tr th:only-of-type {\n",
       "        vertical-align: middle;\n",
       "    }\n",
       "\n",
       "    .dataframe tbody tr th {\n",
       "        vertical-align: top;\n",
       "    }\n",
       "\n",
       "    .dataframe thead th {\n",
       "        text-align: right;\n",
       "    }\n",
       "</style>\n",
       "<table border=\"1\" class=\"dataframe\">\n",
       "  <thead>\n",
       "    <tr style=\"text-align: right;\">\n",
       "      <th></th>\n",
       "      <th>x_train</th>\n",
       "      <th>y_train</th>\n",
       "    </tr>\n",
       "  </thead>\n",
       "  <tbody>\n",
       "    <tr>\n",
       "      <th>5</th>\n",
       "      <td>1.182421</td>\n",
       "      <td>1.860341</td>\n",
       "    </tr>\n",
       "    <tr>\n",
       "      <th>6</th>\n",
       "      <td>1.251605</td>\n",
       "      <td>1.878928</td>\n",
       "    </tr>\n",
       "    <tr>\n",
       "      <th>7</th>\n",
       "      <td>1.270474</td>\n",
       "      <td>2.430015</td>\n",
       "    </tr>\n",
       "    <tr>\n",
       "      <th>8</th>\n",
       "      <td>1.402553</td>\n",
       "      <td>2.327856</td>\n",
       "    </tr>\n",
       "    <tr>\n",
       "      <th>9</th>\n",
       "      <td>1.427711</td>\n",
       "      <td>2.203649</td>\n",
       "    </tr>\n",
       "  </tbody>\n",
       "</table>\n",
       "</div>"
      ],
      "text/plain": [
       "    x_train   y_train\n",
       "5  1.182421  1.860341\n",
       "6  1.251605  1.878928\n",
       "7  1.270474  2.430015\n",
       "8  1.402553  2.327856\n",
       "9  1.427711  2.203649"
      ]
     },
     "execution_count": 18,
     "metadata": {},
     "output_type": "execute_result"
    }
   ],
   "source": [
    "import numpy as np\n",
    "import pandas as pd\n",
    "import matplotlib.pyplot as plt\n",
    "# для регрессии\n",
    "from sklearn.model_selection import train_test_split\n",
    "from sklearn.linear_model import SGDRegressor\n",
    "from sklearn.metrics import mean_squared_error\n",
    "from scipy.spatial import distance\n",
    "%matplotlib inline\n",
    "\n",
    "data = pd.read_csv('data/non_linear.csv', sep=',')\n",
    "data = data[(data.x_train > 1) & (data.x_train < 5)].copy()\n",
    "\n",
    "X = data['x_train'].values.reshape(-1, 1) # превращаем X из простого массива в вектор-столбец\n",
    "y = data['y_train'].values\n",
    "\n",
    "# разбиваем на трейн и валидацию\n",
    "X_train, X_valid, y_train, y_valid = train_test_split(X, y, test_size=0.2, random_state=10)\n",
    "\n",
    "data.head()"
   ]
  },
  {
   "cell_type": "markdown",
   "metadata": {
    "slideshow": {
     "slide_type": "slide"
    }
   },
   "source": [
    "Запустим шажки градиентного спуска (те самые итерации). Для градиентного спуска мы используем готовый класс SGDRegressor: https://scikit-learn.org/stable/modules/generated/sklearn.linear_model.SGDRegressor.html . Класс принимает следующие параметры\n",
    "\n",
    "\n",
    "* `learning_rate='constant'` используем самую простую модификацию спуска из нескольких возможных (см. доументацию)\n",
    "* `eta0` - шаг градиентного спуска, в формуле мы его обозначали буквой $\\alpha$\n",
    "* `fit_intercept` - чтобы обучить коэффициент при \"свободном члене\" линейной регрессии (см. \"Линейная регрессия. Часть 1\")\n",
    "* `random_state` - этот параметр встречали ранее в этом модуле, он нужен для воспроизводимости вычислений\n",
    "\n",
    "Функция `partial_fit()`, которую мы вызываем в коде, делает одну итерацию градиентного спуска.\n",
    "\n",
    "По оси $oX$ отложим количество итераций, а по оси $oY$ - значение метрики качества *MSE*, которое получили на  валидации"
   ]
  },
  {
   "cell_type": "code",
   "execution_count": 19,
   "metadata": {},
   "outputs": [
    {
     "name": "stdout",
     "output_type": "stream",
     "text": [
      "Итарации остановлены на шаге 208\n"
     ]
    },
    {
     "data": {
      "text/plain": [
       "[<matplotlib.lines.Line2D at 0x7f868e61d898>]"
      ]
     },
     "execution_count": 19,
     "metadata": {},
     "output_type": "execute_result"
    },
    {
     "data": {
      "image/png": "[encoded data removed]",
      "text/plain": [
       "<Figure size 432x288 with 1 Axes>"
      ]
     },
     "metadata": {
      "needs_background": "light"
     },
     "output_type": "display_data"
    }
   ],
   "source": [
    "sgd_regressor = SGDRegressor(learning_rate='constant', eta0=0.009, fit_intercept=True, random_state=42)\n",
    "w_current, epsilon = np.random.random(2), 0.0001\n",
    "weight_evolution, rmse_evolution = [], [] # изменения весов и ошибка на валидации\n",
    "for step in list(range(800)):\n",
    "    sgd_regressor = sgd_regressor.partial_fit(X_train, y_train)\n",
    "    weight_evolution.append(distance.euclidean(w_current, sgd_regressor.coef_))\n",
    "    if weight_evolution[-1]<epsilon:\n",
    "        print(\"Итарации остановлены на шаге %d\" % step); break\n",
    "    rmse_evolution.append(mean_squared_error(y_valid, sgd_regressor.predict(X_valid)))\n",
    "    w_current = sgd_regressor.coef_.copy()\n",
    "plt.plot(range(step), rmse_evolution)"
   ]
  },
  {
   "cell_type": "markdown",
   "metadata": {
    "slideshow": {
     "slide_type": "slide"
    }
   },
   "source": [
    "**Практическое задание** очевидно, что чем больше шаг градиентного спуска (параметр *eta0* класса *SGDRegressor*), тем быстрее мы придём к оптимальным значениям. Используя под выше, поиграйтесь с параметром *eta0* и добейтесь , чтобы градиентный спуск закончился быстрее, чем за 200 шагов.\n",
    "\n",
    "Сколько шагов у вас получилось? Какое качество *RMSE* у Вашего решения?"
   ]
  },
  {
   "cell_type": "code",
   "execution_count": null,
   "metadata": {},
   "outputs": [],
   "source": [
    "# -- ВАШ КОД ТУТ --\n",
    "\n",
    "\n",
    "\n",
    "# ----------------"
   ]
  },
  {
   "cell_type": "markdown",
   "metadata": {
    "slideshow": {
     "slide_type": "slide"
    }
   },
   "source": [
    "Визуализируем решение на графике"
   ]
  },
  {
   "cell_type": "code",
   "execution_count": 20,
   "metadata": {},
   "outputs": [
    {
     "data": {
      "image/png": "[encoded data removed]",
      "text/plain": [
       "<Figure size 432x288 with 1 Axes>"
      ]
     },
     "metadata": {
      "needs_background": "light"
     },
     "output_type": "display_data"
    }
   ],
   "source": [
    "x_linspace = np.linspace(data['x_train'].min(), data['x_train'].max(), num=100)\n",
    "\n",
    "y_linspace= sgd_regressor.predict(x_linspace.reshape(-1,1))\n",
    "\n",
    "plt.plot(x_linspace, y_linspace)\n",
    "plt.scatter(data.x_train, data.y_train, 40, 'g', 'o', alpha=0.8, label='data')\n",
    "\n",
    "plt.show()"
   ]
  },
  {
   "cell_type": "markdown",
   "metadata": {
    "slideshow": {
     "slide_type": "slide"
    }
   },
   "source": [
    "Готово! Мы получили решение задачи линейной регрессии, обучив параметры линейной регресии небольшими \"шажками\". Мы не использовали сложных матричных вычислений - тем не менее получили линию регрессии, которая лежит в середине облака точек. Когда стоит использовать градиентный спуск в реальных задачах?\n",
    "\n",
    "* когда данных очень много - в этом случае компьютер может не справится с перемножением матриц\n",
    "* когда нужно контролировать точность обучения - остановить итерации можно в любой момент (не дожидаясь, пока дойдем до \"идеальных\" значений.\n",
    "\n",
    "Когда не стоит применять градиентный спуск? Когда данных мало - в этом случае лучше воспользоваться классами *Ridge* и *Lasso*."
   ]
  },
  {
   "cell_type": "markdown",
   "metadata": {
    "slideshow": {
     "slide_type": "slide"
    }
   },
   "source": [
    "В домашней работе нужно будет применить SGD на многомернх данных"
   ]
  },
  {
   "cell_type": "markdown",
   "metadata": {
    "slideshow": {
     "slide_type": "slide"
    }
   },
   "source": [
    "# Реализация SGD на python\n",
    "\n",
    "\"Маленькие шажки\", которыми мы двигаемся к оптимальному решению в виде формулы выглядят следующим образом:\n",
    "$$\n",
    "w^{k+1} = w^k - \\eta\\nabla L(w)\n",
    "$$\n",
    "Переменная $\\eta$ в формуле - т.н. *шаг градиентного спуска*.\n",
    "\n",
    "Где $\\nabla L(w)$ - вектор градиента функции. Этот вектор обладает следующими свойствами: \n",
    "\n",
    "* имеет размерность вектора параметров. Если два параметра $[w_1,w_0]$ - в векторе будет два элемента\n",
    "* элемент градиента под номером $i$ - это частная производная (вспоминаем математику за 11 класс и [смотрим в Википедию](https://ru.wikipedia.org/wiki/Производная_функции ) ) функции потерь $L(y, w)$ по параметру $w_i$"
   ]
  },
  {
   "cell_type": "markdown",
   "metadata": {
    "slideshow": {
     "slide_type": "slide"
    }
   },
   "source": [
    "Вектор антиградиента всегда направлен в сторону уменьшения функции - в этом и есть всё волшебство! Мы будем двигаться в сторону минимума функции ошибки, потому что знаем как туда попасть - надо следовать по антиградиенту.\n",
    "\n",
    "На картинке одномерный случай. Синяя стрелка - градиент, красная - антиградиент. Видно, что если двигаться по вектору антиградиента, то свалимся в минимум функции за конечное число шагов\n",
    "![grad_vector](img/grad_vector.png)"
   ]
  },
  {
   "cell_type": "markdown",
   "metadata": {
    "slideshow": {
     "slide_type": "slide"
    }
   },
   "source": [
    "Алгоритм визуально выглядит довольно интуитивно - (1) у тебя есть вектор-стрелочка (2) шагай по стрелочке, пока не попадёшь на дно \"оврага\", который представляет собой целевую функцию . В трёхмерном случае оптимальное значение функции находится в центре концентрицеских эллипсов (эллипс - проекция трёхмерной фигуры функции потерь на плоскость):\n",
    "\n",
    "![grad_descent](img/grad_descent_intuit.png)"
   ]
  },
  {
   "cell_type": "markdown",
   "metadata": {
    "slideshow": {
     "slide_type": "slide"
    }
   },
   "source": [
    "Как туда добраться, двигаясь маленькими шажками?\n",
    "\n",
    "1. Стартуем алгоритм в случайной начальной точке $x^0$  \n",
    "1. Вычисляем направление антиградиента $-f'(x^0)$ (буквально: производная со знаком \"минус\")\n",
    "1. Перемещаемся по направлению градиента в точку $x^1 = x^0 - \\eta f'(x^0)$\n",
    "1. Повторяем шаги (1-3) для попадания в точку $x^2$\n",
    "1. $\\ldots$\n",
    "1. Profit! Достигли оптимальной точки $x^*$\n",
    "\n",
    "Алгоритм выше - универсальный, он позволяет найти точку минимума любой функции $f(x)$. А как же нам найти минимум функции качества линейной регрессии $L$?"
   ]
  },
  {
   "cell_type": "markdown",
   "metadata": {
    "slideshow": {
     "slide_type": "slide"
    }
   },
   "source": [
    "Чтобы реализовать алгоритм градиентного спуска, выпишем частные прозводные функции качества линейной регрессии $L$ для параметров $\\overline{w} = [w_1,\\ldots,w_m]$ в простейшем случае $n=1$, то есть для одного обучающего примера (одного наблюдения):\n",
    "$$\n",
    "\\left\\{\n",
    "\\begin{array}{cc}\n",
    "\\frac{\\partial L}{\\partial w_0} = 2\\cdot(-1)\\cdot1\\cdot (y_1 - (w_0x_0^1 + \\ldots+w_mx_m^1)) &\\\\\n",
    "\\frac{\\partial L}{\\partial w_k} = 2\\cdot(-1)\\cdot x_1^1 \\cdot (y_1 - (w_0x_0^1 + \\ldots+w_mx_m^1)) &  k\\neq 0\\\\\n",
    "\\end{array}\n",
    "\\right.\n",
    "$$\n",
    "\n",
    "В формуле все обозначения вам известны\n",
    "\n",
    "* $w_0, \\ldots, w_m$ - коэффициенты линейной регрессиии $m$ - количество фичей\n",
    "* $x_0, \\ldots, x_m$ - фичи."
   ]
  },
  {
   "cell_type": "markdown",
   "metadata": {
    "slideshow": {
     "slide_type": "slide"
    }
   },
   "source": [
    "Эту формулу с частными производными можно легко обобщить на случай, когда в обучающей выборке не один объект, а $n$ - просто добавляем сумму по всем объектам от 1 до $n$:\n",
    "$$\n",
    "\\left\\{\n",
    "\\begin{array}{cc}\n",
    "\\frac{\\partial L}{\\partial w_0} = \\frac{2}{n}\\cdot(-1)\\cdot \\sum_{i=1}^{n} 1\\cdot \\left(y_i - \\sum_{j=1}^{m}w_jx_j^i\\right) &\\\\\n",
    "\\frac{\\partial L}{\\partial w_k} = \\frac{2}{n}\\cdot(-1)\\cdot \\sum_{i=1}^{n} x_k^i \\cdot\\left(y_i - \\sum_{j=1}^{m}w_jx_j^i\\right) & k\\neq 0 \\\\\n",
    "\\end{array}\n",
    "\\right.\n",
    "$$\n",
    "\n",
    "Что значат переменные в этой формуле?\n",
    "* $n$ - число точек в обучающей выборке\n",
    "* $m$ - число фичей в датасете\n",
    "* $k$ - номер коэффициента в списке параметров линейной регрессии $w = [w_0,\\ldots,w_m]$\n",
    "* $y_i$ - значение целевой переменной на объекте обучающей выборки под номером $i$\n",
    "* $x_j^i$ - значение фичи под номером $j$ на объекте обучающей выборки под номером $i$\n"
   ]
  },
  {
   "cell_type": "markdown",
   "metadata": {
    "slideshow": {
     "slide_type": "slide"
    }
   },
   "source": [
    "Алгоритм градиентного спуска следующий:\n",
    "\n",
    "1. Вычислить градиент $\\nabla L(w)$\n",
    "1. Вычислить новый вектор  $w^{k+1} = w^k - \\eta\\nabla L(w)$\n",
    "1. Повторять пункты до тех пор, пока $w^{k+1}$ и $w^{k}$ не сойдутся вместе, то есть вектор весов перестанет обновляться\n",
    "\n",
    "Чтобы лучше понять этот метод, давайте реализуем его \"с нуля\" на языке Python"
   ]
  },
  {
   "cell_type": "markdown",
   "metadata": {
    "slideshow": {
     "slide_type": "slide"
    }
   },
   "source": [
    "Загружаем датасет из приложенного csv"
   ]
  },
  {
   "cell_type": "code",
   "execution_count": 70,
   "metadata": {},
   "outputs": [
    {
     "data": {
      "text/html": [
       "<div>\n",
       "<style scoped>\n",
       "    .dataframe tbody tr th:only-of-type {\n",
       "        vertical-align: middle;\n",
       "    }\n",
       "\n",
       "    .dataframe tbody tr th {\n",
       "        vertical-align: top;\n",
       "    }\n",
       "\n",
       "    .dataframe thead th {\n",
       "        text-align: right;\n",
       "    }\n",
       "</style>\n",
       "<table border=\"1\" class=\"dataframe\">\n",
       "  <thead>\n",
       "    <tr style=\"text-align: right;\">\n",
       "      <th></th>\n",
       "      <th>x_train</th>\n",
       "      <th>y_train</th>\n",
       "    </tr>\n",
       "  </thead>\n",
       "  <tbody>\n",
       "    <tr>\n",
       "      <th>5</th>\n",
       "      <td>1.182421</td>\n",
       "      <td>1.860341</td>\n",
       "    </tr>\n",
       "    <tr>\n",
       "      <th>6</th>\n",
       "      <td>1.251605</td>\n",
       "      <td>1.878928</td>\n",
       "    </tr>\n",
       "    <tr>\n",
       "      <th>7</th>\n",
       "      <td>1.270474</td>\n",
       "      <td>2.430015</td>\n",
       "    </tr>\n",
       "    <tr>\n",
       "      <th>8</th>\n",
       "      <td>1.402553</td>\n",
       "      <td>2.327856</td>\n",
       "    </tr>\n",
       "    <tr>\n",
       "      <th>9</th>\n",
       "      <td>1.427711</td>\n",
       "      <td>2.203649</td>\n",
       "    </tr>\n",
       "  </tbody>\n",
       "</table>\n",
       "</div>"
      ],
      "text/plain": [
       "    x_train   y_train\n",
       "5  1.182421  1.860341\n",
       "6  1.251605  1.878928\n",
       "7  1.270474  2.430015\n",
       "8  1.402553  2.327856\n",
       "9  1.427711  2.203649"
      ]
     },
     "execution_count": 70,
     "metadata": {},
     "output_type": "execute_result"
    }
   ],
   "source": [
    "import numpy as np\n",
    "import pandas as pd\n",
    "\n",
    "data = pd.read_csv('data/non_linear.csv', sep=',')\n",
    "data = data[(data.x_train > 1) & (data.x_train < 5)].copy()\n",
    "data.head()"
   ]
  },
  {
   "cell_type": "markdown",
   "metadata": {
    "slideshow": {
     "slide_type": "slide"
    }
   },
   "source": [
    "Отображаем точки на графике"
   ]
  },
  {
   "cell_type": "code",
   "execution_count": 71,
   "metadata": {},
   "outputs": [
    {
     "data": {
      "image/png": "[encoded data removed]",
      "text/plain": [
       "<Figure size 432x288 with 1 Axes>"
      ]
     },
     "metadata": {
      "needs_background": "light"
     },
     "output_type": "display_data"
    }
   ],
   "source": [
    "import matplotlib.pyplot as plt\n",
    "%matplotlib inline\n",
    "\n",
    "# основной график\n",
    "plt.scatter(data.x_train, data.y_train, 40, 'g', 'o', alpha=0.8, label='data')\n",
    "plt.show()"
   ]
  },
  {
   "cell_type": "markdown",
   "metadata": {
    "slideshow": {
     "slide_type": "slide"
    }
   },
   "source": [
    "Реализуем метод градиентного спуска:\n",
    "\n",
    "Вычисляем градиент"
   ]
  },
  {
   "cell_type": "code",
   "execution_count": 72,
   "metadata": {},
   "outputs": [],
   "source": [
    "from scipy.spatial import distance\n",
    "import numpy as np\n",
    "import matplotlib.pyplot as plt\n",
    "%matplotlib inline\n",
    "\n",
    "def gradient(X, y, w, alpha=0) -> np.array:\n",
    "    # количество обучающих примеров в выборке\n",
    "    n = X.shape[0]\n",
    "    # считаем прогноз\n",
    "    y_hat = X.dot(w.T)\n",
    "    # вычисляем ошибку прогноза\n",
    "    error = y - y_hat\n",
    "    # дальше pointwise перемножение - умножаем каждую из координат на ошибку\n",
    "    pointwise_errors = np.multiply(X, error) + X\n",
    "    # print(pointwise_errors.shape, X.shape, error.shape)\n",
    "    grad = pointwise_errors.sum(axis=0)*(-1.0)*2.0 / n\n",
    "    return grad, error"
   ]
  },
  {
   "cell_type": "markdown",
   "metadata": {
    "slideshow": {
     "slide_type": "slide"
    }
   },
   "source": [
    "Делаем шаг градиентного спуска"
   ]
  },
  {
   "cell_type": "code",
   "execution_count": 73,
   "metadata": {},
   "outputs": [],
   "source": [
    "def eval_w_next(X, y, eta, w_current):\n",
    "    # вычисляем градиент\n",
    "    grad, error = gradient(X, y, w_current)\n",
    "    # делаем шаг градиентного спуска\n",
    "    w_next = w_current - eta*grad\n",
    "    # проверяем условие сходимости\n",
    "    weight_evolution = distance.euclidean(w_current, w_next)\n",
    "    return (w_next, weight_evolution, grad)"
   ]
  },
  {
   "cell_type": "markdown",
   "metadata": {
    "slideshow": {
     "slide_type": "slide"
    }
   },
   "source": [
    "Повторяем шаги (1,2) до сходимости"
   ]
  },
  {
   "cell_type": "code",
   "execution_count": 74,
   "metadata": {},
   "outputs": [],
   "source": [
    "def gradient_descent(X: np.array, y: np.array, eta=0.01, epsilon=0.001) -> np.array:\n",
    "    m = X.shape[1] # количество фичей\n",
    "    # инициализируем рандомом веса\n",
    "    w = np.random.random(m).reshape(1, -1)\n",
    "    w_next, weight_evolution, grad = eval_w_next(X, y, eta, w)\n",
    "    step = 0\n",
    "    # повторяем до сходимости вектора весов\n",
    "    while weight_evolution > epsilon:\n",
    "        w = w_next\n",
    "        w_next, weight_evolution, grad = eval_w_next(X, y, eta, w)\n",
    "        step += 1\n",
    "        if step % 100 ==0:\n",
    "            print(\"step %s |w-w_next|=%.5f, grad=%s\" % (step, weight_evolution, grad))\n",
    "    return w"
   ]
  },
  {
   "cell_type": "markdown",
   "metadata": {},
   "source": [
    "Запускаем обучение"
   ]
  },
  {
   "cell_type": "code",
   "execution_count": 75,
   "metadata": {},
   "outputs": [
    {
     "name": "stdout",
     "output_type": "stream",
     "text": [
      "step 100 |w-w_next|=0.00570, grad=[-0.68411828  0.19762816]\n",
      "step 200 |w-w_next|=0.00469, grad=[-0.56297859  0.16263332]\n",
      "step 300 |w-w_next|=0.00386, grad=[-0.46328961  0.13383515]\n",
      "step 400 |w-w_next|=0.00317, grad=[-0.38125297  0.1101364 ]\n",
      "step 500 |w-w_next|=0.00261, grad=[-0.31374291  0.09063409]\n",
      "step 600 |w-w_next|=0.00215, grad=[-0.25818714  0.07458513]\n",
      "step 700 |w-w_next|=0.00177, grad=[-0.21246886  0.06137803]\n",
      "step 800 |w-w_next|=0.00146, grad=[-0.17484611  0.05050956]\n",
      "step 900 |w-w_next|=0.00120, grad=[-0.14388537  0.04156562]\n"
     ]
    }
   ],
   "source": [
    "# трансформируем плоский массив X в вектор-столбец\n",
    "X = data['x_train'].values.reshape(-1, 1)\n",
    "n = X.shape[0]\n",
    "# добавляем тривиальный признак w_0, столбец из единиц. См. прошлый урок, почему так\n",
    "X = np.hstack([\n",
    "    np.ones(n).reshape(-1,1),\n",
    "    X\n",
    "])\n",
    "w = gradient_descent(X, data['y_train'].values.reshape(-1, 1), eta=0.008)"
   ]
  },
  {
   "cell_type": "markdown",
   "metadata": {
    "slideshow": {
     "slide_type": "slide"
    }
   },
   "source": [
    "У нас произошло несколько сотен итераций, на каждой итерации мы:\n",
    "* вычисляем вектор весов\n",
    "* смотрим расстояние между новым вектором весов и векторов весов с предыдущего шага\n",
    "* если изменения в векторе весов небольшие (скажем, четвёртый знак поcле запятой) - останавливаем итерации\n",
    "\n",
    "Когда вектор перестаёт меняться - говорят, что алгоритм \"сошёлся\" (имеется в виду сходимость к оптимальной точке) - это значит, что итерации можно останавливать."
   ]
  },
  {
   "cell_type": "markdown",
   "metadata": {
    "slideshow": {
     "slide_type": "slide"
    }
   },
   "source": [
    "Применяем модель"
   ]
  },
  {
   "cell_type": "code",
   "execution_count": 76,
   "metadata": {},
   "outputs": [],
   "source": [
    "support = np.linspace(X.min(), X.max(), num=100)\n",
    "# делаем предикт - считаем предсказания модели в каждой точке обучающей выборке в виде y=X*w\n",
    "y_hat = np.hstack([\n",
    "    np.ones(support.size).reshape(-1, 1),\n",
    "    support.reshape(-1, 1)\n",
    "]).dot(w.T)"
   ]
  },
  {
   "cell_type": "markdown",
   "metadata": {
    "slideshow": {
     "slide_type": "slide"
    }
   },
   "source": [
    "Визуализируем результаты"
   ]
  },
  {
   "cell_type": "code",
   "execution_count": 77,
   "metadata": {
    "slideshow": {
     "slide_type": "fragment"
    }
   },
   "outputs": [
    {
     "data": {
      "image/png": "[encoded data removed]",
      "text/plain": [
       "<Figure size 432x288 with 1 Axes>"
      ]
     },
     "metadata": {
      "needs_background": "light"
     },
     "output_type": "display_data"
    }
   ],
   "source": [
    "# строим график\n",
    "plt.plot(support, y_hat, 'b--', alpha=0.5, label='manifold')\n",
    "plt.scatter(data['x_train'], data['y_train'], 40, 'g', 'o', alpha=0.8, label='data')\n",
    "plt.show()"
   ]
  },
  {
   "cell_type": "markdown",
   "metadata": {
    "slideshow": {
     "slide_type": "slide"
    }
   },
   "source": [
    "**Особенности градиентного спуска**\n",
    "\n",
    "1. Нужно подбирать параметр $\\eta$. Еcли выбрать параметр слишком малым, то обучение регрессии будет происходить слишком медленно. Если слишком большим - вычисления не сойдутся к оптимуму. Вариант решения - адаптивный выбор величины шага\n",
    "1. Долгие вычисления, если размер выборки $n$ становится большим. В этом случае мы можем вычислять градиент не по всей выборке за один шаг, а по одному случайному элементу выборки - в этом случае вычислений значительно меньше.\n",
    "\n",
    "Кроме того, градиент можно считать не только по одному объекту, но и по случайной подвыборке (батчу). Такая модификация алгоритма называется градиентным спуском по мини-батчам.\n",
    "\n",
    "\n",
    "Хорошая теория [тут](http://www.machinelearning.ru/wiki/images/6/68/voron-ML-Lin.pdf). Неплохая статья с разбором [формул обновления весов](https://medium.com/@lachlanmiller_52885/machine-learning-week-1-cost-function-gradient-descent-and-univariate-linear-regression-8f5fe69815fd). Видео от [специализации ШАД на coursera](https://ru.coursera.org/lecture/supervised-learning/gradiientnyi-spusk-dlia-linieinoi-rieghriessii-adARX)"
   ]
  },
  {
   "cell_type": "markdown",
   "metadata": {},
   "source": [
    "В домашке нужно будет написать свою реализацию SGD"
   ]
  },
  {
   "cell_type": "markdown",
   "metadata": {},
   "source": [
    "# Селекция моделей"
   ]
  },
  {
   "cell_type": "markdown",
   "metadata": {},
   "source": [
    "Мы узнали про достаточное количество алгоритмов машинного обучения и про то, как оценивать качество алгоритмов\n",
    "\n",
    "Следующий шаг - научиться настраивать алгоритмы для получения максимального качества\n",
    "\n",
    "\n",
    "## Feature engeneering\n",
    "\n",
    "В задачи unsupervised и supervised объединяет общий элемент - матрица *объекты* $\\times$ *признаки* размерность $m \\times n$, где $m$ - число объектов, а $n$ - число признаков\n",
    "\n",
    "$$\n",
    "X = \\left[\n",
    "\\begin{array}{cccc}\n",
    "x_{11} & x_{12} & \\ldots & x_{14} \\\\\n",
    "x_{21} & x_{22} & \\ldots & x_{14} \\\\\n",
    "\\ldots & \\ldots & \\ldots & \\ldots \\\\\n",
    "x_{m1} & x_{m2} & \\ldots & x_{mn} \\\\\n",
    "\\end{array}\n",
    "\\right]\n",
    "$$\n",
    "\n",
    "Таким образом, каждый объект описан признаками(фичами) в количестве $n$ штук: $x^i = (x_1, x_2, \\ldots, , x_n)$. Мы уже знаем, что фичи бывают численными и категориальными."
   ]
  },
  {
   "cell_type": "markdown",
   "metadata": {},
   "source": [
    "Фичи можно назвать \"топливом\" алгоритмов машинного обучения. Хорошие фичи позволят повысить качество решения задачи, примерно как на картинке\n",
    "\n",
    "![ml_blackbox](img/ml_blackbox.png)\n",
    "\n",
    "\n",
    "В алгоритмах машинного обучения и анализа данных часто встречаются требования к фичам входных данных\n",
    "* распределение данных\n",
    "* масштаб\n",
    "\n",
    "Перед аналитиком часто стоит задача трансформации (преобразования) входных данных таким образом, чтобы удовлетворить условиям алгоритма. Игнорирование требований к входным данным приводит некорректным выводам, это омновной принцип ML (и не только ML): **garbage in - garbage out**. Процесс \"придумывания\" фичей называется feature engineering\n",
    "\n",
    "В этом занятии поговорим о том, как трансформировать исходный csv файл в набор фичей"
   ]
  },
  {
   "cell_type": "markdown",
   "metadata": {},
   "source": [
    "### Непрерывные фичи\n",
    "\n",
    "В задачах линейной регрессии такие трансформации особенно важны - чтобы линейная регрессия хорошо работала должны выполняться следующие требования:\n",
    "\n",
    "* остатки регрессии должны иметь нормальное (гауссово) распределение\n",
    "* все фичи должны быть примерно в одном масшабе\n",
    "\n",
    "При подготовке данных для обучения линейной регрессии применяются следющие приемы: масштабирование и нормализация.\n",
    "\n",
    "#### Монотонные преобразования\n",
    "\n",
    "Существуют чисто инженерные приёмы первичной обработки данных, например для борьбы с большими по модулю значениями обычно используют\n",
    "\n",
    "* логарифмирование np.log\n",
    "* извлечение квадратного корня np.sqrt\n",
    "\n",
    "Оба этих преобразования являются *монотонными*, т.е. они меняют абсолютные значения, но сохраняют порядок величин.\n",
    "\n",
    "#### z-score\n",
    "\n",
    "Более интересный метод - это Standart Scaling или Z-score normalization. Это преобразование позволяет \"сгладить\" данные, избавить их от выбросов. Для этого есть инструмента [есть реализация в sklearn](https://scikit-learn.org/stable/modules/generated/sklearn.preprocessing.StandardScaler.html)\n"
   ]
  },
  {
   "cell_type": "code",
   "execution_count": 2,
   "metadata": {},
   "outputs": [
    {
     "name": "stdout",
     "output_type": "stream",
     "text": [
      "         Код                                               Тема  \\\n",
      "0  HYDRA-535  Пробрасывать пользовательское распределение pa...   \n",
      "1  HYDRA-534   Гибридный рекомендатель с multi-channel feedback   \n",
      "2  HYDRA-532         Джоба в дженкинсе для расчёта динамики РВП   \n",
      "\n",
      "       Компонент  Затрачено в часах  \n",
      "0        echidna                  1  \n",
      "1          hydra                  3  \n",
      "2  hydramatrices                  2  \n",
      "Сырой датасет: [ 1.  3.  2.  4.  2. 10.  2.  5.  2.  2.  1.  7.  5.  2.  5. 16. 10.  3.\n",
      " 24.]\n",
      "stat = 0.7262855768203735, p-value=0.00011633868416538462\n",
      "\n",
      "z-transform датасет: [-0.79860216 -0.4497874  -0.6241948  -0.27538007 -0.6241948   0.7710641\n",
      " -0.6241948  -0.10097268 -0.6241948  -0.6241948  -0.79860216  0.24784204\n",
      " -0.10097268 -0.6241948  -0.10097268  1.8175083   0.7710641  -0.4497874\n",
      "  3.2127674 ]\n",
      "stat = 0.7262856960296631, p-value=0.00011633900430751964\n",
      "\n",
      "Проверка на нормальность p_1 > p_2: True\n"
     ]
    }
   ],
   "source": [
    "import numpy as np\n",
    "import pandas as pd\n",
    "from sklearn.preprocessing import StandardScaler\n",
    "from scipy.stats import shapiro\n",
    "\n",
    "data = pd.read_csv('data/task.csv')\n",
    "print(data.head(3))\n",
    "\n",
    "raw_data = data[data.columns.values[-1]].values.astype(np.float32)\n",
    "print(\"Сырой датасет: %s\" % raw_data)\n",
    "print(\"stat = %s, p-value=%s\\n\" % shapiro(raw_data) )\n",
    "\n",
    "transformed_data = StandardScaler().fit_transform(raw_data.reshape(-1, 1)).reshape(-1)\n",
    "print(\"z-transform датасет: %s\" % transformed_data)\n",
    "print(\"stat = %s, p-value=%s\\n\" % shapiro(transformed_data) )\n",
    "\n",
    "print(\"Проверка на нормальность p_1 > p_2: %s\" % (shapiro(transformed_data)[1] > shapiro(raw_data)[1]))"
   ]
  },
  {
   "cell_type": "markdown",
   "metadata": {},
   "source": [
    "Тест Шапиро-Уилка показывает, что гипотеза о нормальном распределении данных стала чуть более вероятной, чем до \"Z-score\" нормализации.\n",
    "\n",
    "### min-max normalization\n",
    "\n",
    "Другой распространённый метод называется MinMax Scaling. Этот метод переносит все точки на отрезок [0-1]\n",
    "$$\n",
    "X_{scaled} = \\frac{X - X_{\\min}}{X_{\\max} - X_{\\min}}\n",
    "$$"
   ]
  },
  {
   "cell_type": "code",
   "execution_count": 3,
   "metadata": {},
   "outputs": [
    {
     "name": "stdout",
     "output_type": "stream",
     "text": [
      "Сырой датасет: [ 1.  3.  2.  4.  2. 10.  2.  5.  2.  2.  1.  7.  5.  2.  5. 16. 10.  3.\n",
      " 24.]\n",
      "Min-Max scale датасет: [0.         0.08695652 0.04347826 0.13043478 0.04347826 0.39130437\n",
      " 0.04347826 0.17391305 0.04347826 0.04347826 0.         0.2608696\n",
      " 0.17391305 0.04347826 0.17391305 0.65217394 0.39130437 0.08695652\n",
      " 1.        ]\n"
     ]
    }
   ],
   "source": [
    "from sklearn.preprocessing import MinMaxScaler\n",
    "\n",
    "\n",
    "print(\"Сырой датасет: %s\" % raw_data)\n",
    "\n",
    "transformed_data = MinMaxScaler().fit_transform(raw_data.reshape(-1, 1)).reshape(-1)\n",
    "\n",
    "print(\"Min-Max scale датасет: %s\" % transformed_data)"
   ]
  },
  {
   "cell_type": "markdown",
   "metadata": {},
   "source": [
    "\n",
    "## Категориальные фичи\n",
    "\n",
    "Категориальная переменная - это набор меток (классов). В приложенном затасете по задам столбец `Компонент` - категориальная фича, а `Затрачено в часах` - непрерывная\n"
   ]
  },
  {
   "cell_type": "code",
   "execution_count": 78,
   "metadata": {},
   "outputs": [
    {
     "data": {
      "text/html": [
       "<div>\n",
       "<style scoped>\n",
       "    .dataframe tbody tr th:only-of-type {\n",
       "        vertical-align: middle;\n",
       "    }\n",
       "\n",
       "    .dataframe tbody tr th {\n",
       "        vertical-align: top;\n",
       "    }\n",
       "\n",
       "    .dataframe thead th {\n",
       "        text-align: right;\n",
       "    }\n",
       "</style>\n",
       "<table border=\"1\" class=\"dataframe\">\n",
       "  <thead>\n",
       "    <tr style=\"text-align: right;\">\n",
       "      <th></th>\n",
       "      <th>Код</th>\n",
       "      <th>Тема</th>\n",
       "      <th>Компонент</th>\n",
       "      <th>Затрачено в часах</th>\n",
       "    </tr>\n",
       "  </thead>\n",
       "  <tbody>\n",
       "    <tr>\n",
       "      <th>0</th>\n",
       "      <td>HYDRA-535</td>\n",
       "      <td>Пробрасывать пользовательское распределение pa...</td>\n",
       "      <td>echidna</td>\n",
       "      <td>1</td>\n",
       "    </tr>\n",
       "    <tr>\n",
       "      <th>1</th>\n",
       "      <td>HYDRA-534</td>\n",
       "      <td>Гибридный рекомендатель с multi-channel feedback</td>\n",
       "      <td>hydra</td>\n",
       "      <td>3</td>\n",
       "    </tr>\n",
       "    <tr>\n",
       "      <th>2</th>\n",
       "      <td>HYDRA-532</td>\n",
       "      <td>Джоба в дженкинсе для расчёта динамики РВП</td>\n",
       "      <td>hydramatrices</td>\n",
       "      <td>2</td>\n",
       "    </tr>\n",
       "    <tr>\n",
       "      <th>3</th>\n",
       "      <td>HYDRA-531</td>\n",
       "      <td>Интеграция Hydra с Gamora</td>\n",
       "      <td>hydramatrices</td>\n",
       "      <td>4</td>\n",
       "    </tr>\n",
       "    <tr>\n",
       "      <th>4</th>\n",
       "      <td>HYDRA-530</td>\n",
       "      <td>Тестируем интеграцию с Jira</td>\n",
       "      <td>hydra</td>\n",
       "      <td>2</td>\n",
       "    </tr>\n",
       "  </tbody>\n",
       "</table>\n",
       "</div>"
      ],
      "text/plain": [
       "         Код                                               Тема  \\\n",
       "0  HYDRA-535  Пробрасывать пользовательское распределение pa...   \n",
       "1  HYDRA-534   Гибридный рекомендатель с multi-channel feedback   \n",
       "2  HYDRA-532         Джоба в дженкинсе для расчёта динамики РВП   \n",
       "3  HYDRA-531                          Интеграция Hydra с Gamora   \n",
       "4  HYDRA-530                        Тестируем интеграцию с Jira   \n",
       "\n",
       "       Компонент  Затрачено в часах  \n",
       "0        echidna                  1  \n",
       "1          hydra                  3  \n",
       "2  hydramatrices                  2  \n",
       "3  hydramatrices                  4  \n",
       "4          hydra                  2  "
      ]
     },
     "execution_count": 78,
     "metadata": {},
     "output_type": "execute_result"
    }
   ],
   "source": [
    "import pandas as pd\n",
    "\n",
    "df = pd.read_csv('data/task.csv')\n",
    "\n",
    "df.head()"
   ]
  },
  {
   "cell_type": "markdown",
   "metadata": {},
   "source": [
    "Посчитаем количество различных меток в поле \"Компонент\""
   ]
  },
  {
   "cell_type": "code",
   "execution_count": 79,
   "metadata": {},
   "outputs": [
    {
     "data": {
      "text/plain": [
       "hydra            11\n",
       "hydramatrices     6\n",
       "hydra_utils       1\n",
       "echidna           1\n",
       "Name: Компонент, dtype: int64"
      ]
     },
     "execution_count": 79,
     "metadata": {},
     "output_type": "execute_result"
    }
   ],
   "source": [
    "df['Компонент'].value_counts()"
   ]
  },
  {
   "cell_type": "markdown",
   "metadata": {},
   "source": [
    "### Кодирование One-Hot\n",
    "\n",
    "Кодируем вектор, где все нули и одна единица"
   ]
  },
  {
   "cell_type": "code",
   "execution_count": 80,
   "metadata": {},
   "outputs": [
    {
     "data": {
      "text/plain": [
       "array([[1., 0., 0., 0.],\n",
       "       [0., 1., 0., 0.],\n",
       "       [0., 0., 0., 1.],\n",
       "       [0., 0., 0., 1.],\n",
       "       [0., 1., 0., 0.],\n",
       "       [0., 1., 0., 0.],\n",
       "       [0., 1., 0., 0.],\n",
       "       [0., 1., 0., 0.],\n",
       "       [0., 1., 0., 0.],\n",
       "       [0., 1., 0., 0.],\n",
       "       [0., 0., 0., 1.],\n",
       "       [0., 1., 0., 0.],\n",
       "       [0., 0., 0., 1.],\n",
       "       [0., 0., 0., 1.],\n",
       "       [0., 1., 0., 0.],\n",
       "       [0., 0., 1., 0.],\n",
       "       [0., 1., 0., 0.],\n",
       "       [0., 0., 0., 1.],\n",
       "       [0., 1., 0., 0.]])"
      ]
     },
     "execution_count": 80,
     "metadata": {},
     "output_type": "execute_result"
    }
   ],
   "source": [
    "from sklearn.preprocessing import OneHotEncoder\n",
    "\n",
    "ohe = OneHotEncoder(handle_unknown='ignore')\n",
    "\n",
    "one_hot_encoded = ohe.fit_transform(df[['Компонент']])\n",
    "\n",
    "one_hot_encoded.toarray()"
   ]
  },
  {
   "cell_type": "markdown",
   "metadata": {},
   "source": [
    "### Hashing trick\n",
    "\n",
    "В случае, когда признаков слишком много, применяют хеширование\n",
    "\n"
   ]
  },
  {
   "cell_type": "code",
   "execution_count": 81,
   "metadata": {},
   "outputs": [
    {
     "name": "stdout",
     "output_type": "stream",
     "text": [
      "echidna -> 4\n",
      "hydra -> 8\n",
      "hydramatrices -> 5\n",
      "hydra_utils -> 8\n"
     ]
    }
   ],
   "source": [
    "for label in df['Компонент'].unique():\n",
    "    #print(label, '->', hash(label) % 8 )\n",
    "    print(label, '->', hash(label) % 12 )"
   ]
  },
  {
   "cell_type": "markdown",
   "metadata": {},
   "source": [
    "Премер хеширования (с формулами!) в [Лекциях от ВШЭ](https://github.com/esokolov/ml-course-hse/blob/master/2016-fall/lecture-notes/lecture06-linclass.pdf)"
   ]
  },
  {
   "cell_type": "markdown",
   "metadata": {},
   "source": [
    "Прекрасный разбор есть на хабре в статье от [ODS про feature engineering](https://habr.com/ru/company/ods/blog/326418/#rabota-s-kategorialnymi-priznakami-label-encoding-one-hot-encoding-hashing-trick)"
   ]
  },
  {
   "cell_type": "markdown",
   "metadata": {},
   "source": [
    "## Как извлекать фичи: тексты\n",
    "\n",
    "\n",
    "Bpdktrкак обработка естественного языка (англ. Natural Language Processing, NLP). NLP изучает проблемы компьютерного анализа естественных языков - т.е. языков, которые для общения используют люди (а не придуманных искусственно (например, азбука Морзе - язык, придуманный искусственно). Поговорим подробнее о том, зачем нужен NLP и где именно возникает задача обработки естественного языка."
   ]
  },
  {
   "cell_type": "markdown",
   "metadata": {},
   "source": [
    "Тексты - один из самых доступных и объёмных источников данных: легко собирать и просто хранить\n",
    "\n",
    "Например, если у вас интернет-магазин, то для анализа доступны\n",
    "\n",
    "* текстовые описания товаров\n",
    "* пользовательские комментарии\n",
    "* диалоги с продавцом-консультантом в чатике\n",
    "\n",
    "Текстовую информацию просто хранить, поэтому проекты накапливают огромные наборы данных такого рода и очень хотят извлекать из этих объёмов полезную информацию.\n",
    "\n",
    "Как специалист по ML в начале карьеры вы, скорее всего, встретите ряд “классических” задач - например, определение тональности (настроения) текста или классификации сообщений spam/not spam - для таких задач используются подходы, основанные на подсчёте статистик по встречающимся в тексте словам.\n",
    "Однако, есть и другие, более сложные задачи. \n",
    "\n",
    "Для решения применяются различные архитектуры нейросетей (RNN, LSTM) - это мощные инструменты, которые позволяют решать сложные задачи, например: \n",
    "\n",
    "* извлечения именованных сущностей ([NER](https://habr.com/ru/post/414175/), Named-Entity Recognizing)\n",
    "* автоматизированного перевода (например, сервис *google translate* производит перевод с помощью глубоких сетей)\n",
    "* Speech Recognition - распознавание речи, трансляция из аудио в текстовый вид\n",
    "* Natural Language Generation - генерация текстов, например можно генерировать подписи к картинкам"
   ]
  },
  {
   "cell_type": "markdown",
   "metadata": {},
   "source": [
    "У обработки естественного языка есть ряд особенностей:\n",
    "\n",
    "* необходимо размечать большой объём данных для обучения с учителем. Допустим, хотим отделять спам-сообщения от не спама. Вам нужно найти людей, которые прочитают все смс, которые удалось собрать и отметят те из них, которые являются спамом - текстов обычно очень много и разметка данных может оказаться дорогим удовольствием\n",
    "* модель, обученную на одном языке невозможно использовать для другого языка\n",
    "* важен как синтаксис, так и семантика (смысл). Например, во фразе: «Вот списки студентов, которые сдали зачет по физике» определение «которые сдали зачет по физике» относится к студентам, а в предложении: «Вот списки студентов, которые лежали в шкафу у декана»  структура фразы (тот самый синтаксис) такая же, как и предыдущей - но определение уже относится не к студентам, а к листкам бумаги. От компьютера мы хотим добиться, чтобы смыл обеих фраз был “понят” одинаково хорошо.\n",
    "\n",
    "Кроме того, для текстов на естественном языке довольно сложно проводить предобработку данных, этот этап сильно зависит от задачи, которую вы  решаете. Так, например, для задачи анализа тональности текста знаки препинания, скорее всего, не важны. Однако, для задачи извлечения именованных сущностей (именованная сущность - это имя собственное - например название организации или географического объекта) удалять знаки препинания не рекомендуется - это может привести к потере важной информации. Например если из фразы `Мы пошли обедать в “Берёзку”` если удалить все знаки препинания (кавычки) и заглавную букву в названии заведения то станет сложнее понять, что речь идёт о кафе."
   ]
  },
  {
   "cell_type": "markdown",
   "metadata": {},
   "source": [
    "Обработка текста складывается из двух этапов\n",
    "\n",
    "* предварительная обработка текста\n",
    "* векторизация текста\n",
    "\n",
    "#### Предварительная обработка текста\n",
    "\n",
    "Перед тем, как обучать модель, данные следует специальным образом подготовить. Подготовка данных включает в себя несколько обязательных этапов\n",
    "\n",
    "* удалить все нерелевантные символы (например, любые символы, не относящиеся к цифро-буквенным).\n",
    "* токенизировать текст, разделив его на индивидуальные слова (токены)\n",
    "* удалить нерелевантные слова — например, упоминания в Twitter или URL-ы.\n",
    "* перевести все символы в нижний регистр для того, чтобы слова «hello», «Hello» и «HELLO» были схлопнуты в один токен\n",
    "* исправление ошибок (\"молоко\" и \"молако\" - одно слово, но разные токены, не надо так)  \n",
    "* лемматизация - перевод слова в нормальную (словарную) форму (например, «машина» вместо «машиной»). Существительные должны быть приведены к единственному числу именительного падежа, глаголы - инфинитив и т.д.\n",
    "* стемминг - процедура, когда от слова переходим к его корню (\"помыть\" и \"мытый\" - корень \"мыт\"). То есть все \"помытые\" заменяем на \"мыт\"."
   ]
  },
  {
   "cell_type": "markdown",
   "metadata": {},
   "source": [
    "Все эти приёмы нужно применять с осторожностью и внимательно следить за тем, как тот или иной приём, применённый к исходному тексту, влияет на качество решения задачи (например, выявлению спама)\n",
    "\n",
    "Для демонстрации всех этих приёмов загрузим корпус (набор текстов) с твитами о продуктах. Для каждого твита размечена эмоциональная окраска - позитивная, нейтральная или негативная. Примечание: для  обработки текста воспользуемся библиотекой nltk, которая [доступна в anaconda](https://anaconda.org/anaconda/nltk)"
   ]
  },
  {
   "cell_type": "code",
   "execution_count": 91,
   "metadata": {},
   "outputs": [
    {
     "name": "stdout",
     "output_type": "stream",
     "text": [
      "(3904, 3)\n"
     ]
    },
    {
     "name": "stderr",
     "output_type": "stream",
     "text": [
      "[nltk_data] Downloading package punkt to ....\n",
      "[nltk_data]   Package punkt is already up-to-date!\n"
     ]
    },
    {
     "data": {
      "text/html": [
       "<div>\n",
       "<style scoped>\n",
       "    .dataframe tbody tr th:only-of-type {\n",
       "        vertical-align: middle;\n",
       "    }\n",
       "\n",
       "    .dataframe tbody tr th {\n",
       "        vertical-align: top;\n",
       "    }\n",
       "\n",
       "    .dataframe thead th {\n",
       "        text-align: right;\n",
       "    }\n",
       "</style>\n",
       "<table border=\"1\" class=\"dataframe\">\n",
       "  <thead>\n",
       "    <tr style=\"text-align: right;\">\n",
       "      <th></th>\n",
       "      <th>tweet_text</th>\n",
       "      <th>emotion_in_tweet_is_directed_at</th>\n",
       "      <th>is_there_an_emotion_directed_at_a_brand_or_product</th>\n",
       "    </tr>\n",
       "  </thead>\n",
       "  <tbody>\n",
       "    <tr>\n",
       "      <th>0</th>\n",
       "      <td>.@wesley83 I have a 3G iPhone. After 3 hrs twe...</td>\n",
       "      <td>iPhone</td>\n",
       "      <td>Negative emotion</td>\n",
       "    </tr>\n",
       "    <tr>\n",
       "      <th>1</th>\n",
       "      <td>@jessedee Know about @fludapp ? Awesome iPad/i...</td>\n",
       "      <td>iPad or iPhone App</td>\n",
       "      <td>Positive emotion</td>\n",
       "    </tr>\n",
       "    <tr>\n",
       "      <th>2</th>\n",
       "      <td>@swonderlin Can not wait for #iPad 2 also. The...</td>\n",
       "      <td>iPad</td>\n",
       "      <td>Positive emotion</td>\n",
       "    </tr>\n",
       "    <tr>\n",
       "      <th>3</th>\n",
       "      <td>@sxsw I hope this year's festival isn't as cra...</td>\n",
       "      <td>iPad or iPhone App</td>\n",
       "      <td>Negative emotion</td>\n",
       "    </tr>\n",
       "    <tr>\n",
       "      <th>4</th>\n",
       "      <td>@sxtxstate great stuff on Fri #SXSW: Marissa M...</td>\n",
       "      <td>Google</td>\n",
       "      <td>Positive emotion</td>\n",
       "    </tr>\n",
       "  </tbody>\n",
       "</table>\n",
       "</div>"
      ],
      "text/plain": [
       "                                          tweet_text  \\\n",
       "0  .@wesley83 I have a 3G iPhone. After 3 hrs twe...   \n",
       "1  @jessedee Know about @fludapp ? Awesome iPad/i...   \n",
       "2  @swonderlin Can not wait for #iPad 2 also. The...   \n",
       "3  @sxsw I hope this year's festival isn't as cra...   \n",
       "4  @sxtxstate great stuff on Fri #SXSW: Marissa M...   \n",
       "\n",
       "  emotion_in_tweet_is_directed_at  \\\n",
       "0                          iPhone   \n",
       "1              iPad or iPhone App   \n",
       "2                            iPad   \n",
       "3              iPad or iPhone App   \n",
       "4                          Google   \n",
       "\n",
       "  is_there_an_emotion_directed_at_a_brand_or_product  \n",
       "0                                   Negative emotion  \n",
       "1                                   Positive emotion  \n",
       "2                                   Positive emotion  \n",
       "3                                   Negative emotion  \n",
       "4                                   Positive emotion  "
      ]
     },
     "execution_count": 91,
     "metadata": {},
     "output_type": "execute_result"
    }
   ],
   "source": [
    "import nltk\n",
    "import string\n",
    "import pandas as pd\n",
    "\n",
    "# дополнительный словарь со знаками пунктуации\n",
    "nltk.download('punkt', download_dir='.')\n",
    "\n",
    "df = pd.read_csv('data/brand_tweets.csv', sep=',', encoding='utf8')\n",
    "# удаляем строки, в которых отсутствует текст твита\n",
    "df.drop(df[df.tweet_text.isnull()].index, inplace=True)\n",
    "print(df.shape)\n",
    "\n",
    "df.head()"
   ]
  },
  {
   "cell_type": "markdown",
   "metadata": {},
   "source": [
    "Для начала разделим текст на отдельные слова с помощью библиотечной функции word_tokenize, на примере первого документа в корпусе"
   ]
  },
  {
   "cell_type": "code",
   "execution_count": 92,
   "metadata": {},
   "outputs": [
    {
     "name": "stdout",
     "output_type": "stream",
     "text": [
      "== Исходный текст== \n",
      ".@wesley83 I have a 3G iPhone. After 3 hrs tweeting at #RISE_Austin, it was dead!  I need to upgrade. Plugin stations at #SXSW.\n",
      "\n",
      "\n",
      "== Токенизированный текст==\n",
      "['.', '@', 'wesley83', 'I', 'have', 'a', '3G', 'iPhone', '.', 'After', '3', 'hrs', 'tweeting', 'at', '#', 'RISE_Austin', ',', 'it', 'was', 'dead', '!', 'I', 'need', 'to', 'upgrade', '.', 'Plugin', 'stations', 'at', '#', 'SXSW', '.']\n"
     ]
    }
   ],
   "source": [
    "sample_str = df.tweet_text.values[0]\n",
    "\n",
    "print('== Исходный текст== \\n%s\\n\\n' % sample_str)\n",
    "\n",
    "tokenized_str = nltk.word_tokenize(sample_str)\n",
    "print('== Токенизированный текст==\\n%s' % tokenized_str)"
   ]
  },
  {
   "cell_type": "markdown",
   "metadata": {},
   "source": [
    "Отфильтруем знаки пунктуации, токены приведём к нижнему регистру"
   ]
  },
  {
   "cell_type": "code",
   "execution_count": 93,
   "metadata": {},
   "outputs": [
    {
     "name": "stdout",
     "output_type": "stream",
     "text": [
      "['wesley83', 'i', 'have', 'a', '3g', 'iphone', 'after', '3', 'hrs', 'tweeting', 'at', 'rise_austin', 'it', 'was', 'dead', 'i', 'need', 'to', 'upgrade', 'plugin', 'stations', 'at', 'sxsw']\n"
     ]
    }
   ],
   "source": [
    "tokens = [i.lower() for i in tokenized_str if ( i not in string.punctuation )]\n",
    "print(tokens)"
   ]
  },
  {
   "cell_type": "markdown",
   "metadata": {},
   "source": [
    "Удаляем стоп-слова, список которых для русского языка можно получить как `stop_words = nltk.corpus.stopwords.words('russian')`. Стоп-слова это \"мусорные\" слова которые встречаются чрезычайно часто (в каждом предложении) поэтому не несут в себе никакой информации. Такие слова, вобщем-то, нужны только для красивой речи и поэтому можем их смело удалять из текста. Например, этот список стоп-слов я нагуглил в интернете."
   ]
  },
  {
   "cell_type": "code",
   "execution_count": 94,
   "metadata": {},
   "outputs": [
    {
     "name": "stdout",
     "output_type": "stream",
     "text": [
      "['wesley83', '3g', 'iphone', '3', 'hrs', 'tweeting', 'rise_austin', 'dead', 'need', 'upgrade', 'plugin', 'stations', 'sxsw']\n"
     ]
    }
   ],
   "source": [
    "stop_words = [\n",
    "    'i', 'me', 'my', 'myself', 'we', 'our', 'ours', 'ourselves', 'you', \"you're\", \"you've\", \"you'll\", \"you'd\",\n",
    "    'your', 'yours', 'yourself', 'yourselves', 'he', 'him', 'his', 'himself', 'she', \"she's\", 'her', 'hers',\n",
    "    'herself', 'it', \"it's\", 'its', 'itself', 'they', 'them', 'their', 'theirs', 'themselves', 'what', 'which',\n",
    "    'who', 'whom', 'this', 'that', \"that'll\", 'these', 'those', 'am', 'is', 'are', 'was', 'were', 'be', 'been',\n",
    "    'being', 'have', 'has', 'had', 'having', 'do', 'does', 'did', 'doing', 'a', 'an', 'the', 'and', 'but', 'if',\n",
    "    'or', 'because', 'as', 'until', 'while', 'of', 'at', 'by', 'for', 'with', 'about', 'against', 'between',\n",
    "    'into', 'through', 'during', 'before', 'after', 'above', 'below', 'to', 'from', 'up', 'down', 'in', 'out',\n",
    "    'on', 'off', 'over', 'under', 'again', 'further', 'then', 'once', 'here', 'there', 'when', 'where', 'why',\n",
    "    'how', 'all', 'any', 'both', 'each', 'few', 'more', 'most', 'other', 'some', 'such', 'no', 'nor', 'not',\n",
    "    'only', 'own', 'same', 'so', 'than', 'too', 'very', 's', 't', 'can', 'will', 'just', 'don', \"don't\", 'shold',\n",
    "    \"should've\", 'now', 'd', 'll', 'm', 'o', 're', 've', 'y', 'ain', 'aren', \"aren't\", 'couldn', \"couldn't\",\n",
    "    'didn', \"didn't\", 'doesn', \"doesn't\", 'hadn', \"hadn't\", 'hasn', \"hasn't\", 'haven', \"haven't\", 'isn', \"isn't\",\n",
    "    'ma', 'mightn', \"mightn't\", 'mustn', \"mustn't\", 'needn', \"needn't\", 'shan', \"shan't\", 'shouldn', \"shouldn't\",\n",
    "    'wasn', \"wasn't\", 'weren', \"weren't\", 'won', \"won't\", 'wouldn', \"wouldn't\"\n",
    "]\n",
    "\n",
    "filtered_tokens = [i for i in tokens if ( i not in stop_words )]\n",
    "\n",
    "print(filtered_tokens)"
   ]
  },
  {
   "cell_type": "markdown",
   "metadata": {},
   "source": [
    "#### Домашнее задание\n",
    "\n",
    "Реализуем пайплайн в виде функции, при помощи которой обработаем все текстовые описания. Для каждого описания\n",
    "* проводим токенизацию\n",
    "* удаляем пунктуацию\n",
    "* приводим к нижнему регистру\n",
    "* удаляем стоп-слова\n",
    "\n",
    "\n",
    "Примените процедуру токенизации к файлу brand_tweets_valid.csv\n",
    "\n",
    "Сколько уникальных токенов получилось?"
   ]
  },
  {
   "cell_type": "code",
   "execution_count": 96,
   "metadata": {},
   "outputs": [
    {
     "data": {
      "text/plain": [
       "0    [.@wesley83, i, have, a, 3g, iphone., after, 3...\n",
       "1    [@jessedee, know, about, @fludapp, awesome, ip...\n",
       "2    [@swonderlin, can, not, wait, for, #ipad, 2, a...\n",
       "3    [@sxsw, i, hope, this, year's, festival, isn't...\n",
       "4    [@sxtxstate, great, stuff, on, fri, #sxsw:, ma...\n",
       "Name: tokenized, dtype: object"
      ]
     },
     "execution_count": 96,
     "metadata": {},
     "output_type": "execute_result"
    }
   ],
   "source": [
    "def tokenize_text(raw_text: str):\n",
    "    \"\"\"Функция для токенизации текста\n",
    "    \n",
    "    :param raw_text: исходная текстовая строка\n",
    "    \"\"\"\n",
    "    filtered_tokens = []\n",
    "    # -- ВАШ КОД ТУТ --\n",
    "    \n",
    "    filtered_tokens = [i.lower() for i in raw_text.split() if ( i not in string.punctuation )]\n",
    "    \n",
    "    # -----------------\n",
    "    return filtered_tokens\n",
    "\n",
    "# применяем функцию в датафрейму с помощью метода .apply()\n",
    "tokenized_tweets= df.tweet_text.apply(tokenize_text)\n",
    "\n",
    "# добавляем новую колонку в исходный датафрейм\n",
    "df = df.assign(\n",
    "    tokenized=tokenized_tweets\n",
    ")\n",
    "\n",
    "df.tokenized.head()"
   ]
  },
  {
   "cell_type": "markdown",
   "metadata": {},
   "source": [
    "Следующий шаг - привести слово в нормальную (словарную) форму. Для русского языка мы уже проводить нормализацию можно с помощью модуля pyMorphy, который отлично подходит для русского языка\n",
    "\n",
    "<pre>\n",
    "import pymorphy2\n",
    "\n",
    "morph = pymorphy2.MorphAnalyzer()\n",
    "parsed_token = morph.parse(word)\n",
    "normal_form = parsed_token[0].normal_form\n",
    "</pre>\n",
    "\n",
    "В силу того, что наши твиты на английском языке, то этап нормализации не слишком актуален.\n",
    "\n"
   ]
  },
  {
   "cell_type": "markdown",
   "metadata": {},
   "source": [
    "### Векторизация текста: Bag of Words\n",
    "\n",
    "\n",
    "Мы умеем подготавливать текст к обработке: приводить слова к начальным формам, разделять текст на токены, удалять \"мусорные\" токены (стоп-слова). Однако, мы знаем, что нейросети работают не с текстом, а с числами. Давайте разбираться, как переводить токены в числа, то есть с тем, как работает векторизация\n",
    "\n",
    "Bag of Words - это способ перейти от набора токенов к численному вектору. Алгоритм векторизации текста по модели BoW:\n",
    "\n",
    "1. определяем количество $N$ различных токенов во всех доступных текста - так называемый \"словарь\"\n",
    "1. присваиваем каждому токену случайный номер от $0$ до $N$\n",
    "1. для каждого документа $i$ формируем вектор размерности $N$ - ставим на позицию $j$ количество вхождений токена с номером $j$, которые содержатся в тексте $i$.\n",
    "\n",
    "Каждый токен мы по сути представляем в виде вектора размерности $N$, который состоит из нулей и всего одной единицы, такое кодирование называется *One-Hot encoding*. А каждый документ это \"сумма\" всех one-hot векторов входящих в него токенов\n",
    "\n",
    "Такой подход хорошо иллюстрируется картинкой:\n",
    "\n",
    "![bow](img/bow.png)"
   ]
  },
  {
   "cell_type": "markdown",
   "metadata": {},
   "source": [
    "Для каждого элемента получаем вектор из нулей и единиц. При этом размерность словаря обычно составляет несколько десятков тысяч, а количество токенов в одном документе несколько десятков - то есть нулей значительно больше, чем единиц - такие данные называются *разреженными*.\n",
    "\n",
    "В таком виде данные уже пригодны для работы с нейросетью или любым другим алгоритмом ML, однако есть несколько довольно простых и полезных вещей, которые мы можем сделать и без нейросетей. Давайте сначала разберем их, а потом вернемся к нейросетям. Такое представление текста позволяет решать интересные задачи - например, находить самые похожие друг на друга тексты. Чтобы как-то формализовать понятие \"схожести\" текстов, вводится понятие *косинусного расстояния* между двумя векторами текстов $a$ и $b$ размерности $N$. С этой метрикой вы [можете познакомиться в Википедии](https://ru.wikipedia.org/wiki/Векторная_модель#Косинусное_сходство ), формула такая для двух векторов $a$ и $b$ с координатами $a_i$ и $b_i$ соответственно:\n",
    "$$\n",
    "\\text{similarity} = \\cos (\\theta) = 1 - \\frac{\\sum_{i=1}^{N}a_ib_i}{\\sqrt{\\sum_{i=1}^{N}(a_i)^2}\\sqrt{\\sum_{i=1}^{N}(b_i)^2}}\n",
    "$$\n",
    "\n",
    "Интуитивное объяснение для простого случая: два документа полностью совпадают, тогда единички в них стоят на одних и тех же местах - расстояние между ними будет нулевым. Если два текста совершенно не пересекаются, то единички будут стоять на разных местах - расстояние в этом случае равно единице. Самостоятельно реализовывать функцию не нужно - есть готовая реализация в [scipy.spatial.distance.cosine](https://docs.scipy.org/doc/scipy-0.14.0/reference/generated/scipy.spatial.distance.cosine.html)\n",
    "\n",
    "Векторизуем наш корпус (набор текстов) с помощью класса `CountVectorizer()` (то есть превращаем наборы токенов в наборы векторов)"
   ]
  },
  {
   "cell_type": "code",
   "execution_count": 97,
   "metadata": {},
   "outputs": [
    {
     "data": {
      "text/plain": [
       "<3904x10795 sparse matrix of type '<class 'numpy.int64'>'\n",
       "\twith 64190 stored elements in Compressed Sparse Row format>"
      ]
     },
     "execution_count": 97,
     "metadata": {},
     "output_type": "execute_result"
    }
   ],
   "source": [
    "from sklearn.feature_extraction.text import CountVectorizer\n",
    "\n",
    "# инициализируем объект, который токенизирует наш текст\n",
    "# в качестве единственного аргимента передаём функцию, которую мы написали в Уроке 2\n",
    "# на разбивает каждый документ на токены\n",
    "vectorizer = CountVectorizer(tokenizer=tokenize_text)\n",
    "# применяем наш объект-токенизатор к датафрейму с твитами\n",
    "document_matrix = vectorizer.fit_transform(df.tweet_text.values)\n",
    "# результат - матрица, в которой находятся числа, строк в мастрице столько, сколько документов\n",
    "# а столбцов столько, сколько токенов\n",
    "document_matrix"
   ]
  },
  {
   "cell_type": "markdown",
   "metadata": {},
   "source": [
    "Класс `sklearn.feature_extraction.text.CountVectorizer` реализует алгоритм преобразования массива текстовых документов в разреженную матрицу такую, что\n",
    "\n",
    "* число строк совпадает с количеством документов в исходном датафрейме\n",
    "* количество столбцов совпадает с количеством различных токенов\n",
    "* объект `CountVectorizer()` содержит в себе разные вспомогательные элементы - например, словарь соответствия токена и его номера\n",
    "\n",
    "Полученные вектора можно использовать в алгоритмах второго уровня - например, в задаче классификации отзывов.\n",
    "\n",
    "Пользуясь матрицей, найдем твит, который максимально похож на первый твит из набора:"
   ]
  },
  {
   "cell_type": "code",
   "execution_count": 98,
   "metadata": {},
   "outputs": [
    {
     "name": "stdout",
     "output_type": "stream",
     "text": [
      ".@wesley83 I have a 3G iPhone. After 3 hrs tweeting at #RISE_Austin, it was dead!  I need to upgrade. Plugin stations at #SXSW.\n"
     ]
    }
   ],
   "source": [
    "source_tweet_index = 0\n",
    "print(df.iloc[source_tweet_index].tweet_text)"
   ]
  },
  {
   "cell_type": "markdown",
   "metadata": {},
   "source": [
    "Вычисляем попарные схожести между элементами разреженной матрицы"
   ]
  },
  {
   "cell_type": "code",
   "execution_count": 99,
   "metadata": {},
   "outputs": [
    {
     "data": {
      "text/plain": [
       "(3904, 3904)"
      ]
     },
     "execution_count": 99,
     "metadata": {},
     "output_type": "execute_result"
    }
   ],
   "source": [
    "from sklearn.metrics import pairwise_distances\n",
    "\n",
    "tweet_distance = 1-pairwise_distances(document_matrix, metric=\"cosine\")\n",
    "\n",
    "tweet_distance.shape"
   ]
  },
  {
   "cell_type": "markdown",
   "metadata": {},
   "source": [
    "Мы получили квадратную матрицy, которая содержит столько строк и столбцов, сколько документов в нашем  корпусе  (наборе текстов)."
   ]
  },
  {
   "cell_type": "code",
   "execution_count": 100,
   "metadata": {},
   "outputs": [
    {
     "data": {
      "text/plain": [
       "array([   0,  633, 3562, ..., 3115, 3121, 2003])"
      ]
     },
     "execution_count": 100,
     "metadata": {},
     "output_type": "execute_result"
    }
   ],
   "source": [
    "import numpy as np\n",
    "\n",
    "# отсортируем твиты по “похожести” - чем похожее на source_tweet_index,\n",
    "# тем ближе к началу списка sorted_similarity\n",
    "sorted_similarity = np.argsort(-tweet_distance[source_tweet_index,:])\n",
    "\n",
    "sorted_similarity"
   ]
  },
  {
   "cell_type": "markdown",
   "metadata": {},
   "source": [
    "Мы получили вектор \"схожестей\", который содержит индексы похожих твитов, расположенных по убыванию схожести. Больше всего твит похож сам на себя, поэтому возьмём индекс второго по схожести элемента (и далее)."
   ]
  },
  {
   "cell_type": "code",
   "execution_count": 101,
   "metadata": {},
   "outputs": [
    {
     "name": "stdout",
     "output_type": "stream",
     "text": [
      ".@wesley83 I have a 3G iPhone. After 3 hrs tweeting at #RISE_Austin, it was dead!  I need to upgrade. Plugin stations at #SXSW.\n",
      "-------------\n",
      ".@mention I have a 3G iPhone. After 3 hrs tweeting at #RISE_Austin, it was dead!  I need to upgrade. Plugin stations at #SXSW.\n",
      "-------------\n",
      "@mention I think I got it because I bought something at apple - and it assumes that I'm at the apple popup store at #sxsw\n",
      "-------------\n",
      "If I were at #SXSW I could spend it all at the @mention Teaching Theater alone; just look at that schedule: {link}\n"
     ]
    }
   ],
   "source": [
    "print(df.iloc[0].tweet_text)\n",
    "print('-------------')\n",
    "print(df.iloc[sorted_similarity[1]].tweet_text)\n",
    "print('-------------')\n",
    "print(df.iloc[sorted_similarity[2]].tweet_text)\n",
    "print('-------------')\n",
    "print(df.iloc[sorted_similarity[3]].tweet_text)"
   ]
  },
  {
   "cell_type": "markdown",
   "metadata": {},
   "source": [
    "Мы получили мощный инструмент для анализа текстов - например, мы случайно нашли дубликат твита\n",
    "\n",
    "Кроме простого подхода, когда мы вычисляем счётчик вхождения токена, можно вычислять более сложную метрику TF-IDF (term frequency - inverse document frequency), которая вычисляется по следующей формуле для токена $t$ и документа $d$:\n",
    "$$\n",
    "\\text{tf-idf}(t,d) = \\text{tf}(t,d)\\cdot\\text{idf}(t)\n",
    "$$\n",
    "\n",
    "Где $\\text{tf}(t,d)$ - элемент матрицы, полученной из `CountVectorizer()`, который мы умножаем на величину $\\text{idf}(t)$. \n",
    "\n",
    "Эта величина показывает количество документов в корпусе  (наборе текстов), в которых был встречен токен $t$:\n",
    "$$\n",
    "\\text{idf}(t) = \\log\\frac{1+N}{1+\\text{df(t)}} + 1\n",
    "$$\n",
    "\n",
    "где $\\text{df}(t)$ - количество документов корпуса, в которых был встречен токен $t$. Таким образом мы понижаем веса у слов, которые встречаются почти во всех документах - такие токены являются неинформативными и мусорными, алгоритм понижает их \"важность\" для анализа."
   ]
  },
  {
   "cell_type": "markdown",
   "metadata": {},
   "source": [
    "Алгоритм TF-IDF лучше подходит для анализа текстов и даёт более высокое качество, но более затратен по вычислениям. Как выбрать между этими алгоритмами?\n",
    "\n",
    "* если токенов менее 10000 используйте TF-IDF\n",
    "* если токенов более 10000 то *попробуйте* использовать TF-IDF, если не получится - возвращайтесь к CountVectorizer\n",
    "\n",
    "**Недостатки BoW подхода** Используя алгоритмы вроде Вag of Words, мы теряем порядок слов в тексте, а значит, тексты \"i have no cows\" и \"no, i have cows\" будут идентичными после векторизации, хотя и противоположными семантически. Чтобы избежать этой проблемы, можно сделать шаг назад и изменить подход к токенизации: например, использовать N-граммы (комбинации из N последовательных токенов). Обычно по корпусу  (набору текстов) формируются биграммы (последовательности из двух слов) или триграммы (последовательности из трёх слов)\n",
    "\n",
    "Кроме того, текст можно разбивать не на слова, а на последовательности букв - при таком подходе опечатки будут автоматически учитываться."
   ]
  },
  {
   "cell_type": "markdown",
   "metadata": {},
   "source": [
    "#### Домашнее задание\n",
    "\n",
    "Потренируйтесь в нахождении матрицы схожести для валидационного сета\n",
    "\n",
    "загрузите brand_tweets_valid.csv\n",
    "примените объект vectorizer, обученный на датасете brand_tweets.csv (просто скопируйте этот код из урока)\n",
    "примените функцию pairwise_distances к полученной матрице"
   ]
  },
  {
   "cell_type": "code",
   "execution_count": 14,
   "metadata": {},
   "outputs": [],
   "source": [
    "import pandas as pd\n",
    "\n",
    "df_valid = pd.read_csv('data/brand_tweets_valid.csv', sep=',', encoding='utf8')\n",
    "# удаляем строки, в которых отсутствует текст твита\n",
    "df_valid.drop(df_valid[df_valid.tweet_text.isnull()].index, inplace=True)\n",
    "\n",
    "# -- ВАШ КОД ТУТ --\n",
    "\n"
   ]
  },
  {
   "cell_type": "markdown",
   "metadata": {},
   "source": [
    "* Пользуясь матрицей схожести, полученной на предыдущем этапе, найдите top-5 твитов, похожих на твит валидационного сета с id=14.\n",
    "\n",
    "У вас есть матрица схожести между объектами. Попробуйте решить задачу поиска дубликатов в тексте\n",
    "\n",
    "1. Визуализируйте гистограмму значений в матрице схожести\n",
    "1. Напишите функцию на Python, которая принимает индекс твита, пороговое значение (число от $0.0$ до $1.0$ и матрицу схожести, а затем выводит все твиты, схожесть которых больше, чем пороговое значение"
   ]
  },
  {
   "cell_type": "markdown",
   "metadata": {},
   "source": [
    "## Другие подходы к векторизации: Word2Vec\n",
    "\n",
    "Это более новый алгоритм, чем BoW.\n",
    "\n",
    "Алгоритм предполагает, что мы  уже разбили документы на токены и готовы скормить наши токены нейросети, которая сделает из каждого токена плотный вектор-эмбеддинг."
   ]
  },
  {
   "cell_type": "markdown",
   "metadata": {},
   "source": [
    "При подходе BoW мы представляем каждый документ в виде разреженного вектора-строки, где размерность вектора соответствует количеству токенов в словаре. \n",
    "\n",
    "Нетрудно заметить, что при таком подходе игнорируется контекст, в котором находится слово. Например, в двух предложениях \"король издал указ\" и  \"правитель издал указ\" слова *король* и *правитель* являются синонимами, потому что используются в одинаковом контекста. Подход *BoW* не сможет уловить отношение синонимии.\n"
   ]
  },
  {
   "cell_type": "markdown",
   "metadata": {},
   "source": [
    "Эту проблему решает подход `Word Embedding`, при котором каждое слово представляет собой вектор большой размерности (обычно несколько сотен). В отличие от подхода BoW, при котором каждое слово представляет собой разреженный вектор, *word embedding* - это \"плотный\" вектор. Классическим алгоритмом, вычисляющим эмбеддинги (то есть \"плотные\" вектора) слов, является Word2Vec, предложена чешским аспирантом Томашем Миколовым в 2013 году. Эта модель позволяет формировать векторы, которые отражают взаимоотношения между словами: \"король\" относится к \"королеве\" так же как \"женщина\" к \"мужчине\"\n",
    "\n",
    "![word_vectors](img/word_vectors.png)"
   ]
  },
  {
   "cell_type": "markdown",
   "metadata": {},
   "source": [
    "Подход Word2Vec основан на интуитивно понятной гипотезе, которая называется гипотезой локальности — \"слова, которые встречаются в одинаковых окружениях, имеют близкие значения\". Эта гипотеза приводит к двум способам тренировки моделей: *Continious Bag of Words* (когда по контексту предсказываем слово) и *Skip Gram* - когда по слову пытаемся предсказать его контекст. Эмбеддинги, полученные с помощью обоих подходов оказываются идентичными - можно применять любой из них."
   ]
  },
  {
   "cell_type": "markdown",
   "metadata": {},
   "source": [
    "Пример контекста: \n",
    "\n",
    "*Машинное обучение это* **класс** *методов искусственного интеллекта*\n",
    "\n",
    "Мы видим, что из текста вырезается окно текста, слово в центре окна мы хотим предсказать, используя слова по краям \"окна\" (тот самый *контекст*).\n",
    "\n",
    "На схеме представлены оба подхода:\n",
    "\n",
    "![word2vec](img/word2vec.png)"
   ]
  },
  {
   "cell_type": "markdown",
   "metadata": {},
   "source": [
    "На картинке представлен алгоритм тренировки *W2V* в виде простой нейросети:\n",
    "![w2v_net](img/w2v_net.png)"
   ]
  },
  {
   "cell_type": "markdown",
   "metadata": {},
   "source": [
    "На схеме слева-направо:\n",
    "\n",
    "* Входной вектор $(x_1,\\ldots,x_v)$ - слово из словаря, закодированное One-Hot\n",
    "* $W_{V\\times N}$ - матрица *word input* -  это эмбеддинги, которые мы обучаем\n",
    "* Эмбеддинг слова контекста $(h_1,\\ldots,h_N)$\n",
    "* $W`_{N\\times V}$ - матрица *word output* -  это тоже эмбеддинги но уже другие (они тоже обучаются в процессе)\n",
    "* Выходной вектор $(y_1,\\ldots,y_V)$ - скор для каждого слова из словаря размерности $V$\n"
   ]
  },
  {
   "cell_type": "markdown",
   "metadata": {},
   "source": [
    "Мы видим два матричных перемножения - на самом деле W2V представляет собой очень простую нейронную сеть прямого распространения, *feed forward*. \n",
    "\n",
    "На схеме видны две матрицы-скрытые слои. На самом деле это эмбеддинги контента, которые мы обучаем, каждая строка - эмбеддинг размерности N. Матрица эмбеддингов размером (ЧИСЛО СЛОВ В СЛОВАРЕ) X (РАЗМЕРНОСТЬ ЭМБЕДДИНГА) в начале обучения инициализируется рандомными числами, которые “превращаются” в осмысленные эмбеддинги, пока сеть обучается методом обратного распространения ошибки"
   ]
  },
  {
   "cell_type": "markdown",
   "metadata": {},
   "source": [
    "На последнем слое мы получаем скоры для каждого слова из словаря. Скор (от англ score) с индексом i - это “уверенность” сети в том, что слово i может быть в контексте слова, которое мы прокидываем через сеть. То есть мы “кормим” сеть контекстом и уменьшаем лосс в случае, когда по контексту правильно удалось распознать слово внутри контекста. Слово с максимальным скором - это предсказание нашей сети. Зная \"истинное\" слово, которое мы предсказываем и то, что предсказала сеть, мы будем \"подкручивать\" веса эмбеддингов таким образом, чтобы лосс уменьшался и начинаем все лучше предсказывать слово по контексту."
   ]
  },
  {
   "cell_type": "markdown",
   "metadata": {},
   "source": [
    "Ниже показано, как работает, модификация *CBOW* - через нашу \"сеть\" пропускается каждое слово из контекста, мы пытаемся спрогнозировать слово \"внутри\" контекста:\n",
    "\n",
    "![cbow](img/cbow.png)"
   ]
  },
  {
   "cell_type": "markdown",
   "metadata": {},
   "source": [
    "В питоне существует модуль `gensim` который включает в себя библиотеки для обучения W2V. Этот модуль доступен для установки в [пакете Anaconda](https://anaconda.org/anaconda/gensim)\n",
    "\n",
    "Давайте применим алгоритм CBOW к нашему тексту:"
   ]
  },
  {
   "cell_type": "code",
   "execution_count": 102,
   "metadata": {},
   "outputs": [
    {
     "ename": "ModuleNotFoundError",
     "evalue": "No module named 'gensim'",
     "output_type": "error",
     "traceback": [
      "\u001b[0;31m---------------------------------------------------------------------------\u001b[0m",
      "\u001b[0;31mModuleNotFoundError\u001b[0m                       Traceback (most recent call last)",
      "\u001b[0;32m<ipython-input-102-fe0bed36045f>\u001b[0m in \u001b[0;36m<module>\u001b[0;34m\u001b[0m\n\u001b[0;32m----> 1\u001b[0;31m \u001b[0;32mfrom\u001b[0m \u001b[0mgensim\u001b[0m\u001b[0;34m.\u001b[0m\u001b[0mmodels\u001b[0m \u001b[0;32mimport\u001b[0m \u001b[0mWord2Vec\u001b[0m\u001b[0;34m\u001b[0m\u001b[0;34m\u001b[0m\u001b[0m\n\u001b[0m\u001b[1;32m      2\u001b[0m \u001b[0;32mimport\u001b[0m \u001b[0mlogging\u001b[0m\u001b[0;34m\u001b[0m\u001b[0;34m\u001b[0m\u001b[0m\n\u001b[1;32m      3\u001b[0m \u001b[0;34m\u001b[0m\u001b[0m\n\u001b[1;32m      4\u001b[0m \u001b[0mlogging\u001b[0m\u001b[0;34m.\u001b[0m\u001b[0mbasicConfig\u001b[0m\u001b[0;34m(\u001b[0m\u001b[0mformat\u001b[0m\u001b[0;34m=\u001b[0m\u001b[0;34m'%(asctime)s : %(levelname)s : %(message)s'\u001b[0m\u001b[0;34m,\u001b[0m \u001b[0mlevel\u001b[0m\u001b[0;34m=\u001b[0m\u001b[0mlogging\u001b[0m\u001b[0;34m.\u001b[0m\u001b[0mINFO\u001b[0m\u001b[0;34m)\u001b[0m\u001b[0;34m\u001b[0m\u001b[0;34m\u001b[0m\u001b[0m\n\u001b[1;32m      5\u001b[0m \u001b[0;34m\u001b[0m\u001b[0m\n",
      "\u001b[0;31mModuleNotFoundError\u001b[0m: No module named 'gensim'"
     ]
    }
   ],
   "source": [
    "from gensim.models import Word2Vec\n",
    "import logging\n",
    "\n",
    "logging.basicConfig(format='%(asctime)s : %(levelname)s : %(message)s', level=logging.INFO)\n",
    "\n",
    "texts = df.tokenized.values\n",
    "\n",
    "model = Word2Vec(texts, size=10, window=7, min_count=2, workers=4, iter=10, sg=0)"
   ]
  },
  {
   "cell_type": "markdown",
   "metadata": {},
   "source": [
    "Мы обучили эмбеддинги слов. Давайте проверим, какой вектор обучился для слова `android`"
   ]
  },
  {
   "cell_type": "code",
   "execution_count": 120,
   "metadata": {},
   "outputs": [
    {
     "data": {
      "text/plain": [
       "array([ 0.26981112,  1.2430197 , -3.6010602 ,  0.98848987,  0.6809826 ,\n",
       "        2.8977017 , -0.6469272 , -0.03298385,  0.0875835 , -0.9362278 ],\n",
       "      dtype=float32)"
      ]
     },
     "execution_count": 120,
     "metadata": {},
     "output_type": "execute_result"
    }
   ],
   "source": [
    "model.wv.get_vector('android')"
   ]
  },
  {
   "cell_type": "markdown",
   "metadata": {},
   "source": [
    "Мы видим набор цифр - это вектор длины 10. Давайте найдём, какие слова соответствуют максимально похожим векторам"
   ]
  },
  {
   "cell_type": "code",
   "execution_count": 121,
   "metadata": {},
   "outputs": [
    {
     "data": {
      "text/plain": [
       "[('blackberry', 0.9917972087860107),\n",
       " ('iphone', 0.9915081858634949),\n",
       " ('updates', 0.9836416840553284),\n",
       " ('shoes', 0.9720171689987183),\n",
       " ('condensed', 0.9703693985939026),\n",
       " ('christian', 0.968561053276062),\n",
       " ('angrybirds', 0.9650596976280212),\n",
       " ('whiteboarding', 0.9633722901344299),\n",
       " ('yo', 0.9629340767860413),\n",
       " ('grill', 0.9623512029647827)]"
      ]
     },
     "execution_count": 121,
     "metadata": {},
     "output_type": "execute_result"
    }
   ],
   "source": [
    "model.wv.most_similar('android')"
   ]
  },
  {
   "cell_type": "markdown",
   "metadata": {},
   "source": [
    "Мы видим, что модель обучила похожие вектора для слов `blackberry`, `iphone`  - это всё названия телефонов, то есть модель работает!\n",
    "\n",
    "На основе векторизованных слов можно строить векторное описание целого предложения - такой алгоритм называется `doc2vec`. "
   ]
  },
  {
   "cell_type": "markdown",
   "metadata": {},
   "source": [
    "Вывод: [модель W2V](http://www.1-4-5.net/~dmm/ml/how_does_word2vec_work.pdf) которая позволяет превращать схожие слова в \"близкие\" векторы, ориентируясь на контекст"
   ]
  },
  {
   "cell_type": "markdown",
   "metadata": {},
   "source": []
  },
  {
   "cell_type": "code",
   "execution_count": null,
   "metadata": {},
   "outputs": [],
   "source": []
  }
 ],
 "metadata": {
  "kernelspec": {
   "display_name": "Python 3",
   "language": "python",
   "name": "python3"
  },
  "language_info": {
   "codemirror_mode": {
    "name": "ipython",
    "version": 3
   },
   "file_extension": ".py",
   "mimetype": "text/x-python",
   "name": "python",
   "nbconvert_exporter": "python",
   "pygments_lexer": "ipython3",
   "version": "3.6.9"
  }
 },
 "nbformat": 4,
 "nbformat_minor": 4
}
